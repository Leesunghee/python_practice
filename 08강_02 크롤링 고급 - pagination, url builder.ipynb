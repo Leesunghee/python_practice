{
  "cells": [
    {
      "metadata": {
        "trusted": true
      },
      "cell_type": "code",
      "source": "# 네이버 블로그 페이지 크롤링",
      "execution_count": 1,
      "outputs": []
    },
    {
      "metadata": {
        "trusted": true
      },
      "cell_type": "code",
      "source": "import requests",
      "execution_count": 2,
      "outputs": []
    },
    {
      "metadata": {
        "trusted": true
      },
      "cell_type": "code",
      "source": "response = requests.get(\"http://naver.com\")",
      "execution_count": 3,
      "outputs": []
    },
    {
      "metadata": {
        "trusted": true
      },
      "cell_type": "code",
      "source": "import time\nimport random",
      "execution_count": 4,
      "outputs": []
    },
    {
      "metadata": {
        "trusted": true
      },
      "cell_type": "code",
      "source": "for page_id in range(1, 100):\n    sleeping = random.randint(30, 100)\n    print(str(page_id) + \"를 크롤링합니다.\")\n    time.sleep(sleeping)\n    ",
      "execution_count": null,
      "outputs": [
        {
          "output_type": "stream",
          "text": "1를 크롤링합니다.\n2를 크롤링합니다.\n",
          "name": "stdout"
        }
      ]
    },
    {
      "metadata": {
        "trusted": true
      },
      "cell_type": "code",
      "source": "# 비동기 Task 처리 => Asyncronous Task => Celery (*)",
      "execution_count": 8,
      "outputs": []
    },
    {
      "metadata": {
        "trusted": true
      },
      "cell_type": "code",
      "source": "for page_num in range(1, 100):\n    start = (page_num - 1) * 10 + 1\n#     print(start)\n    BASE_URL = \"http://naver.com/search?query=아이폰&start=\" + str(start)\n    print(BASE_URL)",
      "execution_count": 3,
      "outputs": [
        {
          "output_type": "stream",
          "text": "http://naver.com/search?query=아이폰&start=1\nhttp://naver.com/search?query=아이폰&start=11\nhttp://naver.com/search?query=아이폰&start=21\nhttp://naver.com/search?query=아이폰&start=31\nhttp://naver.com/search?query=아이폰&start=41\nhttp://naver.com/search?query=아이폰&start=51\nhttp://naver.com/search?query=아이폰&start=61\nhttp://naver.com/search?query=아이폰&start=71\nhttp://naver.com/search?query=아이폰&start=81\nhttp://naver.com/search?query=아이폰&start=91\nhttp://naver.com/search?query=아이폰&start=101\nhttp://naver.com/search?query=아이폰&start=111\nhttp://naver.com/search?query=아이폰&start=121\nhttp://naver.com/search?query=아이폰&start=131\nhttp://naver.com/search?query=아이폰&start=141\nhttp://naver.com/search?query=아이폰&start=151\nhttp://naver.com/search?query=아이폰&start=161\nhttp://naver.com/search?query=아이폰&start=171\nhttp://naver.com/search?query=아이폰&start=181\nhttp://naver.com/search?query=아이폰&start=191\nhttp://naver.com/search?query=아이폰&start=201\nhttp://naver.com/search?query=아이폰&start=211\nhttp://naver.com/search?query=아이폰&start=221\nhttp://naver.com/search?query=아이폰&start=231\nhttp://naver.com/search?query=아이폰&start=241\nhttp://naver.com/search?query=아이폰&start=251\nhttp://naver.com/search?query=아이폰&start=261\nhttp://naver.com/search?query=아이폰&start=271\nhttp://naver.com/search?query=아이폰&start=281\nhttp://naver.com/search?query=아이폰&start=291\nhttp://naver.com/search?query=아이폰&start=301\nhttp://naver.com/search?query=아이폰&start=311\nhttp://naver.com/search?query=아이폰&start=321\nhttp://naver.com/search?query=아이폰&start=331\nhttp://naver.com/search?query=아이폰&start=341\nhttp://naver.com/search?query=아이폰&start=351\nhttp://naver.com/search?query=아이폰&start=361\nhttp://naver.com/search?query=아이폰&start=371\nhttp://naver.com/search?query=아이폰&start=381\nhttp://naver.com/search?query=아이폰&start=391\nhttp://naver.com/search?query=아이폰&start=401\nhttp://naver.com/search?query=아이폰&start=411\nhttp://naver.com/search?query=아이폰&start=421\nhttp://naver.com/search?query=아이폰&start=431\nhttp://naver.com/search?query=아이폰&start=441\nhttp://naver.com/search?query=아이폰&start=451\nhttp://naver.com/search?query=아이폰&start=461\nhttp://naver.com/search?query=아이폰&start=471\nhttp://naver.com/search?query=아이폰&start=481\nhttp://naver.com/search?query=아이폰&start=491\nhttp://naver.com/search?query=아이폰&start=501\nhttp://naver.com/search?query=아이폰&start=511\nhttp://naver.com/search?query=아이폰&start=521\nhttp://naver.com/search?query=아이폰&start=531\nhttp://naver.com/search?query=아이폰&start=541\nhttp://naver.com/search?query=아이폰&start=551\nhttp://naver.com/search?query=아이폰&start=561\nhttp://naver.com/search?query=아이폰&start=571\nhttp://naver.com/search?query=아이폰&start=581\nhttp://naver.com/search?query=아이폰&start=591\nhttp://naver.com/search?query=아이폰&start=601\nhttp://naver.com/search?query=아이폰&start=611\nhttp://naver.com/search?query=아이폰&start=621\nhttp://naver.com/search?query=아이폰&start=631\nhttp://naver.com/search?query=아이폰&start=641\nhttp://naver.com/search?query=아이폰&start=651\nhttp://naver.com/search?query=아이폰&start=661\nhttp://naver.com/search?query=아이폰&start=671\nhttp://naver.com/search?query=아이폰&start=681\nhttp://naver.com/search?query=아이폰&start=691\nhttp://naver.com/search?query=아이폰&start=701\nhttp://naver.com/search?query=아이폰&start=711\nhttp://naver.com/search?query=아이폰&start=721\nhttp://naver.com/search?query=아이폰&start=731\nhttp://naver.com/search?query=아이폰&start=741\nhttp://naver.com/search?query=아이폰&start=751\nhttp://naver.com/search?query=아이폰&start=761\nhttp://naver.com/search?query=아이폰&start=771\nhttp://naver.com/search?query=아이폰&start=781\nhttp://naver.com/search?query=아이폰&start=791\nhttp://naver.com/search?query=아이폰&start=801\nhttp://naver.com/search?query=아이폰&start=811\nhttp://naver.com/search?query=아이폰&start=821\nhttp://naver.com/search?query=아이폰&start=831\nhttp://naver.com/search?query=아이폰&start=841\nhttp://naver.com/search?query=아이폰&start=851\nhttp://naver.com/search?query=아이폰&start=861\nhttp://naver.com/search?query=아이폰&start=871\nhttp://naver.com/search?query=아이폰&start=881\nhttp://naver.com/search?query=아이폰&start=891\nhttp://naver.com/search?query=아이폰&start=901\nhttp://naver.com/search?query=아이폰&start=911\nhttp://naver.com/search?query=아이폰&start=921\nhttp://naver.com/search?query=아이폰&start=931\nhttp://naver.com/search?query=아이폰&start=941\nhttp://naver.com/search?query=아이폰&start=951\nhttp://naver.com/search?query=아이폰&start=961\nhttp://naver.com/search?query=아이폰&start=971\nhttp://naver.com/search?query=아이폰&start=981\n",
          "name": "stdout"
        }
      ]
    },
    {
      "metadata": {
        "trusted": true
      },
      "cell_type": "code",
      "source": "# 직방 100001 - 101000 ( 1000개 ) \n# request 를 10번만 보내기 => 즉 1000번 => 100번 * 10회 ",
      "execution_count": 5,
      "outputs": []
    },
    {
      "metadata": {
        "trusted": true
      },
      "cell_type": "code",
      "source": "import random",
      "execution_count": 6,
      "outputs": []
    },
    {
      "metadata": {
        "trusted": true
      },
      "cell_type": "code",
      "source": "a = [\n    random.randint(100001, 101000)\n    for i \n    in range(100)\n]\na = list(set(a))",
      "execution_count": 7,
      "outputs": []
    },
    {
      "metadata": {
        "trusted": true
      },
      "cell_type": "code",
      "source": "import requests\nimport json",
      "execution_count": 9,
      "outputs": []
    },
    {
      "metadata": {
        "trusted": true
      },
      "cell_type": "code",
      "source": "# 1번째, 100001 => 100100 ( 100개 ) \n# 2번째, 100101 => 100200 ( 100개 )\n# 3번째, 100201 => 100300 ( 100개 )\n# ...",
      "execution_count": 10,
      "outputs": []
    },
    {
      "metadata": {
        "trusted": true
      },
      "cell_type": "code",
      "source": "for i in range(10):\n    start_room_id = 100000 + (i * 100) + 1\n    end_room_id = 100000 + ((i + 1) * 100)\n    print((start_room_id, end_room_id))\n    \n    # &item_ids=[ _____ , _____ ... ]\n    \n    BASE_URL = \"https://api.zigbang.com/v3/items?detail=true&item_ids=[\"\n#     result_url = BASE_URL\n    \n#     for room_id in range(start_room_id, end_room_id + 1):\n#         result_url = result_url + \"\" + str(room_id) + \",\"\n#     result_url = result_url + \"]\" \n\n    result_url = BASE_URL + \",\".join([\n        str(room_id)\n        for room_id in range(start_room_id, end_room_id + 1)\n    ]) + \"]\"\n    \n    \nprint(result_url)\n        # base_url\n#         pass\n# join + list comprehension \n# https://api.zigbang.com/v3/items?detail=true&item_ids=[2342342, 2342434, ...]",
      "execution_count": 14,
      "outputs": [
        {
          "output_type": "stream",
          "text": "(100001, 100100)\n(100101, 100200)\n(100201, 100300)\n(100301, 100400)\n(100401, 100500)\n(100501, 100600)\n(100601, 100700)\n(100701, 100800)\n(100801, 100900)\n(100901, 101000)\nhttps://api.zigbang.com/v3/items?detail=true&item_ids=[100901,100902,100903,100904,100905,100906,100907,100908,100909,100910,100911,100912,100913,100914,100915,100916,100917,100918,100919,100920,100921,100922,100923,100924,100925,100926,100927,100928,100929,100930,100931,100932,100933,100934,100935,100936,100937,100938,100939,100940,100941,100942,100943,100944,100945,100946,100947,100948,100949,100950,100951,100952,100953,100954,100955,100956,100957,100958,100959,100960,100961,100962,100963,100964,100965,100966,100967,100968,100969,100970,100971,100972,100973,100974,100975,100976,100977,100978,100979,100980,100981,100982,100983,100984,100985,100986,100987,100988,100989,100990,100991,100992,100993,100994,100995,100996,100997,100998,100999,101000]\n",
          "name": "stdout"
        }
      ]
    },
    {
      "metadata": {
        "trusted": true
      },
      "cell_type": "code",
      "source": "",
      "execution_count": null,
      "outputs": []
    }
  ],
  "metadata": {
    "kernelspec": {
      "name": "python36",
      "display_name": "Python 3.6",
      "language": "python"
    },
    "language_info": {
      "mimetype": "text/x-python",
      "nbconvert_exporter": "python",
      "name": "python",
      "pygments_lexer": "ipython3",
      "version": "3.6.6",
      "file_extension": ".py",
      "codemirror_mode": {
        "version": 3,
        "name": "ipython"
      }
    }
  },
  "nbformat": 4,
  "nbformat_minor": 2
}