{
  "cells": [
    {
      "metadata": {
        "trusted": true
      },
      "cell_type": "code",
      "source": "MAX = 1000\nnoprimes = [\n    j\n    for i in range(2, int(MAX ** 0.5) + 1)\n    for j in range(i * 2, MAX, i)\n]\n\nprimes = [\n    x for x in range(2, MAX) if x not in noprimes\n]\n\n# print(primes)\n\nnoprimes = map(lambda i: map(lambda j: j, range(i * 2, MAX, i)), range(2, int(MAX ** 0.5) + 1))",
      "execution_count": 1,
      "outputs": []
    },
    {
      "metadata": {
        "trusted": true
      },
      "cell_type": "code",
      "source": "import functools\nword_list = [\"패\", \"스\", \"트\", \"캠\", \"퍼\", \"스\"]\n\nfunctools.reduce(lambda x, y: x + y, word_list[0:3])\n\n\"\".join(word_list[0:3])\n\nfunctools.reduce(lambda x, y: x + '*' + y, word_list[0:3])\n\n\"*\".join(word_list[0:3])\n",
      "execution_count": 2,
      "outputs": [
        {
          "output_type": "execute_result",
          "execution_count": 2,
          "data": {
            "text/plain": "'패*스*트'"
          },
          "metadata": {}
        }
      ]
    },
    {
      "metadata": {
        "trusted": true
      },
      "cell_type": "code",
      "source": "# Splirt => Join \ndef word_replace3(sentence, old, new):\n    return new.join(sentence.split(old))\n\n\"캠퍼스 패스트트랙아시아에 운영한다.\"\n#=> [\"캠퍼스\", 트랙아시에 운영한다.]\n\"패스트캠퍼스 패스트트랙아시아에 운영한다.\".split(\"패\")\n\n# word_replace3(\"패스트캠퍼스\", \"패스트\", \"Fast\")\n\n\n\"패스트캠퍼스 패스트트랙아시아에 운영한다.\"",
      "execution_count": 3,
      "outputs": [
        {
          "output_type": "execute_result",
          "execution_count": 3,
          "data": {
            "text/plain": "'패스트캠퍼스 패스트트랙아시아에 운영한다.'"
          },
          "metadata": {}
        }
      ]
    },
    {
      "metadata": {
        "trusted": true
      },
      "cell_type": "code",
      "source": "txt = \"#apple#banana#cherry#orange\"\n\nx = txt.split(\"#\")\nprint(x)",
      "execution_count": 4,
      "outputs": [
        {
          "output_type": "stream",
          "text": "['', 'apple', 'banana', 'cherry', 'orange']\n",
          "name": "stdout"
        }
      ]
    },
    {
      "metadata": {
        "trusted": true
      },
      "cell_type": "code",
      "source": "date_list = [\"목\", \"금\", \"토\", \"일\", \"월\", \"화\", \"수\"]\nchanged_day = {}\nfor i in range(7):\n    changed_day[i] = date_list[i] + \"요일\"",
      "execution_count": 5,
      "outputs": []
    },
    {
      "metadata": {
        "trusted": true
      },
      "cell_type": "code",
      "source": "changed_day",
      "execution_count": 6,
      "outputs": [
        {
          "output_type": "execute_result",
          "execution_count": 6,
          "data": {
            "text/plain": "{0: '목요일', 1: '금요일', 2: '토요일', 3: '일요일', 4: '월요일', 5: '화요일', 6: '수요일'}"
          },
          "metadata": {}
        }
      ]
    },
    {
      "metadata": {
        "trusted": true
      },
      "cell_type": "code",
      "source": "import functools\nawesome_dict = {'campus':1, 'asia': 1, 'track': 1, 'fast': 3, 'fastcampus': 1}\n\nfunctools.reduce(lambda x, y: x if len(x) > len(y) else y, awesome_dict)\n\nmax_length = len(functools.reduce(lambda x, y: x if len(x) > len(y) else y, awesome_dict))\nmax_length",
      "execution_count": 7,
      "outputs": [
        {
          "output_type": "execute_result",
          "execution_count": 7,
          "data": {
            "text/plain": "10"
          },
          "metadata": {}
        }
      ]
    },
    {
      "metadata": {
        "trusted": true
      },
      "cell_type": "code",
      "source": "awesome_dict = {'campus':1, 'asia': 1, 'track': 1, 'fast': 3, 'fastcampus': 1}\nawesome_dict[\"asia\"]",
      "execution_count": 8,
      "outputs": [
        {
          "output_type": "execute_result",
          "execution_count": 8,
          "data": {
            "text/plain": "1"
          },
          "metadata": {}
        }
      ]
    },
    {
      "metadata": {
        "trusted": true
      },
      "cell_type": "code",
      "source": "awesome_dict[\"school\"]",
      "execution_count": 9,
      "outputs": [
        {
          "output_type": "error",
          "ename": "KeyError",
          "evalue": "'school'",
          "traceback": [
            "\u001b[0;31m---------------------------------------------------------------------------\u001b[0m",
            "\u001b[0;31mKeyError\u001b[0m                                  Traceback (most recent call last)",
            "\u001b[0;32m<ipython-input-9-05d8ef6ae34c>\u001b[0m in \u001b[0;36m<module>\u001b[0;34m()\u001b[0m\n\u001b[0;32m----> 1\u001b[0;31m \u001b[0mawesome_dict\u001b[0m\u001b[0;34m[\u001b[0m\u001b[0;34m\"school\"\u001b[0m\u001b[0;34m]\u001b[0m\u001b[0;34m\u001b[0m\u001b[0m\n\u001b[0m",
            "\u001b[0;31mKeyError\u001b[0m: 'school'"
          ]
        }
      ]
    },
    {
      "metadata": {
        "trusted": true
      },
      "cell_type": "code",
      "source": "awesome_dict.get(\"school\") # None = False\nawesome_dict.get(\"school\", 0) # 없으면 기본값을 줄 수 있다 #0",
      "execution_count": 11,
      "outputs": [
        {
          "output_type": "execute_result",
          "execution_count": 11,
          "data": {
            "text/plain": "0"
          },
          "metadata": {}
        }
      ]
    },
    {
      "metadata": {
        "trusted": true
      },
      "cell_type": "code",
      "source": "def fibonacci(n):\n    # 현재값(i), 이전의 피보나치 값(i-1) => i + 1\n        prev_n = 0\n        cur_n = 1\n        i = 1\n        while i < n:\n            temp_n = cur_n\n            cur_n = cur_n + prev_n\n            prev_n = temp_n\n            i += 1\n        return cur_n",
      "execution_count": 12,
      "outputs": []
    },
    {
      "metadata": {
        "trusted": true
      },
      "cell_type": "code",
      "source": "fibonacci(8)",
      "execution_count": 13,
      "outputs": [
        {
          "output_type": "execute_result",
          "execution_count": 13,
          "data": {
            "text/plain": "21"
          },
          "metadata": {}
        }
      ]
    },
    {
      "metadata": {
        "trusted": true
      },
      "cell_type": "code",
      "source": "def fibonacci2(n):\n    # 현재값(i), 이전의 피보나치 값(i-1) => i + 1\n        prev_n, cur_n = 0, 1 # tuple\n        i = 1\n        while i < n:\n            cur_n, prev_n = cur_n + prev_n, cur_n # temp_n 가 필요없이 바로 관계가 있는 2개의 값을 바꿀 수 있습니다.\n            i += 1\n        return cur_n",
      "execution_count": 14,
      "outputs": []
    },
    {
      "metadata": {
        "trusted": true
      },
      "cell_type": "code",
      "source": "fibonacci2(8)",
      "execution_count": 15,
      "outputs": [
        {
          "output_type": "execute_result",
          "execution_count": 15,
          "data": {
            "text/plain": "21"
          },
          "metadata": {}
        }
      ]
    },
    {
      "metadata": {
        "trusted": true
      },
      "cell_type": "code",
      "source": "# 재귀 함수 (recursive function)\n# f(n) = f(n-1) + f(n-2)\ndef fibonacci2_re(n):\n    if n <= 0:\n        return 0\n    if n == 1:\n        return 1\n    return fibonacci2_re(n - 1) + fibonacci2_re(n - 2)\n",
      "execution_count": 16,
      "outputs": []
    },
    {
      "metadata": {
        "trusted": true
      },
      "cell_type": "code",
      "source": "fibonacci2_re(8)",
      "execution_count": 17,
      "outputs": [
        {
          "output_type": "execute_result",
          "execution_count": 17,
          "data": {
            "text/plain": "21"
          },
          "metadata": {}
        }
      ]
    },
    {
      "metadata": {
        "trusted": true
      },
      "cell_type": "code",
      "source": "\n# [0, 1, 2, 3, 4, 5, 6, 7, ... ]\n# [0, 1, 1, 2, 3, 5, 8, 13, 21, ...] 피보나치 수열의 결과값\nmemo = [0, 1]\ndef fibonacci2_df(n):\n    if n <= 0:\n        return 0\n    if n == 1:\n        return 1\n    if len(memo) - 1 >= n:\n        return memo[n]\n    if len(memo) - 1 < n:\n        new_number = fibonacci2_df(n - 1) + fibonacci2_df(n - 2)\n        memo.append(new_number)\n        return new_number",
      "execution_count": 32,
      "outputs": []
    },
    {
      "metadata": {
        "trusted": true
      },
      "cell_type": "code",
      "source": "fibonacci2_df(8)",
      "execution_count": 19,
      "outputs": [
        {
          "output_type": "execute_result",
          "execution_count": 19,
          "data": {
            "text/plain": "21"
          },
          "metadata": {}
        }
      ]
    },
    {
      "metadata": {
        "trusted": true
      },
      "cell_type": "code",
      "source": "memo",
      "execution_count": 20,
      "outputs": [
        {
          "output_type": "execute_result",
          "execution_count": 20,
          "data": {
            "text/plain": "[0, 1, 1, 2, 3, 5, 8, 13, 21]"
          },
          "metadata": {}
        }
      ]
    },
    {
      "metadata": {
        "trusted": true
      },
      "cell_type": "code",
      "source": "# 시간을 측정하는 함수 \nimport time",
      "execution_count": 21,
      "outputs": []
    },
    {
      "metadata": {
        "trusted": true
      },
      "cell_type": "code",
      "source": "start_time = time.time()\nend_time = time.time()",
      "execution_count": 22,
      "outputs": []
    },
    {
      "metadata": {
        "trusted": true
      },
      "cell_type": "code",
      "source": "end_time - start_time",
      "execution_count": 23,
      "outputs": [
        {
          "output_type": "execute_result",
          "execution_count": 23,
          "data": {
            "text/plain": "2.3603439331054688e-05"
          },
          "metadata": {}
        }
      ]
    },
    {
      "metadata": {
        "trusted": true
      },
      "cell_type": "code",
      "source": "# 1. 2, 3 각각의 시간을 측정해볼게요. => 측정하는 함수\n# 1-100 까지의 피보나치 수열을 구하는 시간 \n\n[fibonacci2_re(i) for i in range(20)]\nimport time",
      "execution_count": 27,
      "outputs": []
    },
    {
      "metadata": {
        "trusted": true
      },
      "cell_type": "code",
      "source": "start_time = time.time()\nfibonacci2_re(30)\nend_time = time.time()\n\nend_time - start_time",
      "execution_count": 39,
      "outputs": [
        {
          "output_type": "execute_result",
          "execution_count": 39,
          "data": {
            "text/plain": "0.7062366008758545"
          },
          "metadata": {}
        }
      ]
    },
    {
      "metadata": {
        "trusted": true
      },
      "cell_type": "code",
      "source": "start_time = time.time()\nfibonacci2_df(30)\nend_time = time.time()\n\nend_time - start_time",
      "execution_count": 38,
      "outputs": [
        {
          "output_type": "execute_result",
          "execution_count": 38,
          "data": {
            "text/plain": "5.269050598144531e-05"
          },
          "metadata": {}
        }
      ]
    },
    {
      "metadata": {
        "trusted": true
      },
      "cell_type": "code",
      "source": "def get_timer(function, n):\n    start_time = time.time()\n    function(n)\n    end_time = time.time()\n    return end_time - start_time\n",
      "execution_count": 41,
      "outputs": []
    },
    {
      "metadata": {
        "trusted": true
      },
      "cell_type": "code",
      "source": "get_timer(fibonacci2_re, 20)",
      "execution_count": 42,
      "outputs": [
        {
          "output_type": "execute_result",
          "execution_count": 42,
          "data": {
            "text/plain": "0.008421897888183594"
          },
          "metadata": {}
        }
      ]
    },
    {
      "metadata": {
        "trusted": true
      },
      "cell_type": "code",
      "source": "get_timer(fibonacci2_df, 20)",
      "execution_count": 43,
      "outputs": [
        {
          "output_type": "execute_result",
          "execution_count": 43,
          "data": {
            "text/plain": "3.814697265625e-06"
          },
          "metadata": {}
        }
      ]
    },
    {
      "metadata": {
        "trusted": true
      },
      "cell_type": "code",
      "source": "# fibonacci(20) 그냥 실행시키면서 => 실행과 동시에 timer 가 실행되었으면\n# decorator( \"장식자 \" X)",
      "execution_count": 44,
      "outputs": []
    },
    {
      "metadata": {
        "trusted": true
      },
      "cell_type": "code",
      "source": "# 함수를 입력받아 => 새로운 함수를 리턴하는 함수\nimport time\ndef get_timer(function):\n    def warapper():\n        pass\n    return wrapper",
      "execution_count": 5,
      "outputs": []
    },
    {
      "metadata": {
        "trusted": true
      },
      "cell_type": "code",
      "source": "def get_timer(function):\n    def wrapper(*args, **kwargs):\n        start_time = time.time()\n        result = function(*args, **kwargs)\n        end_time = time.time()\n        print(\"{time}s 초 걸렸습니다.\".format(time = end_time-start_time))\n        return result\n    return wrapper",
      "execution_count": 6,
      "outputs": []
    },
    {
      "metadata": {
        "trusted": true
      },
      "cell_type": "code",
      "source": "\n# [0, 1, 2, 3, 4, 5, 6, 7, ... ]\n# [0, 1, 1, 2, 3, 5, 8, 13, 21, ...] 피보나치 수열의 결과값\nmemo = [0, 1]\n@get_timer\ndef fibonacci_df(n):\n    if n <= 0:\n        return 0\n    if n == 1:\n        return 1\n    if len(memo) - 1 >= n:\n        return memo[n]\n    if len(memo) - 1 < n:\n        new_number = fibonacci_df(n - 1) + fibonacci_df(n - 2)\n        memo.append(new_number)\n        return new_number",
      "execution_count": 9,
      "outputs": []
    },
    {
      "metadata": {
        "trusted": true
      },
      "cell_type": "code",
      "source": "fibonacci_df(20)",
      "execution_count": 10,
      "outputs": [
        {
          "output_type": "stream",
          "text": "1.430511474609375e-06s 초 걸렸습니다.\n1.430511474609375e-06s 초 걸렸습니다.\n0.0013813972473144531s 초 걸렸습니다.\n1.1920928955078125e-06s 초 걸렸습니다.\n0.002034425735473633s 초 걸렸습니다.\n2.6226043701171875e-06s 초 걸렸습니다.\n0.0025682449340820312s 초 걸렸습니다.\n2.86102294921875e-06s 초 걸렸습니다.\n0.0033309459686279297s 초 걸렸습니다.\n2.1457672119140625e-06s 초 걸렸습니다.\n0.0038797855377197266s 초 걸렸습니다.\n2.6226043701171875e-06s 초 걸렸습니다.\n0.00458073616027832s 초 걸렸습니다.\n2.1457672119140625e-06s 초 걸렸습니다.\n0.005125761032104492s 초 걸렸습니다.\n2.1457672119140625e-06s 초 걸렸습니다.\n0.005656003952026367s 초 걸렸습니다.\n2.1457672119140625e-06s 초 걸렸습니다.\n0.006239175796508789s 초 걸렸습니다.\n2.6226043701171875e-06s 초 걸렸습니다.\n0.0067670345306396484s 초 걸렸습니다.\n2.1457672119140625e-06s 초 걸렸습니다.\n0.0073206424713134766s 초 걸렸습니다.\n2.384185791015625e-06s 초 걸렸습니다.\n0.007887840270996094s 초 걸렸습니다.\n2.384185791015625e-06s 초 걸렸습니다.\n0.008428335189819336s 초 걸렸습니다.\n2.1457672119140625e-06s 초 걸렸습니다.\n0.008820056915283203s 초 걸렸습니다.\n1.6689300537109375e-06s 초 걸렸습니다.\n0.008874654769897461s 초 걸렸습니다.\n1.1920928955078125e-06s 초 걸렸습니다.\n0.008974313735961914s 초 걸렸습니다.\n1.430511474609375e-06s 초 걸렸습니다.\n0.009027242660522461s 초 걸렸습니다.\n1.430511474609375e-06s 초 걸렸습니다.\n0.009069204330444336s 초 걸렸습니다.\n1.430511474609375e-06s 초 걸렸습니다.\n0.009115457534790039s 초 걸렸습니다.\n",
          "name": "stdout"
        },
        {
          "output_type": "execute_result",
          "execution_count": 10,
          "data": {
            "text/plain": "6765"
          },
          "metadata": {}
        }
      ]
    },
    {
      "metadata": {
        "trusted": true
      },
      "cell_type": "code",
      "source": "@send_sms\npreprocess.... 1H\n... 3H",
      "execution_count": null,
      "outputs": []
    }
  ],
  "metadata": {
    "kernelspec": {
      "name": "python36",
      "display_name": "Python 3.6",
      "language": "python"
    },
    "language_info": {
      "mimetype": "text/x-python",
      "nbconvert_exporter": "python",
      "name": "python",
      "pygments_lexer": "ipython3",
      "version": "3.6.6",
      "file_extension": ".py",
      "codemirror_mode": {
        "version": 3,
        "name": "ipython"
      }
    }
  },
  "nbformat": 4,
  "nbformat_minor": 2
}