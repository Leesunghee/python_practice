{
  "cells": [
    {
      "metadata": {
        "trusted": true
      },
      "cell_type": "code",
      "source": "def get_information(file_name):\n    with open(file_name, \"r\") as f:\n        return f.read()",
      "execution_count": 1,
      "outputs": []
    },
    {
      "metadata": {
        "trusted": true
      },
      "cell_type": "code",
      "source": "info_file = get_information(\"personal_info.txt\")\ninformations = info_file.split(\"\\n\")\n\n# information = f.readlines()",
      "execution_count": 16,
      "outputs": []
    },
    {
      "metadata": {
        "trusted": true
      },
      "cell_type": "code",
      "source": "informations",
      "execution_count": 17,
      "outputs": [
        {
          "output_type": "execute_result",
          "execution_count": 17,
          "data": {
            "text/plain": "['이성희, 123456-1234567', '이승희, 234567-2345678', '이승화, 345678-3456890']"
          },
          "metadata": {}
        }
      ]
    },
    {
      "metadata": {
        "trusted": true
      },
      "cell_type": "code",
      "source": "def preprocess(information):\n    return information[:-7] + \"*\" * 7\n\nassert preprocess(\"이성희, 123456-1234567\") == \"이성희, 123456-*******\"",
      "execution_count": 18,
      "outputs": []
    },
    {
      "metadata": {
        "trusted": true
      },
      "cell_type": "code",
      "source": "[\n    preprocess(information)\n    for information in informations\n]",
      "execution_count": 19,
      "outputs": [
        {
          "output_type": "execute_result",
          "execution_count": 19,
          "data": {
            "text/plain": "['이성희, 123456-*******', '이승희, 234567-*******', '이승화, 345678-*******']"
          },
          "metadata": {}
        }
      ]
    },
    {
      "metadata": {
        "trusted": true
      },
      "cell_type": "code",
      "source": "# 정규표현식 ( = Regular Expression; Regex)\n\n# 기본원리 => 다 적용할 수 있습니다. ( 기본 원리 ++++ )\n\ninfo_file",
      "execution_count": 20,
      "outputs": [
        {
          "output_type": "execute_result",
          "execution_count": 20,
          "data": {
            "text/plain": "'이성희, 123456-1234567\\n이승희, 234567-2345678\\n이승화, 345678-3456890'"
          },
          "metadata": {}
        }
      ]
    },
    {
      "metadata": {
        "trusted": true
      },
      "cell_type": "code",
      "source": "import re",
      "execution_count": 21,
      "outputs": []
    },
    {
      "metadata": {
        "trusted": true
      },
      "cell_type": "code",
      "source": "pattern = re.compile(\"(?P<birth>\\d{6})[-]\\d{7}\")\n# 940223-1701234 => birth == \"940223\"",
      "execution_count": 22,
      "outputs": []
    },
    {
      "metadata": {
        "trusted": true
      },
      "cell_type": "code",
      "source": "pattern.sub(\"\\g<birth>-*******\", info_file)",
      "execution_count": 23,
      "outputs": [
        {
          "output_type": "execute_result",
          "execution_count": 23,
          "data": {
            "text/plain": "'이성희, 123456-*******\\n이승희, 234567-*******\\n이승화, 345678-*******'"
          },
          "metadata": {}
        }
      ]
    },
    {
      "metadata": {
        "trusted": true
      },
      "cell_type": "code",
      "source": "# 문서에서 핸드폰 번호 찾기 (1)\n# 문서에서 이메일 주소 찾기 (2)",
      "execution_count": 24,
      "outputs": []
    },
    {
      "metadata": {
        "trusted": true
      },
      "cell_type": "code",
      "source": "# regex101.com ",
      "execution_count": 25,
      "outputs": []
    },
    {
      "metadata": {
        "trusted": true
      },
      "cell_type": "code",
      "source": "# 처음 시작하는 정규표현식 (Regular Expressions) 마이클 피츠제럴드 지음 추천",
      "execution_count": 26,
      "outputs": []
    },
    {
      "metadata": {
        "trusted": true
      },
      "cell_type": "code",
      "source": "# /rooms/123\n# /rooms/345\n# /rooms/12345\n\n# \\/rooms\\/\\d+ => Router(Routing)",
      "execution_count": null,
      "outputs": []
    }
  ],
  "metadata": {
    "kernelspec": {
      "name": "python36",
      "display_name": "Python 3.6",
      "language": "python"
    },
    "language_info": {
      "mimetype": "text/x-python",
      "nbconvert_exporter": "python",
      "name": "python",
      "pygments_lexer": "ipython3",
      "version": "3.6.6",
      "file_extension": ".py",
      "codemirror_mode": {
        "version": 3,
        "name": "ipython"
      }
    }
  },
  "nbformat": 4,
  "nbformat_minor": 2
}