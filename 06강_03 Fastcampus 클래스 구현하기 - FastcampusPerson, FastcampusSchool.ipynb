{
  "cells": [
    {
      "metadata": {
        "trusted": true
      },
      "cell_type": "code",
      "source": "import time \n\nclass Timer():\n    def __init__(self, function):\n        self.function = function\n       \n    def __call__(self, *args, **kwargs):   # __call__ => function decorator 에서의 wrapper 와 동일한 역할\n        start_time = time.time()\n        result = self.function(*args, **kwargs)\n        end_time = time.time()\n        print(\"{time}s\".format(time=end_time-start_time))\n        return result",
      "execution_count": 1,
      "outputs": []
    },
    {
      "metadata": {
        "trusted": true
      },
      "cell_type": "code",
      "source": "@Timer\ndef print_hello(name):\n    print(\"hello \" + name)\n    \n# print_hello == Timer(print_hello)\n# print_hello() == Timer(print_hello)() # Class => callable => __call__(self...)",
      "execution_count": 2,
      "outputs": []
    },
    {
      "metadata": {
        "trusted": true
      },
      "cell_type": "code",
      "source": "print_hello(\"leesunghee\")",
      "execution_count": 3,
      "outputs": [
        {
          "output_type": "stream",
          "text": "hello leesunghee\n0.0006487369537353516s\n",
          "name": "stdout"
        }
      ]
    },
    {
      "metadata": {
        "trusted": true
      },
      "cell_type": "code",
      "source": "def print_name_and_age(**kwargs):\n#     for key, value in kwagrs.items():\n#         print(\"{key} => {value}\".format(key=key, value=value))\n    if kwargs.get(\"name\"):\n        print(\"name => {name}\".format(name=kwargs.get(\"name\")))\n    if kwargs.get(\"age\"):\n        print(\"나이도 입력받았습니다.\")",
      "execution_count": 4,
      "outputs": []
    },
    {
      "metadata": {
        "trusted": true
      },
      "cell_type": "code",
      "source": "print_name_and_age(name=\"leesunghee\")",
      "execution_count": 7,
      "outputs": [
        {
          "output_type": "stream",
          "text": "name => leesunghee\n",
          "name": "stdout"
        }
      ]
    },
    {
      "metadata": {
        "trusted": true
      },
      "cell_type": "code",
      "source": "class Tagify():\n    #<p><b><i>...</i></b><p>\n#     <b><i>...</i></b>\n    def __init__(self, function):\n        self.function = function\n        \n    def __call__(self, *args, **kwargs):\n#         # pfy ...\n#         boldify = \"<b>\" + self.function(*args, **kwargs) + \"</b>\"\n#         italicfy = '<i>' +boldify + \"</i>\"\n#         return italicfy\n        paragraphify = self.tagify(\"p\", self.function(*args, **kwargs))\n        boldify = self.tagify(\"b\", paragraphify)\n        italicfy = self.tagify(\"i\", boldify)\n        return italicfy\n    def tagify(self, tag, text):\n        return \"<{tag}>{text}</{tag}>\".format(tag=tag, text=text)",
      "execution_count": 24,
      "outputs": []
    },
    {
      "metadata": {
        "trusted": true
      },
      "cell_type": "code",
      "source": "@Tagify\ndef print_hello():\n    return \"hello world\"\n\nprint_hello()",
      "execution_count": 25,
      "outputs": [
        {
          "output_type": "execute_result",
          "execution_count": 25,
          "data": {
            "text/plain": "'<i><b><p>hello world</p></b></i>'"
          },
          "metadata": {}
        }
      ]
    },
    {
      "metadata": {
        "trusted": true
      },
      "cell_type": "code",
      "source": "class FastcampusPerson():  # 패스트캠퍼스에 있는 사람 한명 한명\n    # 학생과 매니저가 구분될 수 있어야 합니다.\n    # sejin => 1기 데사스, 2기 웹프스\n    # suchul => 1기 수강생 => manager 에 의해서 manager 로 임명\n    \n    def __init__(self, name, is_manager=False):\n        self.name = name\n        self.is_manager = is_manager\n        \n        # 만약 **kwagrs 로 받았다면,\n        # self.is_manager = kwargs.get(\"is_manager\", False)\n        \n    def __str__(self):\n        return self.name\n\n# sunghee = FastcampusPerson(...)\n# sejin = FasstcampusPerson(...)\n\nsunghee = FastcampusPerson(\"이성희\", is_manager=True)\nsejin = FastcampusPerson(\"오세진\")\n\n# sunghee.is_manager\n# sejin.is_manager\n",
      "execution_count": 309,
      "outputs": []
    },
    {
      "metadata": {
        "trusted": true
      },
      "cell_type": "code",
      "source": "# wps = FastcampusSchool():\n# dss = FastcampusSchool():\n\n# wps.add_student(suchul, sejin)\n\n# class IsManager():\n    \n#     def __init__(self, function):\n#         self.function = function\n        \n#     def __call__(self, *args, **kwargs):\n#         # 만약, args에 있는 manager 가 매니저면 => 실행\n#         # 매니저가 아니면 => 오류 발생\n#         # args => self ( FastcampusSchool object), manager, student\n#         manager, student = args\n#         if not manager.is_manager:\n#             raise PermissionDeniedError(manager)\n#         return self.function(*args, **kwargs)\n\nimport inspect\n    \ndef is_manager(function):\n    def wrapper(*args, **kwargs):\n#         school, manager, student = args    # 범용성을 위해서 이 부분이 수정이 되어야 합니다.\n                                           # args => manager 라고 되어있는 부분\n                                           # args => 변수가 뭔지 전혀 모른다.\n                \n        new_kwargs = inspect.getcallargs(function, *args, **kwargs)  # args => kwars로 바꿔주는 기능 \n        # args = {\"leesunghee\", \"age\"}\n        # kwargs = {\"favorite\": \"python\", ... }\n        # => new_kwargs {\"name\": \"leesunghee\", \"age\": \"24\", \"favorite\": \"python\"...}\n        manager = new_kwargs.get(\"manager\")\n        if not manager.is_manager:\n            raise PermissionDeniedError(manager)\n        return function(*args, **kwargs)\n    return wrapper\n\nclass FastcampusSchool():  # 패스트캠퍼스 스쿨 관리 클래스\n    \n    def __init__(self, name, *args, **kwargs):\n        self.name = name\n        self.students = set()\n        self.tuition = kwargs.get(\"tuition\", 480) # 수강료가 따로 입력되지 않으면, 480\n#         student_list = []\n        # manager_list = []\n    \n    @is_manager\n    def add_student(self, manager, student): # manager => FastcampusPerson object,\n                                             # student => FastcampusPerson object,\n        # student_list 에 학생이 추가된다.\n        # \"_______ 매니저가 ______ 학생을 추가했습니다.\" 라고 메시지 출력\n        # 단, 학생이 학생을 초대하면 (`add_student`)  => 에러가 발생해야 합니다.\n         \n#         if manager.is_manager:\n#             print(\"{manager} 가 {student} 을 추가했습니다.\".format(\n#                 manager = manager.name,\n#                 student = student.name,\n#             ))\n            \n            \n# #             self.students.append(student)\n#         else:\n# #             print(\"학생은 초대가 불가합니다. \")\n#             raise PermissionDeniedError(manager)\n\n\n        print(\"매니저 '{manager}' 가 학생 '{student}' 을 추가했습니다.\".format(\n            manager = manager.name,\n            student = student.name,\n        ))\n        self.students.add(student)\n        \n    @is_manager   \n    def show_students(self, manager):\n        # \"________ 매니저가 학생들을 조회했습니다.\" 라고 메시지 출력\n        # 단, 학생이 학생 정보를 출력하려고 하면 => 에러가 발생해야 합니다.\n#         if not manager.is_manager:\n#             raise PermissionDeniedError(manager)\n#         print(self.students)\n        print(\"----------------------------\")\n        print(\"--- Student/Manager List ---\")\n        print(\"----------------------------\")\n        message = \"\\n\".join([\n            \"{name}({role})\".format(\n                name = student.name,\n                role = \"Manager\" if student.is_manager else \"Student\"\n            )\n            for student in self.students\n        ])\n        print(message)\n        print(\"----------------------------\")\n        \n    @is_manager\n    def show_revenue(self, manager):\n        # 전체 매출을 구하는 애 ( 학생 수 * 360 )\n        # 학생이 전체 매출을 구하려고 하면, => 에러가 발생해야 합니다.\n#         if not manager.is_manager:\n#             raise PermissionDeniedError(manager)\n            \n        total_revenue = len(self.students) * self.tuition\n        print(\"----------------------------\")\n        print(\"{total_students} 명 * {tuition} 만원\".format(total_students=len(self.students), tuition=self.tuition))\n        print(\"=> {total_revenue} 만원\".format(total_revenue=total_revenue))\n        print(\"----------------------------\")\n        \n    def __str__(self):\n        return self.name\n\n    ",
      "execution_count": 319,
      "outputs": []
    },
    {
      "metadata": {
        "trusted": true
      },
      "cell_type": "code",
      "source": "wps = FastcampusSchool(\"웹 프로그래밍 SCHOOL\", tuition=360)",
      "execution_count": 320,
      "outputs": []
    },
    {
      "metadata": {
        "trusted": true
      },
      "cell_type": "code",
      "source": "print(wps)",
      "execution_count": 321,
      "outputs": [
        {
          "output_type": "stream",
          "text": "웹 프로그래밍 SCHOOL\n",
          "name": "stdout"
        }
      ]
    },
    {
      "metadata": {
        "trusted": true
      },
      "cell_type": "code",
      "source": "wps.add_student(sunghee, sejin)",
      "execution_count": 322,
      "outputs": [
        {
          "output_type": "stream",
          "text": "매니저 '이성희' 가 학생 '오세진' 을 추가했습니다.\n",
          "name": "stdout"
        }
      ]
    },
    {
      "metadata": {
        "trusted": true
      },
      "cell_type": "code",
      "source": "suchul = FastcampusPerson(\"박수철\") # 학생\nwps.add_student(sejin, suchul)",
      "execution_count": 323,
      "outputs": [
        {
          "output_type": "error",
          "ename": "PermissionDeniedError",
          "evalue": "오세진 은 매니저가 아니라서, 권한이 없습니다.",
          "traceback": [
            "\u001b[0;31m---------------------------------------------------------------------------\u001b[0m",
            "\u001b[0;31mPermissionDeniedError\u001b[0m                     Traceback (most recent call last)",
            "\u001b[0;32m<ipython-input-323-0f67d485662e>\u001b[0m in \u001b[0;36m<module>\u001b[0;34m()\u001b[0m\n\u001b[1;32m      1\u001b[0m \u001b[0msuchul\u001b[0m \u001b[0;34m=\u001b[0m \u001b[0mFastcampusPerson\u001b[0m\u001b[0;34m(\u001b[0m\u001b[0;34m\"박수철\"\u001b[0m\u001b[0;34m)\u001b[0m \u001b[0;31m# 학생\u001b[0m\u001b[0;34m\u001b[0m\u001b[0m\n\u001b[0;32m----> 2\u001b[0;31m \u001b[0mwps\u001b[0m\u001b[0;34m.\u001b[0m\u001b[0madd_student\u001b[0m\u001b[0;34m(\u001b[0m\u001b[0msejin\u001b[0m\u001b[0;34m,\u001b[0m \u001b[0msuchul\u001b[0m\u001b[0;34m)\u001b[0m\u001b[0;34m\u001b[0m\u001b[0m\n\u001b[0m",
            "\u001b[0;32m<ipython-input-319-603749854250>\u001b[0m in \u001b[0;36mwrapper\u001b[0;34m(*args, **kwargs)\u001b[0m\n\u001b[1;32m     29\u001b[0m         \u001b[0mmanager\u001b[0m \u001b[0;34m=\u001b[0m \u001b[0mnew_kwargs\u001b[0m\u001b[0;34m.\u001b[0m\u001b[0mget\u001b[0m\u001b[0;34m(\u001b[0m\u001b[0;34m\"manager\"\u001b[0m\u001b[0;34m)\u001b[0m\u001b[0;34m\u001b[0m\u001b[0m\n\u001b[1;32m     30\u001b[0m         \u001b[0;32mif\u001b[0m \u001b[0;32mnot\u001b[0m \u001b[0mmanager\u001b[0m\u001b[0;34m.\u001b[0m\u001b[0mis_manager\u001b[0m\u001b[0;34m:\u001b[0m\u001b[0;34m\u001b[0m\u001b[0m\n\u001b[0;32m---> 31\u001b[0;31m             \u001b[0;32mraise\u001b[0m \u001b[0mPermissionDeniedError\u001b[0m\u001b[0;34m(\u001b[0m\u001b[0mmanager\u001b[0m\u001b[0;34m)\u001b[0m\u001b[0;34m\u001b[0m\u001b[0m\n\u001b[0m\u001b[1;32m     32\u001b[0m         \u001b[0;32mreturn\u001b[0m \u001b[0mfunction\u001b[0m\u001b[0;34m(\u001b[0m\u001b[0;34m*\u001b[0m\u001b[0margs\u001b[0m\u001b[0;34m,\u001b[0m \u001b[0;34m**\u001b[0m\u001b[0mkwargs\u001b[0m\u001b[0;34m)\u001b[0m\u001b[0;34m\u001b[0m\u001b[0m\n\u001b[1;32m     33\u001b[0m     \u001b[0;32mreturn\u001b[0m \u001b[0mwrapper\u001b[0m\u001b[0;34m\u001b[0m\u001b[0m\n",
            "\u001b[0;31mPermissionDeniedError\u001b[0m: 오세진 은 매니저가 아니라서, 권한이 없습니다."
          ]
        }
      ]
    },
    {
      "metadata": {
        "trusted": true
      },
      "cell_type": "code",
      "source": "class PermissionDeniedError(Exception):\n    def __init__(self, person):\n        self.person = person\n    \n    def __str__(self):\n        return \"{name} 은 매니저가 아니라서, 권한이 없습니다.\".format(\n            name = self.person.name\n        )\n      ",
      "execution_count": 324,
      "outputs": []
    },
    {
      "metadata": {
        "trusted": true
      },
      "cell_type": "code",
      "source": "animals = set()",
      "execution_count": 151,
      "outputs": []
    },
    {
      "metadata": {
        "trusted": true
      },
      "cell_type": "code",
      "source": "animals.add(\"dog\")",
      "execution_count": 100,
      "outputs": []
    },
    {
      "metadata": {
        "trusted": true
      },
      "cell_type": "code",
      "source": "animals",
      "execution_count": 101,
      "outputs": [
        {
          "output_type": "execute_result",
          "execution_count": 101,
          "data": {
            "text/plain": "{'dog'}"
          },
          "metadata": {}
        }
      ]
    },
    {
      "metadata": {
        "trusted": true
      },
      "cell_type": "code",
      "source": "animals.add(\"dog\")",
      "execution_count": 102,
      "outputs": []
    },
    {
      "metadata": {
        "trusted": true
      },
      "cell_type": "code",
      "source": "animals",
      "execution_count": 85,
      "outputs": [
        {
          "output_type": "execute_result",
          "execution_count": 85,
          "data": {
            "text/plain": "{'dog'}"
          },
          "metadata": {}
        }
      ]
    },
    {
      "metadata": {
        "trusted": true
      },
      "cell_type": "code",
      "source": "animals = []\nanimals.append(\"dog\")\nanimals.append(\"dog\")",
      "execution_count": 90,
      "outputs": []
    },
    {
      "metadata": {
        "trusted": true
      },
      "cell_type": "code",
      "source": "animals",
      "execution_count": 92,
      "outputs": [
        {
          "output_type": "execute_result",
          "execution_count": 92,
          "data": {
            "text/plain": "['dog', 'dog']"
          },
          "metadata": {}
        }
      ]
    },
    {
      "metadata": {
        "trusted": true
      },
      "cell_type": "code",
      "source": "hyungil = FastcampusPerson(\"전형길\") # 학생",
      "execution_count": 325,
      "outputs": []
    },
    {
      "metadata": {
        "trusted": true
      },
      "cell_type": "code",
      "source": "wps.add_student(sunghee, hyungil)",
      "execution_count": 326,
      "outputs": [
        {
          "output_type": "stream",
          "text": "매니저 '이성희' 가 학생 '전형길' 을 추가했습니다.\n",
          "name": "stdout"
        }
      ]
    },
    {
      "metadata": {
        "trusted": true
      },
      "cell_type": "code",
      "source": "wps.show_students(sunghee)",
      "execution_count": 327,
      "outputs": [
        {
          "output_type": "stream",
          "text": "----------------------------\n--- Student/Manager List ---\n----------------------------\n전형길(Student)\n오세진(Student)\n----------------------------\n",
          "name": "stdout"
        }
      ]
    },
    {
      "metadata": {
        "trusted": true
      },
      "cell_type": "code",
      "source": "wps.show_revenue(sunghee)",
      "execution_count": 328,
      "outputs": [
        {
          "output_type": "stream",
          "text": "----------------------------\n2 명 * 360 만원\n=> 720 만원\n----------------------------\n",
          "name": "stdout"
        }
      ]
    },
    {
      "metadata": {
        "trusted": true
      },
      "cell_type": "code",
      "source": "# Role 이 2개 뿐이 없다 ( 학생, 매니저 )\n# 코드 => 캠프, 스쿨\n# \"강의장 사정\" => 스쿨 기본 최대 인원은 20명\n\n# School 객체 => 매니저를 통해서 스쿨 과정이 생기는거다.\n# School_object.add_student ( X )\n\n# Manager_object.add_student(school_object, student_object)  \n\n# Campus \n# => 스쿨\n# => 캠프\n# Manager_object.total_revenue(fastcampus_object)\n\n# Campus => \"패스트캠퍼스\", \"패스트캠퍼스 경쟁사1\", \"패스트캠퍼스 경쟁사2\"",
      "execution_count": 329,
      "outputs": []
    },
    {
      "metadata": {
        "trusted": true
      },
      "cell_type": "code",
      "source": "# 소개팅 서비스 => [\"남\", \"여\"], [\"남\", \"남\"]",
      "execution_count": null,
      "outputs": []
    }
  ],
  "metadata": {
    "kernelspec": {
      "name": "python36",
      "display_name": "Python 3.6",
      "language": "python"
    },
    "language_info": {
      "mimetype": "text/x-python",
      "nbconvert_exporter": "python",
      "name": "python",
      "pygments_lexer": "ipython3",
      "version": "3.6.6",
      "file_extension": ".py",
      "codemirror_mode": {
        "version": 3,
        "name": "ipython"
      }
    }
  },
  "nbformat": 4,
  "nbformat_minor": 2
}