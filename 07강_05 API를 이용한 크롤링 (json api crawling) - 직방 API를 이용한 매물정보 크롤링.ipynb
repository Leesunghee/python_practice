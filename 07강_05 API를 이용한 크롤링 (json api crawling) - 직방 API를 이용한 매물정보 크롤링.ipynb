{
  "cells": [
    {
      "metadata": {
        "trusted": true
      },
      "cell_type": "code",
      "source": "import requests\nBASE_URL = \"https://api.zigbang.com/v3/items?detail=true&item_ids=[12749409,12826070,12959724,12964917,12925342,12908561,12911317,12922439,12937885]\"",
      "execution_count": 1,
      "outputs": []
    },
    {
      "metadata": {
        "trusted": true
      },
      "cell_type": "code",
      "source": "response = requests.get(BASE_URL)",
      "execution_count": 2,
      "outputs": []
    },
    {
      "metadata": {
        "trusted": true
      },
      "cell_type": "code",
      "source": "# json -> javascript object notation",
      "execution_count": 3,
      "outputs": []
    },
    {
      "metadata": {
        "trusted": true
      },
      "cell_type": "code",
      "source": "import json",
      "execution_count": 4,
      "outputs": []
    },
    {
      "metadata": {
        "trusted": true
      },
      "cell_type": "code",
      "source": "room_information = json.loads(response.text)",
      "execution_count": 5,
      "outputs": []
    },
    {
      "metadata": {
        "trusted": true
      },
      "cell_type": "code",
      "source": "room_information[\"items\"][0][\"item\"][\"agent_address1\"]",
      "execution_count": 6,
      "outputs": [
        {
          "output_type": "execute_result",
          "execution_count": 6,
          "data": {
            "text/plain": "'서울특별시 관악구 봉천동 1601-9번지'"
          },
          "metadata": {}
        }
      ]
    },
    {
      "metadata": {
        "trusted": true
      },
      "cell_type": "code",
      "source": "import pandas as pd\n\ndf = pd.DataFrame(columns=[\"address\", \"deposit\", \"rent\"])",
      "execution_count": 7,
      "outputs": []
    },
    {
      "metadata": {
        "trusted": true
      },
      "cell_type": "code",
      "source": "for room_id in range(12749409, 12749409 + 100):\n    BASE_URL = \"https://api.zigbang.com/v3/items?detail=true&item_ids=[\" + str(room_id) + \"]\"\n    response = requests.get(BASE_URL)\n    room_information = json.loads(response.text)\n    \n    try:\n        address = room_information[\"items\"][0][\"item\"][\"agent_address1\"]\n        deposit = room_information[\"items\"][0][\"item\"][\"deposit\"]\n        rent = room_information[\"items\"][0][\"item\"][\"rent\"]\n        print((address, deposit, rent))\n        df.loc[len(df)] = [address, int(deposit), int(rent)]  \n    except:\n        pass",
      "execution_count": 8,
      "outputs": [
        {
          "output_type": "stream",
          "text": "('서울특별시 관악구 봉천동 1601-9번지', 5000, 40)\n('대전광역시 유성구 죽동로 321, 상가 107호(죽동, 금성백조에미지)', 1000, 55)\n('부산광역시 해운대구 반여2동 1291-1408', 100, 27)\n('서울특별시 용산구 보광로 49', 1000, 60)\n('충청남도 아산시 온천대로 1555 (온천동 .모노팰리스 101-2호)', 1000, 43)\n('경기도 용인시 수지구 광교중앙로 297 D동 110호', 13300, 0)\n('울산광역시 동구 화진길 143', 9000, 0)\n('부산광역시 해운대구 반여2동 1291-1408', 100, 30)\n('경기도 수원시 권선구 세지로 74-1 (권선동)', 2000, 65)\n('서울특별시 강북구 오패산로 417 지1층', 500, 50)\n('인천광역시 중구 영종대로162번길 20 112B호', 12000, 0)\n('서울특별시 서초구 서초2동 1337-6 강남효성해링턴타워102호', 21500, 0)\n('서울시 강남구 역삼로 216 1층', 1500, 110)\n('경기도 안산시 상록구 본오로 169 101호', 300, 38)\n('경기도 용인시 수지구 수풍로117번길 2-6 ,104호,105호', 1000, 80)\n('서울특별시 강북구 한천로129길 14', 500, 30)\n('대구광역시 남구 현충로 161-2', 7000, 0)\n('서울특별시 관악구 봉천동 1601-9번지', 3000, 50)\n('서울특별시 성동구 마조로1길 42, 1층', 3000, 50)\n('경상남도 김해시 대청동 306-9 101호', 200, 23)\n('서울특별시 성북구 동소문동5가 107번지', 1000, 45)\n('경기도 안산시 상록구 각골로 120 (본오동)', 2000, 55)\n('서울특별시 도봉구 도봉로109길 27 1층', 1000, 40)\n('경상남도 김해시 대청동 306-9 101호', 3000, 45)\n('울산광역시 동구 화진길 143', 200, 20)\n('경상남도 거제시 아주로 73', 300, 40)\n('경기도 안산시 상록구 본오로 169 101호', 7300, 0)\n('서울특별시 동작구 사당로16마길 29 101호 (사당동, 엘파라시오 7차)', 1000, 30)\n('대구광역시 수성구 동대구로12안길 9', 500, 50)\n('인천광역시 연수구 함박로25번길2(연수동)', 300, 60)\n('경기도 안산시 상록구 각골로 120 (본오동)', 300, 31)\n('경기도 구리시 토평동 975-7', 200, 33)\n('대전광역시 서구 갈마로 215 (괴정동)', 500, 35)\n('서울시 강서구 화곡로13나길 23', 19500, 0)\n('경기도 고양시 일산동구 호수로 662 , 102호', 1000, 70)\n('서울특별시 성동구 용답동 238-12  서희스타힐스리버파크 제2층 제214호', 15700, 0)\n('대전광역시 대덕구 중리동 179-5 101호', 6000, 0)\n('인천광역시 연수구 송도동 83 b동 상가128호', 500, 50)\n('부산광역시 해운대구 반여2동 1291-1408', 100, 29)\n('충청북도 청주시 흥덕구 봉명동 913-1번지 1층', 300, 45)\n('경기도 용인시 수지구 광교중앙로295번길 21(상현동 1116-1)', 6500, 20)\n('경기도 안양시 동안구 귀인로 90', 18000, 0)\n('서울시 영등포구 당산로38길 9 1층일부', 1000, 50)\n('울산광역시 동구 화진길 143', 1000, 20)\n('경기도 하남시 하남대로855번길 16', 18000, 0)\n('대구광역시 수성구 희망로 169 2층(황금동)', 1000, 32)\n('대전광역시 서구 용문동 268-53번지', 100, 20)\n('서울특별시 송파구 풍성로 31 (풍납동)', 1000, 45)\n('서울특별시 송파구 백제고분로36가길 9', 3000, 60)\n('인천광역시 연수구 송도동 83 b동 상가128호', 500, 50)\n('울산광역시 중구 학성로 64', 500, 45)\n('대전광역시 서구 도솔로 289', 15000, 0)\n('경상남도 양산시 물금읍 동중2길 5', 500, 35)\n('경기도 화성시 향남읍 상신하길로144번길 22-14 B101호', 500, 46)\n('인천광역시 부평구 부평대로 163, 103호', 1000, 75)\n('서울특별시 강남구 역삼동 778-32번지 1층', 28000, 0)\n",
          "name": "stdout"
        }
      ]
    },
    {
      "metadata": {
        "trusted": true
      },
      "cell_type": "code",
      "source": "df",
      "execution_count": 17,
      "outputs": [
        {
          "output_type": "execute_result",
          "execution_count": 17,
          "data": {
            "text/html": "<div>\n<style scoped>\n    .dataframe tbody tr th:only-of-type {\n        vertical-align: middle;\n    }\n\n    .dataframe tbody tr th {\n        vertical-align: top;\n    }\n\n    .dataframe thead th {\n        text-align: right;\n    }\n</style>\n<table border=\"1\" class=\"dataframe\">\n  <thead>\n    <tr style=\"text-align: right;\">\n      <th></th>\n      <th>address</th>\n      <th>deposit</th>\n      <th>rent</th>\n    </tr>\n  </thead>\n  <tbody>\n    <tr>\n      <th>0</th>\n      <td>서울특별시 관악구 봉천동 1601-9번지</td>\n      <td>5000</td>\n      <td>40</td>\n    </tr>\n    <tr>\n      <th>1</th>\n      <td>대전광역시 유성구 죽동로 321, 상가 107호(죽동, 금성백조에미지)</td>\n      <td>1000</td>\n      <td>55</td>\n    </tr>\n    <tr>\n      <th>2</th>\n      <td>부산광역시 해운대구 반여2동 1291-1408</td>\n      <td>100</td>\n      <td>27</td>\n    </tr>\n    <tr>\n      <th>3</th>\n      <td>서울특별시 용산구 보광로 49</td>\n      <td>1000</td>\n      <td>60</td>\n    </tr>\n    <tr>\n      <th>4</th>\n      <td>충청남도 아산시 온천대로 1555 (온천동 .모노팰리스 101-2호)</td>\n      <td>1000</td>\n      <td>43</td>\n    </tr>\n    <tr>\n      <th>5</th>\n      <td>경기도 용인시 수지구 광교중앙로 297 D동 110호</td>\n      <td>13300</td>\n      <td>0</td>\n    </tr>\n    <tr>\n      <th>6</th>\n      <td>울산광역시 동구 화진길 143</td>\n      <td>9000</td>\n      <td>0</td>\n    </tr>\n    <tr>\n      <th>7</th>\n      <td>부산광역시 해운대구 반여2동 1291-1408</td>\n      <td>100</td>\n      <td>30</td>\n    </tr>\n    <tr>\n      <th>8</th>\n      <td>경기도 수원시 권선구 세지로 74-1 (권선동)</td>\n      <td>2000</td>\n      <td>65</td>\n    </tr>\n    <tr>\n      <th>9</th>\n      <td>서울특별시 강북구 오패산로 417 지1층</td>\n      <td>500</td>\n      <td>50</td>\n    </tr>\n    <tr>\n      <th>10</th>\n      <td>인천광역시 중구 영종대로162번길 20 112B호</td>\n      <td>12000</td>\n      <td>0</td>\n    </tr>\n    <tr>\n      <th>11</th>\n      <td>서울특별시 서초구 서초2동 1337-6 강남효성해링턴타워102호</td>\n      <td>21500</td>\n      <td>0</td>\n    </tr>\n    <tr>\n      <th>12</th>\n      <td>서울시 강남구 역삼로 216 1층</td>\n      <td>1500</td>\n      <td>110</td>\n    </tr>\n    <tr>\n      <th>13</th>\n      <td>경기도 안산시 상록구 본오로 169 101호</td>\n      <td>300</td>\n      <td>38</td>\n    </tr>\n    <tr>\n      <th>14</th>\n      <td>경기도 용인시 수지구 수풍로117번길 2-6 ,104호,105호</td>\n      <td>1000</td>\n      <td>80</td>\n    </tr>\n    <tr>\n      <th>15</th>\n      <td>서울특별시 강북구 한천로129길 14</td>\n      <td>500</td>\n      <td>30</td>\n    </tr>\n    <tr>\n      <th>16</th>\n      <td>대구광역시 남구 현충로 161-2</td>\n      <td>7000</td>\n      <td>0</td>\n    </tr>\n    <tr>\n      <th>17</th>\n      <td>서울특별시 관악구 봉천동 1601-9번지</td>\n      <td>3000</td>\n      <td>50</td>\n    </tr>\n    <tr>\n      <th>18</th>\n      <td>서울특별시 성동구 마조로1길 42, 1층</td>\n      <td>3000</td>\n      <td>50</td>\n    </tr>\n    <tr>\n      <th>19</th>\n      <td>경상남도 김해시 대청동 306-9 101호</td>\n      <td>200</td>\n      <td>23</td>\n    </tr>\n    <tr>\n      <th>20</th>\n      <td>서울특별시 성북구 동소문동5가 107번지</td>\n      <td>1000</td>\n      <td>45</td>\n    </tr>\n    <tr>\n      <th>21</th>\n      <td>경기도 안산시 상록구 각골로 120 (본오동)</td>\n      <td>2000</td>\n      <td>55</td>\n    </tr>\n    <tr>\n      <th>22</th>\n      <td>서울특별시 도봉구 도봉로109길 27 1층</td>\n      <td>1000</td>\n      <td>40</td>\n    </tr>\n    <tr>\n      <th>23</th>\n      <td>경상남도 김해시 대청동 306-9 101호</td>\n      <td>3000</td>\n      <td>45</td>\n    </tr>\n    <tr>\n      <th>24</th>\n      <td>울산광역시 동구 화진길 143</td>\n      <td>200</td>\n      <td>20</td>\n    </tr>\n    <tr>\n      <th>25</th>\n      <td>경상남도 거제시 아주로 73</td>\n      <td>300</td>\n      <td>40</td>\n    </tr>\n    <tr>\n      <th>26</th>\n      <td>경기도 안산시 상록구 본오로 169 101호</td>\n      <td>7300</td>\n      <td>0</td>\n    </tr>\n    <tr>\n      <th>27</th>\n      <td>전라북도 전주시 덕진구 가재미5길 10, 101호</td>\n      <td>300</td>\n      <td>30</td>\n    </tr>\n    <tr>\n      <th>28</th>\n      <td>서울특별시 동작구 사당로16마길 29 101호 (사당동, 엘파라시오 7차)</td>\n      <td>1000</td>\n      <td>30</td>\n    </tr>\n    <tr>\n      <th>29</th>\n      <td>대구광역시 수성구 동대구로12안길 9</td>\n      <td>500</td>\n      <td>50</td>\n    </tr>\n    <tr>\n      <th>30</th>\n      <td>인천광역시 연수구 함박로25번길2(연수동)</td>\n      <td>300</td>\n      <td>60</td>\n    </tr>\n    <tr>\n      <th>31</th>\n      <td>경기도 안산시 상록구 각골로 120 (본오동)</td>\n      <td>300</td>\n      <td>31</td>\n    </tr>\n    <tr>\n      <th>32</th>\n      <td>경기도 구리시 토평동 975-7</td>\n      <td>200</td>\n      <td>33</td>\n    </tr>\n    <tr>\n      <th>33</th>\n      <td>대전광역시 서구 갈마로 215 (괴정동)</td>\n      <td>500</td>\n      <td>35</td>\n    </tr>\n    <tr>\n      <th>34</th>\n      <td>서울시 강서구 화곡로13나길 23</td>\n      <td>19500</td>\n      <td>0</td>\n    </tr>\n    <tr>\n      <th>35</th>\n      <td>경기도 고양시 일산동구 호수로 662 , 102호</td>\n      <td>1000</td>\n      <td>70</td>\n    </tr>\n    <tr>\n      <th>36</th>\n      <td>서울특별시 성동구 용답동 238-12  서희스타힐스리버파크 제2층 제214호</td>\n      <td>15700</td>\n      <td>0</td>\n    </tr>\n    <tr>\n      <th>37</th>\n      <td>대전광역시 대덕구 중리동 179-5 101호</td>\n      <td>6000</td>\n      <td>0</td>\n    </tr>\n    <tr>\n      <th>38</th>\n      <td>인천광역시 연수구 송도동 83 b동 상가128호</td>\n      <td>500</td>\n      <td>50</td>\n    </tr>\n    <tr>\n      <th>39</th>\n      <td>부산광역시 해운대구 반여2동 1291-1408</td>\n      <td>100</td>\n      <td>29</td>\n    </tr>\n    <tr>\n      <th>40</th>\n      <td>충청북도 청주시 흥덕구 봉명동 913-1번지 1층</td>\n      <td>300</td>\n      <td>45</td>\n    </tr>\n    <tr>\n      <th>41</th>\n      <td>경기도 용인시 수지구 광교중앙로295번길 21(상현동 1116-1)</td>\n      <td>6500</td>\n      <td>20</td>\n    </tr>\n    <tr>\n      <th>42</th>\n      <td>경기도 안양시 동안구 귀인로 90</td>\n      <td>18000</td>\n      <td>0</td>\n    </tr>\n    <tr>\n      <th>43</th>\n      <td>서울시 영등포구 당산로38길 9 1층일부</td>\n      <td>1000</td>\n      <td>50</td>\n    </tr>\n    <tr>\n      <th>44</th>\n      <td>울산광역시 동구 화진길 143</td>\n      <td>1000</td>\n      <td>20</td>\n    </tr>\n    <tr>\n      <th>45</th>\n      <td>경기도 하남시 하남대로855번길 16</td>\n      <td>18000</td>\n      <td>0</td>\n    </tr>\n    <tr>\n      <th>46</th>\n      <td>대구광역시 수성구 희망로 169 2층(황금동)</td>\n      <td>1000</td>\n      <td>32</td>\n    </tr>\n    <tr>\n      <th>47</th>\n      <td>대전광역시 서구 용문동 268-53번지</td>\n      <td>100</td>\n      <td>20</td>\n    </tr>\n    <tr>\n      <th>48</th>\n      <td>서울특별시 송파구 풍성로 31 (풍납동)</td>\n      <td>1000</td>\n      <td>45</td>\n    </tr>\n    <tr>\n      <th>49</th>\n      <td>서울특별시 송파구 백제고분로36가길 9</td>\n      <td>3000</td>\n      <td>60</td>\n    </tr>\n    <tr>\n      <th>50</th>\n      <td>인천광역시 연수구 송도동 83 b동 상가128호</td>\n      <td>500</td>\n      <td>50</td>\n    </tr>\n    <tr>\n      <th>51</th>\n      <td>울산광역시 중구 학성로 64</td>\n      <td>500</td>\n      <td>45</td>\n    </tr>\n    <tr>\n      <th>52</th>\n      <td>대전광역시 서구 도솔로 289</td>\n      <td>15000</td>\n      <td>0</td>\n    </tr>\n    <tr>\n      <th>53</th>\n      <td>경상남도 양산시 물금읍 동중2길 5</td>\n      <td>500</td>\n      <td>35</td>\n    </tr>\n    <tr>\n      <th>54</th>\n      <td>경기도 화성시 향남읍 상신하길로144번길 22-14 B101호</td>\n      <td>500</td>\n      <td>46</td>\n    </tr>\n    <tr>\n      <th>55</th>\n      <td>인천광역시 부평구 부평대로 163, 103호</td>\n      <td>1000</td>\n      <td>75</td>\n    </tr>\n    <tr>\n      <th>56</th>\n      <td>서울특별시 강남구 역삼동 778-32번지 1층</td>\n      <td>28000</td>\n      <td>0</td>\n    </tr>\n  </tbody>\n</table>\n</div>",
            "text/plain": "                                       address deposit rent\n0                       서울특별시 관악구 봉천동 1601-9번지    5000   40\n1      대전광역시 유성구 죽동로 321, 상가 107호(죽동, 금성백조에미지)    1000   55\n2                    부산광역시 해운대구 반여2동 1291-1408     100   27\n3                             서울특별시 용산구 보광로 49    1000   60\n4       충청남도 아산시 온천대로 1555 (온천동 .모노팰리스 101-2호)    1000   43\n5                경기도 용인시 수지구 광교중앙로 297 D동 110호   13300    0\n6                             울산광역시 동구 화진길 143    9000    0\n7                    부산광역시 해운대구 반여2동 1291-1408     100   30\n8                   경기도 수원시 권선구 세지로 74-1 (권선동)    2000   65\n9                       서울특별시 강북구 오패산로 417 지1층     500   50\n10                 인천광역시 중구 영종대로162번길 20 112B호   12000    0\n11         서울특별시 서초구 서초2동 1337-6 강남효성해링턴타워102호   21500    0\n12                          서울시 강남구 역삼로 216 1층    1500  110\n13                    경기도 안산시 상록구 본오로 169 101호     300   38\n14         경기도 용인시 수지구 수풍로117번길 2-6 ,104호,105호    1000   80\n15                        서울특별시 강북구 한천로129길 14     500   30\n16                          대구광역시 남구 현충로 161-2    7000    0\n17                      서울특별시 관악구 봉천동 1601-9번지    3000   50\n18                      서울특별시 성동구 마조로1길 42, 1층    3000   50\n19                     경상남도 김해시 대청동 306-9 101호     200   23\n20                      서울특별시 성북구 동소문동5가 107번지    1000   45\n21                   경기도 안산시 상록구 각골로 120 (본오동)    2000   55\n22                     서울특별시 도봉구 도봉로109길 27 1층    1000   40\n23                     경상남도 김해시 대청동 306-9 101호    3000   45\n24                            울산광역시 동구 화진길 143     200   20\n25                             경상남도 거제시 아주로 73     300   40\n26                    경기도 안산시 상록구 본오로 169 101호    7300    0\n27                 전라북도 전주시 덕진구 가재미5길 10, 101호     300   30\n28   서울특별시 동작구 사당로16마길 29 101호 (사당동, 엘파라시오 7차)    1000   30\n29                        대구광역시 수성구 동대구로12안길 9     500   50\n30                     인천광역시 연수구 함박로25번길2(연수동)     300   60\n31                   경기도 안산시 상록구 각골로 120 (본오동)     300   31\n32                           경기도 구리시 토평동 975-7     200   33\n33                      대전광역시 서구 갈마로 215 (괴정동)     500   35\n34                          서울시 강서구 화곡로13나길 23   19500    0\n35                 경기도 고양시 일산동구 호수로 662 , 102호    1000   70\n36  서울특별시 성동구 용답동 238-12  서희스타힐스리버파크 제2층 제214호   15700    0\n37                    대전광역시 대덕구 중리동 179-5 101호    6000    0\n38                  인천광역시 연수구 송도동 83 b동 상가128호     500   50\n39                   부산광역시 해운대구 반여2동 1291-1408     100   29\n40                 충청북도 청주시 흥덕구 봉명동 913-1번지 1층     300   45\n41       경기도 용인시 수지구 광교중앙로295번길 21(상현동 1116-1)    6500   20\n42                          경기도 안양시 동안구 귀인로 90   18000    0\n43                      서울시 영등포구 당산로38길 9 1층일부    1000   50\n44                            울산광역시 동구 화진길 143    1000   20\n45                        경기도 하남시 하남대로855번길 16   18000    0\n46                   대구광역시 수성구 희망로 169 2층(황금동)    1000   32\n47                       대전광역시 서구 용문동 268-53번지     100   20\n48                      서울특별시 송파구 풍성로 31 (풍납동)    1000   45\n49                       서울특별시 송파구 백제고분로36가길 9    3000   60\n50                  인천광역시 연수구 송도동 83 b동 상가128호     500   50\n51                             울산광역시 중구 학성로 64     500   45\n52                            대전광역시 서구 도솔로 289   15000    0\n53                         경상남도 양산시 물금읍 동중2길 5     500   35\n54          경기도 화성시 향남읍 상신하길로144번길 22-14 B101호     500   46\n55                    인천광역시 부평구 부평대로 163, 103호    1000   75\n56                   서울특별시 강남구 역삼동 778-32번지 1층   28000    0"
          },
          "metadata": {}
        }
      ]
    },
    {
      "metadata": {
        "trusted": true
      },
      "cell_type": "code",
      "source": "df.mean()",
      "execution_count": 9,
      "outputs": [
        {
          "output_type": "execute_result",
          "execution_count": 9,
          "data": {
            "text/plain": "Series([], dtype: float64)"
          },
          "metadata": {}
        }
      ]
    },
    {
      "metadata": {
        "trusted": true
      },
      "cell_type": "code",
      "source": "",
      "execution_count": null,
      "outputs": []
    }
  ],
  "metadata": {
    "kernelspec": {
      "name": "python36",
      "display_name": "Python 3.6",
      "language": "python"
    },
    "language_info": {
      "mimetype": "text/x-python",
      "nbconvert_exporter": "python",
      "name": "python",
      "pygments_lexer": "ipython3",
      "version": "3.6.6",
      "file_extension": ".py",
      "codemirror_mode": {
        "version": 3,
        "name": "ipython"
      }
    }
  },
  "nbformat": 4,
  "nbformat_minor": 2
}