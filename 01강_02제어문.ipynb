{
  "cells": [
    {
      "metadata": {
        "trusted": false
      },
      "cell_type": "code",
      "source": "(True and True) or False",
      "execution_count": 18,
      "outputs": [
        {
          "data": {
            "text/plain": "True"
          },
          "execution_count": 18,
          "metadata": {},
          "output_type": "execute_result"
        }
      ]
    },
    {
      "metadata": {
        "trusted": false
      },
      "cell_type": "code",
      "source": "age = 20\n\nwhile age < 30:\n    print(\"나이를 먹었습니다. 현재나이: {age}\".format(age = age))\n    age += 1",
      "execution_count": 21,
      "outputs": [
        {
          "name": "stdout",
          "output_type": "stream",
          "text": "나이를 먹었습니다. 현재나이: 20\n나이를 먹었습니다. 현재나이: 21\n나이를 먹었습니다. 현재나이: 22\n나이를 먹었습니다. 현재나이: 23\n나이를 먹었습니다. 현재나이: 24\n나이를 먹었습니다. 현재나이: 25\n나이를 먹었습니다. 현재나이: 26\n나이를 먹었습니다. 현재나이: 27\n나이를 먹었습니다. 현재나이: 28\n나이를 먹었습니다. 현재나이: 29\n"
        }
      ]
    },
    {
      "metadata": {
        "trusted": false
      },
      "cell_type": "code",
      "source": "list(range(10))",
      "execution_count": 24,
      "outputs": [
        {
          "data": {
            "text/plain": "[0, 1, 2, 3, 4, 5, 6, 7, 8, 9]"
          },
          "execution_count": 24,
          "metadata": {},
          "output_type": "execute_result"
        }
      ]
    },
    {
      "metadata": {
        "trusted": false
      },
      "cell_type": "code",
      "source": "range?",
      "execution_count": 23,
      "outputs": []
    },
    {
      "metadata": {
        "trusted": false
      },
      "cell_type": "code",
      "source": "animals = [\"강아지\", \"고양이\", \"참새\", \"이구아나\"]\n\nfor animal in animals:\n    print(\"나는 {animal}을 키운다\".format(animal = animal))",
      "execution_count": 25,
      "outputs": [
        {
          "name": "stdout",
          "output_type": "stream",
          "text": "나는 강아지을 키운다\n나는 고양이을 키운다\n나는 참새을 키운다\n나는 이구아나을 키운다\n"
        }
      ]
    },
    {
      "metadata": {
        "trusted": false
      },
      "cell_type": "code",
      "source": "for _ in range(10):\n    print(\"hello world\")",
      "execution_count": 30,
      "outputs": [
        {
          "name": "stdout",
          "output_type": "stream",
          "text": "hello world\nhello world\nhello world\nhello world\nhello world\nhello world\nhello world\nhello world\nhello world\nhello world\n"
        }
      ]
    },
    {
      "metadata": {
        "trusted": false
      },
      "cell_type": "code",
      "source": "for i in range(6):\n    print(\"*\" * i)",
      "execution_count": 34,
      "outputs": [
        {
          "name": "stdout",
          "output_type": "stream",
          "text": "\n*\n**\n***\n****\n*****\n"
        }
      ]
    },
    {
      "metadata": {
        "trusted": false
      },
      "cell_type": "code",
      "source": "range(5)",
      "execution_count": 32,
      "outputs": [
        {
          "data": {
            "text/plain": "range(0, 5)"
          },
          "execution_count": 32,
          "metadata": {},
          "output_type": "execute_result"
        }
      ]
    },
    {
      "metadata": {
        "trusted": false
      },
      "cell_type": "code",
      "source": "list(range(5))",
      "execution_count": 33,
      "outputs": [
        {
          "data": {
            "text/plain": "[0, 1, 2, 3, 4]"
          },
          "execution_count": 33,
          "metadata": {},
          "output_type": "execute_result"
        }
      ]
    },
    {
      "metadata": {
        "trusted": false
      },
      "cell_type": "code",
      "source": "for i in range(5):\n    star = \"\"\n    for j in range(i+1):\n        star += \"*\"\n    print(star)\n    ",
      "execution_count": 36,
      "outputs": [
        {
          "name": "stdout",
          "output_type": "stream",
          "text": "*\n**\n***\n****\n*****\n"
        }
      ]
    },
    {
      "metadata": {
        "trusted": false
      },
      "cell_type": "code",
      "source": "\"*\" * 10",
      "execution_count": 37,
      "outputs": [
        {
          "data": {
            "text/plain": "'**********'"
          },
          "execution_count": 37,
          "metadata": {},
          "output_type": "execute_result"
        }
      ]
    },
    {
      "metadata": {
        "trusted": false
      },
      "cell_type": "code",
      "source": "username = input(\"너의 이름은 뭐니?\")",
      "execution_count": 38,
      "outputs": [
        {
          "name": "stdout",
          "output_type": "stream",
          "text": "너의 이름은 뭐니?홍길동\n"
        }
      ]
    },
    {
      "metadata": {
        "trusted": false
      },
      "cell_type": "code",
      "source": "username",
      "execution_count": 39,
      "outputs": [
        {
          "data": {
            "text/plain": "'홍길동'"
          },
          "execution_count": 39,
          "metadata": {},
          "output_type": "execute_result"
        }
      ]
    },
    {
      "metadata": {
        "trusted": false
      },
      "cell_type": "code",
      "source": "for i in range(int(input(\"별 몇개? \"))):\n    print(\"*\" * (i + 1))\n                ",
      "execution_count": 42,
      "outputs": [
        {
          "name": "stdout",
          "output_type": "stream",
          "text": "별 몇개? 3\n*\n**\n***\n"
        }
      ]
    },
    {
      "metadata": {
        "trusted": false
      },
      "cell_type": "code",
      "source": "",
      "execution_count": null,
      "outputs": []
    },
    {
      "metadata": {
        "trusted": false
      },
      "cell_type": "code",
      "source": "",
      "execution_count": null,
      "outputs": []
    },
    {
      "metadata": {
        "trusted": false
      },
      "cell_type": "code",
      "source": "",
      "execution_count": null,
      "outputs": []
    }
  ],
  "metadata": {
    "kernelspec": {
      "name": "python3",
      "display_name": "Python 3",
      "language": "python"
    },
    "language_info": {
      "mimetype": "text/x-python",
      "nbconvert_exporter": "python",
      "name": "python",
      "pygments_lexer": "ipython3",
      "version": "3.5.4",
      "file_extension": ".py",
      "codemirror_mode": {
        "version": 3,
        "name": "ipython"
      }
    }
  },
  "nbformat": 4,
  "nbformat_minor": 2
}