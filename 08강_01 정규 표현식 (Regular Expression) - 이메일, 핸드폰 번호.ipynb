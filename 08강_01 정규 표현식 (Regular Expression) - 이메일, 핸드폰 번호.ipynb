{
  "cells": [
    {
      "metadata": {
        "trusted": true
      },
      "cell_type": "code",
      "source": " # 이메일, 핸드폰 번호 정규표현식",
      "execution_count": 1,
      "outputs": []
    },
    {
      "metadata": {
        "trusted": true
      },
      "cell_type": "code",
      "source": "import re \n\nwith open(\"crawled.txt\", \"r\") as f:\n    data = f.read()\n#     print(data)\n\n#     phonenumber_regex = \"\\d{3}[-]?\\d{3,4}[-]?\\d{4}\"   \n    phonenumber_regex = \"[0-9영공빵일이둘삼사오육칠팔구]{3}[-]?[0-9영공빵일이둘삼사오육칠팔구]{3,4}[-]?[0-9영공빵일이둘삼사오육칠팔구]{4}\"\n\n    # 1. 정규표현식(regex)\n    \n    # \\d => 숫자가 나온다 => [0-9]\n    # \\d{3} => 숫자가 3번 나온다.\n    # [-]? => \"-\" 가 나올수도 있고 안나올 수도 있다.\n    \n    # 이런 데이터를 먼저 전처리를 하고 ( 공 => 0 )\n    # 정규표현식을 만을 가지고 해결할 수 있을까? ( O )\n    \n    # * => 0 ~ n\n    # ? => 0 - 1\n    # + => 1 - n\n    \n    phonenumber_pattern = re.compile(phonenumber_regex)   # 파이썬에서 정규표현식을 사용할 수 있도록 SRE_pattern 객체로 변경\n    phonenumber_list = phonenumber_pattern.findall(data)  # 2. 파이썬에서 정규표현식 함수를 사용한다.\n    \n    # ex) \"다섯\" 이라는 텍스트가 포함이 되는 ...\n    # \"12다섯456\"\n    # [a-zA-Z0-9_]*다섯[a-zA-Z0-9_]*\n    \n#     email_regex = \"[a-zA-Z0-9_]+[@][a-zA-Z0-9_]+[.][a-z]+[.]?[a-z]+$\" # 정규표현식\n    email_regex = \"[a-zA-Z0-9_.]+[@][a-zA-Z0-9.]+\"\n    # {} => 자리수가 정해져있는 상황 ( 핸드폰 번호 ... )\n    \n    email_pattern = re.compile(email_regex)\n    email_list = email_pattern.findall(data)\n    \n    # .com\n    # .co.kr\n    \nprint(phonenumber_list)\nprint(email_list)",
      "execution_count": 25,
      "outputs": [
        {
          "output_type": "stream",
          "text": "['공일공둘둘영삼오일팔', '010-2222-3434', '011-1112-2342']\n['realwunz@gmail.com', '2glya@naver.com', 'realwunz.p@gmail.com']\n",
          "name": "stdout"
        }
      ]
    },
    {
      "metadata": {
        "trusted": true
      },
      "cell_type": "code",
      "source": "def preprocess(phonenumber):\n    preprocess_dict = {\n        \"영\": 0,\n        \"공\": 0,\n        \"일\": 1, \n        \"둘\": 2,\n        \"이\": 2,\n        \"삼\": 3,\n        \"사\": 4,\n        \"오\": 5,\n        \"육\": 6,\n        \"칠\": 7,\n        \"팔\": 8,\n        \"구\": 9,\n        \"-\": \"\",\n    }\n    \n    for key, value in preprocess_dict.items():\n        phonenumber = phonenumber.replace(key, str(value))\n    return phonenumber",
      "execution_count": 34,
      "outputs": []
    },
    {
      "metadata": {
        "trusted": true
      },
      "cell_type": "code",
      "source": "[preprocess(phonenumber) for phonenumber in phonenumber_list]",
      "execution_count": 35,
      "outputs": [
        {
          "output_type": "execute_result",
          "execution_count": 35,
          "data": {
            "text/plain": "['0102203518', '01022223434', '01111122342']"
          },
          "metadata": {}
        }
      ]
    },
    {
      "metadata": {
        "trusted": true
      },
      "cell_type": "code",
      "source": "",
      "execution_count": null,
      "outputs": []
    }
  ],
  "metadata": {
    "kernelspec": {
      "name": "python36",
      "display_name": "Python 3.6",
      "language": "python"
    },
    "language_info": {
      "mimetype": "text/x-python",
      "nbconvert_exporter": "python",
      "name": "python",
      "pygments_lexer": "ipython3",
      "version": "3.6.6",
      "file_extension": ".py",
      "codemirror_mode": {
        "version": 3,
        "name": "ipython"
      }
    }
  },
  "nbformat": 4,
  "nbformat_minor": 2
}