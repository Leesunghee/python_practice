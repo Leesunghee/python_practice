{
  "cells": [
    {
      "metadata": {
        "trusted": true
      },
      "cell_type": "code",
      "source": "# 디버깅 ( debuggign )\n\n# 오류 ( errors )\n# 예외 ( Exception ) 처리 ( Handling )",
      "execution_count": 1,
      "outputs": []
    },
    {
      "metadata": {
        "trusted": true
      },
      "cell_type": "code",
      "source": "for i in range(3):\n    a = i * 7 # 0, 7, 14\n    b = 1 + 2 # 2, 3, 4\n    c = a * b # 0, 21, 56",
      "execution_count": 2,
      "outputs": []
    },
    {
      "metadata": {
        "trusted": true
      },
      "cell_type": "code",
      "source": "# Jupyter Notebook\n# Jupyter ( python interpreter ) => Jupyter Notebook\n# Jupyter (x) => IPython ( 예전 이름 )\n\n# Jupyter Notebook => Multi-user => Jupyterhub\n\n# Debugging => IPython 에 내장되어 있는 기능\n",
      "execution_count": 3,
      "outputs": []
    },
    {
      "metadata": {
        "trusted": true
      },
      "cell_type": "code",
      "source": "name = \"Sunghee Lee\"\nage = 24\n\nfrom IPython import embed\nembed()",
      "execution_count": 1,
      "outputs": [
        {
          "output_type": "stream",
          "text": "Python 3.6.6 |Anaconda custom (64-bit)| (default, Jun 28 2018, 17:14:51) \nType 'copyright', 'credits' or 'license' for more information\nIPython 6.2.1 -- An enhanced Interactive Python. Type '?' for help.\n\nIn [1]: name\nOut[1]: 'Sunghee Lee'\n\nIn [2]: age\nOut[2]: 24\n\nIn [3]: exit()\n\n",
          "name": "stdout"
        }
      ]
    },
    {
      "metadata": {
        "trusted": true,
        "scrolled": true
      },
      "cell_type": "code",
      "source": "for i in range(3):\n    a = i * 7 # 0, 7, 14\n    b = 1 + 2 # 2, 3, 4\n    c = a * b # 0, 21, 56\n    \n    embed()\n    ",
      "execution_count": 2,
      "outputs": [
        {
          "output_type": "stream",
          "text": "Python 3.6.6 |Anaconda custom (64-bit)| (default, Jun 28 2018, 17:14:51) \nType 'copyright', 'credits' or 'license' for more information\nIPython 6.2.1 -- An enhanced Interactive Python. Type '?' for help.\n\nIn [1]: a, b\nOut[1]: (0, 3)\n\nIn [2]: a, b\nOut[2]: (0, 3)\n\nIn [3]: a, b\nOut[3]: (0, 3)\n\nIn [4]: a, b\nOut[4]: (0, 3)\n\nIn [5]: exit()\n\nPython 3.6.6 |Anaconda custom (64-bit)| (default, Jun 28 2018, 17:14:51) \nType 'copyright', 'credits' or 'license' for more information\nIPython 6.2.1 -- An enhanced Interactive Python. Type '?' for help.\n\nIn [1]: exit()\n\nPython 3.6.6 |Anaconda custom (64-bit)| (default, Jun 28 2018, 17:14:51) \nType 'copyright', 'credits' or 'license' for more information\nIPython 6.2.1 -- An enhanced Interactive Python. Type '?' for help.\n\nIn [1]: exit()\n\n",
          "name": "stdout"
        }
      ]
    },
    {
      "metadata": {
        "trusted": true
      },
      "cell_type": "code",
      "source": "from IPython import embed\nembed()",
      "execution_count": 6,
      "outputs": [
        {
          "output_type": "stream",
          "text": "Python 3.6.6 |Anaconda custom (64-bit)| (default, Jun 28 2018, 17:14:51) \nType 'copyright', 'credits' or 'license' for more information\nIPython 6.2.1 -- An enhanced Interactive Python. Type '?' for help.\n\nIn [1]: exit()\n\n",
          "name": "stdout"
        }
      ]
    },
    {
      "metadata": {
        "trusted": true
      },
      "cell_type": "code",
      "source": "a = 3",
      "execution_count": 8,
      "outputs": []
    },
    {
      "metadata": {
        "trusted": true
      },
      "cell_type": "code",
      "source": "# IPython embed => 가장 많이 사용할 방법 : 실행 중이면 무조건 exit() 종료 해야 다음이 실행된다. ",
      "execution_count": 9,
      "outputs": []
    },
    {
      "metadata": {
        "trusted": true
      },
      "cell_type": "code",
      "source": "def fibo(n):\n    if n <= 0:\n        return 0\n    if n == 1:\n        return 1\n#     from IPython import embed; embed()\n    return fibo(n-1) + fibo(n-2)",
      "execution_count": 10,
      "outputs": []
    },
    {
      "metadata": {
        "trusted": true
      },
      "cell_type": "code",
      "source": "fibo(5)",
      "execution_count": 11,
      "outputs": [
        {
          "output_type": "stream",
          "text": "Python 3.6.6 |Anaconda custom (64-bit)| (default, Jun 28 2018, 17:14:51) \nType 'copyright', 'credits' or 'license' for more information\nIPython 6.2.1 -- An enhanced Interactive Python. Type '?' for help.\n\nIn [1]: n\nOut[1]: 5\n\nIn [2]: exit()\n\nPython 3.6.6 |Anaconda custom (64-bit)| (default, Jun 28 2018, 17:14:51) \nType 'copyright', 'credits' or 'license' for more information\nIPython 6.2.1 -- An enhanced Interactive Python. Type '?' for help.\n\nIn [1]: n\nOut[1]: 4\n\nIn [2]: exit()\n\nPython 3.6.6 |Anaconda custom (64-bit)| (default, Jun 28 2018, 17:14:51) \nType 'copyright', 'credits' or 'license' for more information\nIPython 6.2.1 -- An enhanced Interactive Python. Type '?' for help.\n\nIn [1]: n\nOut[1]: 3\n\nIn [2]: exit()\n\nPython 3.6.6 |Anaconda custom (64-bit)| (default, Jun 28 2018, 17:14:51) \nType 'copyright', 'credits' or 'license' for more information\nIPython 6.2.1 -- An enhanced Interactive Python. Type '?' for help.\n\nIn [1]: n\nOut[1]: 2\n\nIn [2]: exit()\n\nPython 3.6.6 |Anaconda custom (64-bit)| (default, Jun 28 2018, 17:14:51) \nType 'copyright', 'credits' or 'license' for more information\nIPython 6.2.1 -- An enhanced Interactive Python. Type '?' for help.\n\nIn [1]: exit()\n\nPython 3.6.6 |Anaconda custom (64-bit)| (default, Jun 28 2018, 17:14:51) \nType 'copyright', 'credits' or 'license' for more information\nIPython 6.2.1 -- An enhanced Interactive Python. Type '?' for help.\n\nIn [1]: exit()\n\nPython 3.6.6 |Anaconda custom (64-bit)| (default, Jun 28 2018, 17:14:51) \nType 'copyright', 'credits' or 'license' for more information\nIPython 6.2.1 -- An enhanced Interactive Python. Type '?' for help.\n\nIn [1]: exit()\n\n",
          "name": "stdout"
        },
        {
          "output_type": "execute_result",
          "execution_count": 11,
          "data": {
            "text/plain": "5"
          },
          "metadata": {}
        }
      ]
    },
    {
      "metadata": {
        "trusted": true
      },
      "cell_type": "code",
      "source": "class Student():\n    \n    def __init__(self, name, age):\n        self.name = name\n        self.age = age\n        \n    def introduce(self):\n        from IPython import embed; embed()\n        return (self.name, self.age)",
      "execution_count": 12,
      "outputs": []
    },
    {
      "metadata": {
        "trusted": true
      },
      "cell_type": "code",
      "source": "leesunghee = Student(\"leesunghee\", 23)",
      "execution_count": 13,
      "outputs": []
    },
    {
      "metadata": {
        "trusted": true
      },
      "cell_type": "code",
      "source": "leesunghee.introduce()",
      "execution_count": 14,
      "outputs": [
        {
          "output_type": "stream",
          "text": "Python 3.6.6 |Anaconda custom (64-bit)| (default, Jun 28 2018, 17:14:51) \nType 'copyright', 'credits' or 'license' for more information\nIPython 6.2.1 -- An enhanced Interactive Python. Type '?' for help.\n\nIn [1]: self\nOut[1]: <__main__.Student at 0x7ff31bf44a58>\n\nIn [2]: self.name\nOut[2]: 'leesunghee'\n\nIn [3]: self.age\nOut[3]: 23\n\nIn [4]: exit()\n\n",
          "name": "stdout"
        },
        {
          "output_type": "execute_result",
          "execution_count": 14,
          "data": {
            "text/plain": "('leesunghee', 23)"
          },
          "metadata": {}
        }
      ]
    },
    {
      "metadata": {
        "trusted": true
      },
      "cell_type": "code",
      "source": "# 출력을 하기는 합니다.\n# 다만, print 로 직접 하지는 않아요.\n# 로그를 쌓는다 ( Log ) => logging\n\n",
      "execution_count": 15,
      "outputs": []
    },
    {
      "metadata": {
        "trusted": true
      },
      "cell_type": "code",
      "source": "import logging",
      "execution_count": 16,
      "outputs": []
    },
    {
      "metadata": {
        "trusted": true
      },
      "cell_type": "code",
      "source": "# logging => debug, info, warning, danger, critical\nlogging.warning(\"hello world\")",
      "execution_count": 17,
      "outputs": [
        {
          "output_type": "stream",
          "text": "WARNING:root:hello world\n",
          "name": "stderr"
        }
      ]
    },
    {
      "metadata": {
        "trusted": true
      },
      "cell_type": "code",
      "source": "# 디버깅\n\n# 오류와 예외처리 ( Errors, Exception Handing )\n# 오류와 예외 \n\n# Error, Exception\n# trackback \n",
      "execution_count": 18,
      "outputs": []
    },
    {
      "metadata": {
        "trusted": true
      },
      "cell_type": "code",
      "source": "name1",
      "execution_count": 20,
      "outputs": [
        {
          "output_type": "error",
          "ename": "NameError",
          "evalue": "name 'name1' is not defined",
          "traceback": [
            "\u001b[0;31m---------------------------------------------------------------------------\u001b[0m",
            "\u001b[0;31mNameError\u001b[0m                                 Traceback (most recent call last)",
            "\u001b[0;32m<ipython-input-20-6dd983599d8b>\u001b[0m in \u001b[0;36m<module>\u001b[0;34m()\u001b[0m\n\u001b[0;32m----> 1\u001b[0;31m \u001b[0mname1\u001b[0m\u001b[0;34m\u001b[0m\u001b[0m\n\u001b[0m",
            "\u001b[0;31mNameError\u001b[0m: name 'name1' is not defined"
          ]
        }
      ]
    },
    {
      "metadata": {
        "trusted": true
      },
      "cell_type": "code",
      "source": "# Error\n# 실행 자체가 되지 않습니다.\n# 문법 자체의 오류 => SyntaxError ( ParsingError )\nif True\n    print(\"hello world\")\n    \n# SyntaxError 는 안생기면 제일 좋습니다.\n\n# 오류 2가지 => SyntaxError 0, syntaxError X ( Exception )",
      "execution_count": 24,
      "outputs": [
        {
          "output_type": "error",
          "ename": "SyntaxError",
          "evalue": "invalid syntax (<ipython-input-24-d9eb9ec1d701>, line 4)",
          "traceback": [
            "\u001b[0;36m  File \u001b[0;32m\"<ipython-input-24-d9eb9ec1d701>\"\u001b[0;36m, line \u001b[0;32m4\u001b[0m\n\u001b[0;31m    if True\u001b[0m\n\u001b[0m           ^\u001b[0m\n\u001b[0;31mSyntaxError\u001b[0m\u001b[0;31m:\u001b[0m invalid syntax\n"
          ]
        }
      ]
    },
    {
      "metadata": {
        "trusted": true
      },
      "cell_type": "code",
      "source": "import logging\nlogging.warning(\"hello\")\n\n# WARNING:root:hello => [\"WARNING\", \"root\", hello]",
      "execution_count": 23,
      "outputs": [
        {
          "output_type": "stream",
          "text": "WARNING:root:hello\n",
          "name": "stderr"
        }
      ]
    },
    {
      "metadata": {
        "trusted": true
      },
      "cell_type": "code",
      "source": "# 3가지 이상의 Exception이 뜨도록",
      "execution_count": 25,
      "outputs": []
    },
    {
      "metadata": {
        "trusted": true
      },
      "cell_type": "code",
      "source": "sunghee",
      "execution_count": 26,
      "outputs": [
        {
          "output_type": "error",
          "ename": "NameError",
          "evalue": "name 'sunghee' is not defined",
          "traceback": [
            "\u001b[0;31m---------------------------------------------------------------------------\u001b[0m",
            "\u001b[0;31mNameError\u001b[0m                                 Traceback (most recent call last)",
            "\u001b[0;32m<ipython-input-26-95b05bad40b2>\u001b[0m in \u001b[0;36m<module>\u001b[0;34m()\u001b[0m\n\u001b[0;32m----> 1\u001b[0;31m \u001b[0msunghee\u001b[0m\u001b[0;34m\u001b[0m\u001b[0m\n\u001b[0m",
            "\u001b[0;31mNameError\u001b[0m: name 'sunghee' is not defined"
          ]
        }
      ]
    },
    {
      "metadata": {
        "trusted": true
      },
      "cell_type": "code",
      "source": "2 + \"이성희\"",
      "execution_count": 27,
      "outputs": [
        {
          "output_type": "error",
          "ename": "TypeError",
          "evalue": "unsupported operand type(s) for +: 'int' and 'str'",
          "traceback": [
            "\u001b[0;31m---------------------------------------------------------------------------\u001b[0m",
            "\u001b[0;31mTypeError\u001b[0m                                 Traceback (most recent call last)",
            "\u001b[0;32m<ipython-input-27-862d8655efa6>\u001b[0m in \u001b[0;36m<module>\u001b[0;34m()\u001b[0m\n\u001b[0;32m----> 1\u001b[0;31m \u001b[0;36m2\u001b[0m \u001b[0;34m+\u001b[0m \u001b[0;34m\"이성희\"\u001b[0m\u001b[0;34m\u001b[0m\u001b[0m\n\u001b[0m",
            "\u001b[0;31mTypeError\u001b[0m: unsupported operand type(s) for +: 'int' and 'str'"
          ]
        }
      ]
    },
    {
      "metadata": {
        "trusted": true
      },
      "cell_type": "code",
      "source": "list()[2]",
      "execution_count": 28,
      "outputs": [
        {
          "output_type": "error",
          "ename": "IndexError",
          "evalue": "list index out of range",
          "traceback": [
            "\u001b[0;31m---------------------------------------------------------------------------\u001b[0m",
            "\u001b[0;31mIndexError\u001b[0m                                Traceback (most recent call last)",
            "\u001b[0;32m<ipython-input-28-69f34b6dd101>\u001b[0m in \u001b[0;36m<module>\u001b[0;34m()\u001b[0m\n\u001b[0;32m----> 1\u001b[0;31m \u001b[0mlist\u001b[0m\u001b[0;34m(\u001b[0m\u001b[0;34m)\u001b[0m\u001b[0;34m[\u001b[0m\u001b[0;36m2\u001b[0m\u001b[0;34m]\u001b[0m\u001b[0;34m\u001b[0m\u001b[0m\n\u001b[0m",
            "\u001b[0;31mIndexError\u001b[0m: list index out of range"
          ]
        }
      ]
    },
    {
      "metadata": {
        "trusted": true
      },
      "cell_type": "code",
      "source": "{}[\"leesunghee\"]",
      "execution_count": 29,
      "outputs": [
        {
          "output_type": "error",
          "ename": "KeyError",
          "evalue": "'leesunghee'",
          "traceback": [
            "\u001b[0;31m---------------------------------------------------------------------------\u001b[0m",
            "\u001b[0;31mKeyError\u001b[0m                                  Traceback (most recent call last)",
            "\u001b[0;32m<ipython-input-29-cadbe8fd6717>\u001b[0m in \u001b[0;36m<module>\u001b[0;34m()\u001b[0m\n\u001b[0;32m----> 1\u001b[0;31m \u001b[0;34m{\u001b[0m\u001b[0;34m}\u001b[0m\u001b[0;34m[\u001b[0m\u001b[0;34m\"leesunghee\"\u001b[0m\u001b[0;34m]\u001b[0m\u001b[0;34m\u001b[0m\u001b[0m\n\u001b[0m",
            "\u001b[0;31mKeyError\u001b[0m: 'leesunghee'"
          ]
        }
      ]
    },
    {
      "metadata": {
        "trusted": true
      },
      "cell_type": "code",
      "source": "{}.append()",
      "execution_count": 30,
      "outputs": [
        {
          "output_type": "error",
          "ename": "AttributeError",
          "evalue": "'dict' object has no attribute 'append'",
          "traceback": [
            "\u001b[0;31m---------------------------------------------------------------------------\u001b[0m",
            "\u001b[0;31mAttributeError\u001b[0m                            Traceback (most recent call last)",
            "\u001b[0;32m<ipython-input-30-89111c785784>\u001b[0m in \u001b[0;36m<module>\u001b[0;34m()\u001b[0m\n\u001b[0;32m----> 1\u001b[0;31m \u001b[0;34m{\u001b[0m\u001b[0;34m}\u001b[0m\u001b[0;34m.\u001b[0m\u001b[0mappend\u001b[0m\u001b[0;34m(\u001b[0m\u001b[0;34m)\u001b[0m\u001b[0;34m\u001b[0m\u001b[0m\n\u001b[0m",
            "\u001b[0;31mAttributeError\u001b[0m: 'dict' object has no attribute 'append'"
          ]
        }
      ]
    },
    {
      "metadata": {
        "trusted": true
      },
      "cell_type": "code",
      "source": "with open(\"./not_exist_file.notexisty\", \"r\") as f:\n    pass",
      "execution_count": 31,
      "outputs": [
        {
          "output_type": "error",
          "ename": "FileNotFoundError",
          "evalue": "[Errno 2] No such file or directory: './not_exist_file.notexisty'",
          "traceback": [
            "\u001b[0;31m---------------------------------------------------------------------------\u001b[0m",
            "\u001b[0;31mFileNotFoundError\u001b[0m                         Traceback (most recent call last)",
            "\u001b[0;32m<ipython-input-31-6331c69a1a69>\u001b[0m in \u001b[0;36m<module>\u001b[0;34m()\u001b[0m\n\u001b[0;32m----> 1\u001b[0;31m \u001b[0;32mwith\u001b[0m \u001b[0mopen\u001b[0m\u001b[0;34m(\u001b[0m\u001b[0;34m\"./not_exist_file.notexisty\"\u001b[0m\u001b[0;34m,\u001b[0m \u001b[0;34m\"r\"\u001b[0m\u001b[0;34m)\u001b[0m \u001b[0;32mas\u001b[0m \u001b[0mf\u001b[0m\u001b[0;34m:\u001b[0m\u001b[0;34m\u001b[0m\u001b[0m\n\u001b[0m\u001b[1;32m      2\u001b[0m     \u001b[0;32mpass\u001b[0m\u001b[0;34m\u001b[0m\u001b[0m\n",
            "\u001b[0;31mFileNotFoundError\u001b[0m: [Errno 2] No such file or directory: './not_exist_file.notexisty'"
          ]
        }
      ]
    },
    {
      "metadata": {
        "trusted": true
      },
      "cell_type": "code",
      "source": "# Exception => 좋은거 => 일단 우리가 남이 의도하지 않은 방향대로 뭔가(클래스, 함수, 객체 ... )를 쓰고 읽기",
      "execution_count": 32,
      "outputs": []
    },
    {
      "metadata": {
        "trusted": true
      },
      "cell_type": "code",
      "source": "def fibo(n):\n    \"\"\"\n    아 이거 계속 - 넣는 사람들이 있는데,\n    넣지 마세요.\n    \"\"\"\n    if n <= 0:\n        return 0\n    if n == 1:\n        return 1\n    return fibo(n-2) + fibo(n-1)",
      "execution_count": 34,
      "outputs": []
    },
    {
      "metadata": {
        "trusted": true
      },
      "cell_type": "code",
      "source": "fibo?",
      "execution_count": 35,
      "outputs": []
    },
    {
      "metadata": {
        "trusted": true
      },
      "cell_type": "code",
      "source": "fibo(-4) # FibonacciShouldgetPositiveNumberError",
      "execution_count": 36,
      "outputs": [
        {
          "output_type": "execute_result",
          "execution_count": 36,
          "data": {
            "text/plain": "0"
          },
          "metadata": {}
        }
      ]
    },
    {
      "metadata": {
        "trusted": true
      },
      "cell_type": "code",
      "source": "# Exception Handling\n# 예외를 처리하는 방법 => NameError, FileNotFoundError, AttributeError, ...\n\n# 우리가 직접 예외를 만드는 방법 ( FibonacciShouldGetPositiveNumberError => 우리만의 예외 )\n",
      "execution_count": 37,
      "outputs": []
    },
    {
      "metadata": {
        "trusted": true
      },
      "cell_type": "code",
      "source": "NameError",
      "execution_count": 38,
      "outputs": [
        {
          "output_type": "execute_result",
          "execution_count": 38,
          "data": {
            "text/plain": "NameError"
          },
          "metadata": {}
        }
      ]
    },
    {
      "metadata": {
        "trusted": true
      },
      "cell_type": "code",
      "source": "Exception? ",
      "execution_count": 39,
      "outputs": []
    },
    {
      "metadata": {
        "trusted": true
      },
      "cell_type": "code",
      "source": "",
      "execution_count": null,
      "outputs": []
    }
  ],
  "metadata": {
    "kernelspec": {
      "name": "python36",
      "display_name": "Python 3.6",
      "language": "python"
    },
    "language_info": {
      "mimetype": "text/x-python",
      "nbconvert_exporter": "python",
      "name": "python",
      "pygments_lexer": "ipython3",
      "version": "3.6.6",
      "file_extension": ".py",
      "codemirror_mode": {
        "version": 3,
        "name": "ipython"
      }
    }
  },
  "nbformat": 4,
  "nbformat_minor": 2
}