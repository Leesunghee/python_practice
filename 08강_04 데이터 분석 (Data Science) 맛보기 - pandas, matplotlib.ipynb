{
  "cells": [
    {
      "metadata": {
        "trusted": true
      },
      "cell_type": "code",
      "source": "# pandas - pydata",
      "execution_count": 1,
      "outputs": []
    },
    {
      "metadata": {
        "trusted": true
      },
      "cell_type": "code",
      "source": "# http://pandas.pydata.org",
      "execution_count": 2,
      "outputs": []
    },
    {
      "metadata": {
        "trusted": true
      },
      "cell_type": "code",
      "source": "import pandas as pd",
      "execution_count": 3,
      "outputs": []
    },
    {
      "metadata": {
        "trusted": true
      },
      "cell_type": "code",
      "source": "pd",
      "execution_count": 4,
      "outputs": [
        {
          "output_type": "execute_result",
          "execution_count": 4,
          "data": {
            "text/plain": "<module 'pandas' from '/home/nbuser/anaconda3_501/lib/python3.6/site-packages/pandas/__init__.py'>"
          },
          "metadata": {}
        }
      ]
    },
    {
      "metadata": {
        "trusted": true
      },
      "cell_type": "code",
      "source": "# DataFrame 이라는 자료형",
      "execution_count": 5,
      "outputs": []
    },
    {
      "metadata": {
        "trusted": true
      },
      "cell_type": "code",
      "source": "pd.read_csv(\"dss.csv\")",
      "execution_count": 6,
      "outputs": [
        {
          "output_type": "execute_result",
          "execution_count": 6,
          "data": {
            "text/html": "<div>\n<style scoped>\n    .dataframe tbody tr th:only-of-type {\n        vertical-align: middle;\n    }\n\n    .dataframe tbody tr th {\n        vertical-align: top;\n    }\n\n    .dataframe thead th {\n        text-align: right;\n    }\n</style>\n<table border=\"1\" class=\"dataframe\">\n  <thead>\n    <tr style=\"text-align: right;\">\n      <th></th>\n      <th>adamsta0109</th>\n      <th>terrya@contoso.edu</th>\n      <th>Terry</th>\n      <th>Adams</th>\n      <th>1091990</th>\n    </tr>\n  </thead>\n  <tbody>\n    <tr>\n      <th>0</th>\n      <td>beebeab0211</td>\n      <td>annb@contoso.edu</td>\n      <td>Ann</td>\n      <td>Beebe</td>\n      <td>2111991</td>\n    </tr>\n    <tr>\n      <th>1</th>\n      <td>cannocc0328</td>\n      <td>chrisc@contoso.edu</td>\n      <td>Chris</td>\n      <td>Cannon</td>\n      <td>3281986</td>\n    </tr>\n    <tr>\n      <th>2</th>\n      <td>desaipd0430</td>\n      <td>prashanthd@contoso.edu</td>\n      <td>Prashanth</td>\n      <td>Desi</td>\n      <td>4301989</td>\n    </tr>\n    <tr>\n      <th>3</th>\n      <td>ersanee0529</td>\n      <td>ebrue@contoso.edu</td>\n      <td>Ebru</td>\n      <td>Ersan</td>\n      <td>5291988</td>\n    </tr>\n    <tr>\n      <th>4</th>\n      <td>flipffo0628</td>\n      <td>florencef@contoso.edu</td>\n      <td>Florence</td>\n      <td>Flipo</td>\n      <td>6281989</td>\n    </tr>\n    <tr>\n      <th>5</th>\n      <td>garciadg0726</td>\n      <td>debrag@contoso.edu</td>\n      <td>Debra</td>\n      <td>Garcia</td>\n      <td>7271986</td>\n    </tr>\n    <tr>\n      <th>6</th>\n      <td>halbeph0826</td>\n      <td>pernilleh@contoso.edu</td>\n      <td>Pernille</td>\n      <td>Halberg</td>\n      <td>8261986</td>\n    </tr>\n    <tr>\n      <th>7</th>\n      <td>ilyinji0925</td>\n      <td>julial@contoso.edu</td>\n      <td>Julia</td>\n      <td>Ilyina</td>\n      <td>9251985</td>\n    </tr>\n    <tr>\n      <th>8</th>\n      <td>johnstj1024</td>\n      <td>tamaraj@contoso.edu</td>\n      <td>Tamara</td>\n      <td>Johnston</td>\n      <td>10241987</td>\n    </tr>\n  </tbody>\n</table>\n</div>",
            "text/plain": "    adamsta0109      terrya@contoso.edu      Terry     Adams   1091990\n0   beebeab0211        annb@contoso.edu        Ann     Beebe   2111991\n1   cannocc0328      chrisc@contoso.edu      Chris    Cannon   3281986\n2   desaipd0430  prashanthd@contoso.edu  Prashanth      Desi   4301989\n3   ersanee0529       ebrue@contoso.edu       Ebru     Ersan   5291988\n4   flipffo0628   florencef@contoso.edu   Florence     Flipo   6281989\n5  garciadg0726      debrag@contoso.edu      Debra    Garcia   7271986\n6   halbeph0826   pernilleh@contoso.edu   Pernille   Halberg   8261986\n7   ilyinji0925      julial@contoso.edu      Julia    Ilyina   9251985\n8   johnstj1024     tamaraj@contoso.edu     Tamara  Johnston  10241987"
          },
          "metadata": {}
        }
      ]
    },
    {
      "metadata": {
        "trusted": true
      },
      "cell_type": "code",
      "source": "# pd.read_excel\n# pd.read_sql",
      "execution_count": 7,
      "outputs": []
    },
    {
      "metadata": {
        "trusted": true
      },
      "cell_type": "code",
      "source": "df = pd.DataFrame()",
      "execution_count": 8,
      "outputs": []
    },
    {
      "metadata": {
        "trusted": true
      },
      "cell_type": "code",
      "source": "df",
      "execution_count": 9,
      "outputs": [
        {
          "output_type": "execute_result",
          "execution_count": 9,
          "data": {
            "text/html": "<div>\n<style scoped>\n    .dataframe tbody tr th:only-of-type {\n        vertical-align: middle;\n    }\n\n    .dataframe tbody tr th {\n        vertical-align: top;\n    }\n\n    .dataframe thead th {\n        text-align: right;\n    }\n</style>\n<table border=\"1\" class=\"dataframe\">\n  <thead>\n    <tr style=\"text-align: right;\">\n      <th></th>\n    </tr>\n  </thead>\n  <tbody>\n  </tbody>\n</table>\n</div>",
            "text/plain": "Empty DataFrame\nColumns: []\nIndex: []"
          },
          "metadata": {}
        }
      ]
    },
    {
      "metadata": {
        "trusted": true
      },
      "cell_type": "code",
      "source": "df = pd.DataFrame(columns=[\"address\", \"deposit\", \"rent\", \"phonenumber\"])\ndf",
      "execution_count": 10,
      "outputs": [
        {
          "output_type": "execute_result",
          "execution_count": 10,
          "data": {
            "text/html": "<div>\n<style scoped>\n    .dataframe tbody tr th:only-of-type {\n        vertical-align: middle;\n    }\n\n    .dataframe tbody tr th {\n        vertical-align: top;\n    }\n\n    .dataframe thead th {\n        text-align: right;\n    }\n</style>\n<table border=\"1\" class=\"dataframe\">\n  <thead>\n    <tr style=\"text-align: right;\">\n      <th></th>\n      <th>address</th>\n      <th>deposit</th>\n      <th>rent</th>\n      <th>phonenumber</th>\n    </tr>\n  </thead>\n  <tbody>\n  </tbody>\n</table>\n</div>",
            "text/plain": "Empty DataFrame\nColumns: [address, deposit, rent, phonenumber]\nIndex: []"
          },
          "metadata": {}
        }
      ]
    },
    {
      "metadata": {
        "trusted": true
      },
      "cell_type": "code",
      "source": "df.loc[0] = [\"주소\", 1000, 100, \"01023433234\"]",
      "execution_count": 11,
      "outputs": []
    },
    {
      "metadata": {
        "trusted": true
      },
      "cell_type": "code",
      "source": "df",
      "execution_count": 12,
      "outputs": [
        {
          "output_type": "execute_result",
          "execution_count": 12,
          "data": {
            "text/html": "<div>\n<style scoped>\n    .dataframe tbody tr th:only-of-type {\n        vertical-align: middle;\n    }\n\n    .dataframe tbody tr th {\n        vertical-align: top;\n    }\n\n    .dataframe thead th {\n        text-align: right;\n    }\n</style>\n<table border=\"1\" class=\"dataframe\">\n  <thead>\n    <tr style=\"text-align: right;\">\n      <th></th>\n      <th>address</th>\n      <th>deposit</th>\n      <th>rent</th>\n      <th>phonenumber</th>\n    </tr>\n  </thead>\n  <tbody>\n    <tr>\n      <th>0</th>\n      <td>주소</td>\n      <td>1000</td>\n      <td>100</td>\n      <td>01023433234</td>\n    </tr>\n  </tbody>\n</table>\n</div>",
            "text/plain": "  address deposit rent  phonenumber\n0      주소    1000  100  01023433234"
          },
          "metadata": {}
        }
      ]
    },
    {
      "metadata": {
        "trusted": true
      },
      "cell_type": "code",
      "source": "df.loc[0]",
      "execution_count": 13,
      "outputs": [
        {
          "output_type": "execute_result",
          "execution_count": 13,
          "data": {
            "text/plain": "address                 주소\ndeposit               1000\nrent                   100\nphonenumber    01023433234\nName: 0, dtype: object"
          },
          "metadata": {}
        }
      ]
    },
    {
      "metadata": {
        "trusted": true
      },
      "cell_type": "code",
      "source": "df.loc[1] = [\"주소\", 1000, 100, \"01023433234\"]",
      "execution_count": 14,
      "outputs": []
    },
    {
      "metadata": {
        "trusted": true
      },
      "cell_type": "code",
      "source": "len(df)",
      "execution_count": 15,
      "outputs": [
        {
          "output_type": "execute_result",
          "execution_count": 15,
          "data": {
            "text/plain": "2"
          },
          "metadata": {}
        }
      ]
    },
    {
      "metadata": {
        "trusted": true
      },
      "cell_type": "code",
      "source": "df.loc[len(df)] = [\"주소\", 1000, 100, \"01023433234\"]",
      "execution_count": 16,
      "outputs": []
    },
    {
      "metadata": {
        "trusted": true
      },
      "cell_type": "code",
      "source": "df",
      "execution_count": 17,
      "outputs": [
        {
          "output_type": "execute_result",
          "execution_count": 17,
          "data": {
            "text/html": "<div>\n<style scoped>\n    .dataframe tbody tr th:only-of-type {\n        vertical-align: middle;\n    }\n\n    .dataframe tbody tr th {\n        vertical-align: top;\n    }\n\n    .dataframe thead th {\n        text-align: right;\n    }\n</style>\n<table border=\"1\" class=\"dataframe\">\n  <thead>\n    <tr style=\"text-align: right;\">\n      <th></th>\n      <th>address</th>\n      <th>deposit</th>\n      <th>rent</th>\n      <th>phonenumber</th>\n    </tr>\n  </thead>\n  <tbody>\n    <tr>\n      <th>0</th>\n      <td>주소</td>\n      <td>1000</td>\n      <td>100</td>\n      <td>01023433234</td>\n    </tr>\n    <tr>\n      <th>1</th>\n      <td>주소</td>\n      <td>1000</td>\n      <td>100</td>\n      <td>01023433234</td>\n    </tr>\n    <tr>\n      <th>2</th>\n      <td>주소</td>\n      <td>1000</td>\n      <td>100</td>\n      <td>01023433234</td>\n    </tr>\n  </tbody>\n</table>\n</div>",
            "text/plain": "  address deposit rent  phonenumber\n0      주소    1000  100  01023433234\n1      주소    1000  100  01023433234\n2      주소    1000  100  01023433234"
          },
          "metadata": {}
        }
      ]
    },
    {
      "metadata": {
        "trusted": true
      },
      "cell_type": "code",
      "source": "df.head(2)",
      "execution_count": 18,
      "outputs": [
        {
          "output_type": "execute_result",
          "execution_count": 18,
          "data": {
            "text/html": "<div>\n<style scoped>\n    .dataframe tbody tr th:only-of-type {\n        vertical-align: middle;\n    }\n\n    .dataframe tbody tr th {\n        vertical-align: top;\n    }\n\n    .dataframe thead th {\n        text-align: right;\n    }\n</style>\n<table border=\"1\" class=\"dataframe\">\n  <thead>\n    <tr style=\"text-align: right;\">\n      <th></th>\n      <th>address</th>\n      <th>deposit</th>\n      <th>rent</th>\n      <th>phonenumber</th>\n    </tr>\n  </thead>\n  <tbody>\n    <tr>\n      <th>0</th>\n      <td>주소</td>\n      <td>1000</td>\n      <td>100</td>\n      <td>01023433234</td>\n    </tr>\n    <tr>\n      <th>1</th>\n      <td>주소</td>\n      <td>1000</td>\n      <td>100</td>\n      <td>01023433234</td>\n    </tr>\n  </tbody>\n</table>\n</div>",
            "text/plain": "  address deposit rent  phonenumber\n0      주소    1000  100  01023433234\n1      주소    1000  100  01023433234"
          },
          "metadata": {}
        }
      ]
    },
    {
      "metadata": {
        "trusted": true
      },
      "cell_type": "code",
      "source": "df.tail()",
      "execution_count": 19,
      "outputs": [
        {
          "output_type": "execute_result",
          "execution_count": 19,
          "data": {
            "text/html": "<div>\n<style scoped>\n    .dataframe tbody tr th:only-of-type {\n        vertical-align: middle;\n    }\n\n    .dataframe tbody tr th {\n        vertical-align: top;\n    }\n\n    .dataframe thead th {\n        text-align: right;\n    }\n</style>\n<table border=\"1\" class=\"dataframe\">\n  <thead>\n    <tr style=\"text-align: right;\">\n      <th></th>\n      <th>address</th>\n      <th>deposit</th>\n      <th>rent</th>\n      <th>phonenumber</th>\n    </tr>\n  </thead>\n  <tbody>\n    <tr>\n      <th>0</th>\n      <td>주소</td>\n      <td>1000</td>\n      <td>100</td>\n      <td>01023433234</td>\n    </tr>\n    <tr>\n      <th>1</th>\n      <td>주소</td>\n      <td>1000</td>\n      <td>100</td>\n      <td>01023433234</td>\n    </tr>\n    <tr>\n      <th>2</th>\n      <td>주소</td>\n      <td>1000</td>\n      <td>100</td>\n      <td>01023433234</td>\n    </tr>\n  </tbody>\n</table>\n</div>",
            "text/plain": "  address deposit rent  phonenumber\n0      주소    1000  100  01023433234\n1      주소    1000  100  01023433234\n2      주소    1000  100  01023433234"
          },
          "metadata": {}
        }
      ]
    },
    {
      "metadata": {
        "trusted": true
      },
      "cell_type": "code",
      "source": "df.tail(1)",
      "execution_count": 20,
      "outputs": [
        {
          "output_type": "execute_result",
          "execution_count": 20,
          "data": {
            "text/html": "<div>\n<style scoped>\n    .dataframe tbody tr th:only-of-type {\n        vertical-align: middle;\n    }\n\n    .dataframe tbody tr th {\n        vertical-align: top;\n    }\n\n    .dataframe thead th {\n        text-align: right;\n    }\n</style>\n<table border=\"1\" class=\"dataframe\">\n  <thead>\n    <tr style=\"text-align: right;\">\n      <th></th>\n      <th>address</th>\n      <th>deposit</th>\n      <th>rent</th>\n      <th>phonenumber</th>\n    </tr>\n  </thead>\n  <tbody>\n    <tr>\n      <th>2</th>\n      <td>주소</td>\n      <td>1000</td>\n      <td>100</td>\n      <td>01023433234</td>\n    </tr>\n  </tbody>\n</table>\n</div>",
            "text/plain": "  address deposit rent  phonenumber\n2      주소    1000  100  01023433234"
          },
          "metadata": {}
        }
      ]
    },
    {
      "metadata": {
        "trusted": true
      },
      "cell_type": "code",
      "source": "df.loc[0:2]",
      "execution_count": 21,
      "outputs": [
        {
          "output_type": "execute_result",
          "execution_count": 21,
          "data": {
            "text/html": "<div>\n<style scoped>\n    .dataframe tbody tr th:only-of-type {\n        vertical-align: middle;\n    }\n\n    .dataframe tbody tr th {\n        vertical-align: top;\n    }\n\n    .dataframe thead th {\n        text-align: right;\n    }\n</style>\n<table border=\"1\" class=\"dataframe\">\n  <thead>\n    <tr style=\"text-align: right;\">\n      <th></th>\n      <th>address</th>\n      <th>deposit</th>\n      <th>rent</th>\n      <th>phonenumber</th>\n    </tr>\n  </thead>\n  <tbody>\n    <tr>\n      <th>0</th>\n      <td>주소</td>\n      <td>1000</td>\n      <td>100</td>\n      <td>01023433234</td>\n    </tr>\n    <tr>\n      <th>1</th>\n      <td>주소</td>\n      <td>1000</td>\n      <td>100</td>\n      <td>01023433234</td>\n    </tr>\n    <tr>\n      <th>2</th>\n      <td>주소</td>\n      <td>1000</td>\n      <td>100</td>\n      <td>01023433234</td>\n    </tr>\n  </tbody>\n</table>\n</div>",
            "text/plain": "  address deposit rent  phonenumber\n0      주소    1000  100  01023433234\n1      주소    1000  100  01023433234\n2      주소    1000  100  01023433234"
          },
          "metadata": {}
        }
      ]
    },
    {
      "metadata": {
        "trusted": true
      },
      "cell_type": "code",
      "source": "import requests\nimport json\nimport pandas as pd\n\nfor i in range(1):\n    start_room_id = 100000 + (i * 100) + 1\n    end_room_id = 100000 + ((i + 1) * 100)\n    # &item_ids=[ _____ , _____ ... ]\n    \n    BASE_URL = \"https://api.zigbang.com/v3/items?detail=true&item_ids=[\"\n    \n    result_url = BASE_URL + \",\".join([\n        str(room_id)\n        for room_id in range(start_room_id, end_room_id + 1)\n    ]) + \"]\"\n    \n    \ndef get_df_from_zigbang(url):\n    response = requests.get(url)\n    zigbang_dict = json.loads(response.text)\n    df = pd.DataFrame(columns=[\"address\", \"deposit\", \"rent\", \"phonenumber\"])\n    for item in zigbang_dict.get('items'):\n        room_information = item.get('item')\n        try:\n            address = room_information.get('agent_address1')\n            deposit = float(room_information.get('deposit'))\n            rent = float(room_information.get('rent'))\n            phonenumber = room_information.get('original_user_phone')\n            print((address, deposit, rent, phonenumber))\n            df.loc[len(df)] = [address, deposit, rent, phonenumber]\n        except:\n            pass\n        \n    return df\n",
      "execution_count": 1,
      "outputs": []
    },
    {
      "metadata": {
        "trusted": true
      },
      "cell_type": "code",
      "source": "# get_df_from_zigbang(\"https://api.zigbang.com/v3/items?detail=true&item_ids=[11469344]\")",
      "execution_count": 2,
      "outputs": []
    },
    {
      "metadata": {
        "trusted": true
      },
      "cell_type": "code",
      "source": "# 강남구 신사동 ( df1 )\n# 관악구 신림동 ( df2 )\ndf_shinsa = get_df_from_zigbang(\"https://api.zigbang.com/v3/items?detail=true&item_ids=[12999468,12774503,12925736,13007247,12997361,12813102,12879714,12953412,12738505,12914453,12936055,12978033,12899289,12986963,12850223,12995912,12932899,12892525,13003424,12927127,12864775,12910545,12970577,13008724,12983850,12946907,12867774,12977348,12942035,13001738,12685467,12833873,12855788,12964357,12801324,12836859,12822436,12799130,12947272,12834848,12844042,12954561,12932602,12766881,12932898,12978017,12992113,12870739,12713338,12982968,12757812,12901651,12967437,13004638,12996415,12979917,12960812,12949643,12949622,12747054]\")\n\ndf_shinlim = get_df_from_zigbang(\"https://api.zigbang.com/v3/items?detail=true&item_ids=[12956817,12970980,12828574,12950943,13009768,13007022,12992365,12987217,12889890,12936912,12969503,13000626,12952584,13003179,12963008,13000520,12836298,12735357,12866603,12962778,12953707,13002531,13005453,12948770,13004243,12837060,12914568,12958452,12957702,12943403,12981553,12967120,12871107,12987844,13007531,12999166,13000211,12836742,12974744,12969879,12999806,12934152,12991289,12948662,12998887,13001562,12910587,12982103,12978769,13009962,12962559,12972486,13000200,13005425,13009201,12862152,12691479,13008270,12916047,12920110]\")",
      "execution_count": 3,
      "outputs": [
        {
          "output_type": "stream",
          "text": "('서울특별시 서초구 사평대로53길 14-1, 1층(반포동)', 1000.0, 60.0, '010-2520-1799')\n('서울특별시 강남구 테헤란로33길 38 1층', 2000.0, 140.0, '010-7191-0902')\n('서울특별시 강남구 신사동 516-9', 3000.0, 180.0, '010-3586-8979')\n('서울특별시 강남구 논현동 148-2', 1000.0, 115.0, '010-9102-2074')\n('서울특별시 강남구 도곡로33길 24 1층 101호(역삼동)', 90.0, 90.0, '010-6635-2455')\n('서울특별시 강남구 역삼동 823번지 106호', 72.0, 72.0, '010-6241-0183')\n('서울시 강남구 논현로151길 16 101호', 1000.0, 75.0, '010-8981-4016')\n('서울특별시 서초구 사평대로53길 14-1, 1층(반포동)', 20000.0, 20.0, '010-9138-1122')\n('서울특별시 강남구 도곡로33길 24 1층 101호(역삼동)', 65.0, 65.0, '010-4181-8019')\n('서울특별시 강남구 언주로97길 34 101호', 500.0, 40.0, '010-4630-0082')\n('서울특별시 강남구 테헤란로47길 25 1층', 120.0, 120.0, '010-4842-4123')\n('서울특별시 강남구 역삼동 825-20 푸르지오시티 B124호', 120.0, 120.0, '010-7358-3690')\n('서울시 강남구 역삼동 610-2', 20000.0, 100.0, '010-7318-0047')\n('서울시 강남구 역삼로 216 1층', 10000.0, 50.0, '010-2992-3778')\n('서울특별시 강남구 테헤란로51길 46-12', 4000.0, 50.0, '010-2470-1230')\n('서울특별시 강남구 논현동 148-2', 3000.0, 110.0, '010-8906-3677')\n('서울특별시 강남구 논현로 522 1층', 2000.0, 160.0, '010-7132-3888')\n('서울특별시 강남구 삼성동 34-33', 1000.0, 120.0, '010-3299-2725')\n('서울특별시 강남구 논현동 195 낙원빌딩101호', 15500.0, 0.0, '010-3124-7689')\n('서울특별시 강남구 강남대로 620, 1층 (신사동)', 1000.0, 55.0, '010-8901-7797')\n('서울특별시 서초구 서초동 1719-4', 100.0, 60.0, '010-3494-3859')\n('서울특별시 서초구 주흥길 64-27 , 104호 나라부동산', 1000.0, 70.0, '010-7577-5090')\n('서울특별시 강남구 역삼동 735-11,신일유토빌 111호', 15000.0, 30.0, '010-3154-8993')\n('서울특별시 강남구 역삼동 698-26 더원 스타빌 A동 101호', 1000.0, 140.0, '010-5004-0886')\n('서울특별시 강남구 삼성동 34-33', 17000.0, 0.0, '010-3299-2725')\n('서울특별시 서초구 서초동 1719-4', 85.0, 85.0, '010-3494-3859')\n('서울특별시 강남구 대치동 901-53', 2000.0, 110.0, '010-4111-8681')\n('서울특별시 강남구 신사동 516-9', 5000.0, 140.0, '010-3586-8979')\n('서울특별시 강남구 도곡로33길 24 1층 101호(역삼동)', 60.0, 60.0, '010-4181-8019')\n('서울특별시 강남구 논현동 195 낙원빌딩101호', 16000.0, 0.0, '010-9767-4447')\n('서울특별시 강남구 역삼동 823번지 106호', 140.0, 140.0, '010-6241-0183')\n('서울특별시 강남구 논현동 148-2', 10000.0, 45.0, '010-8906-3677')\n('서울특별시 강남구 도곡로33길 24 1층 101호(역삼동)', 120.0, 120.0, '010-6635-2455')\n('서울특별시 서초구 서초동 1719-4', 80.0, 80.0, '010-3494-3859')\n('서울특별시 강남구 봉은사로44길 54 102호(역삼동, 파빌리온)', 3000.0, 140.0, '010-4910-6413')\n('서울특별시 서초구 신반포로45길 23 잠원동 대우아이빌 ', 15000.0, 0.0, '010-5457-2670')\n('서울특별시 강남구 언주로 313, 1층 104호', 1000.0, 120.0, '010-3567-3585')\n('서울특별시 강남구 강남대로118길 26 1층', 26000.0, 0.0, '010-7248-9972')\n('서울특별시 강남구 역삼동 723-18 ', 2000.0, 120.0, '010-4741-2771')\n('서울특별시 강남구 영동대로128길 15 121호', 300.0, 55.0, '010-2626-4944')\n('서울특별시 서초구 주흥길 64-27 , 104호 나라부동산', 100.0, 85.0, '010-7577-5090')\n('서울시 강남구 역삼동 610-2', 165.0, 165.0, '010-7559-0036')\n('서울특별시 용산구 대사관로30가길 9', 2000.0, 120.0, '010-9073-1223')\n('서울특별시 서초구 주흥길 64-27 , 104호 나라부동산', 2000.0, 60.0, '010-7577-5090')\n('서울특별시 강남구 논현로 522 1층', 3000.0, 135.0, '010-7132-3888')\n('서울특별시 강남구 역삼동 825-20 푸르지오시티 B124호', 100.0, 100.0, '010-7358-3690')\n('서울특별시 강남구 역삼동 823번지 106호', 155.0, 155.0, '010-5954-0149')\n('서울특별시 강남구 논현동 60-18 1층', 2000.0, 105.0, '010-7921-8121')\n('서울특별시 강남구 봉은사로30길 42 1층', 70.0, 70.0, '010-4998-8224')\n('서울특별시 강남구 역삼동 639-14 1층', 85.0, 85.0, '010-9173-0561')\n('서울특별시 서초구 사평대로53길 14-1, 1층(반포동)', 1000.0, 65.0, '010-9138-1122')\n('서울특별시 강남구 논현동 195 낙원빌딩101호', 53000.0, 0.0, '010-5383-4090')\n('서울특별시 강남구 논현로106길 25', 80.0, 80.0, '010-3917-1877')\n('서울특별시 서초구 사평대로53길 14-1, 1층(반포동)', 1000.0, 55.0, '010-2520-1799')\n('서울특별시 서초구 서초동 1719-4', 10000.0, 50.0, '010-3494-3859')\n('서울특별시 서초구 주흥길 64-27 , 104호 나라부동산', 2000.0, 115.0, '010-7577-5090')\n('서울특별시 강남구 역삼동 639-14 1층', 150.0, 150.0, '010-6608-6680')\n('서울특별시 강남구 도산대로34길 36', 200.0, 95.0, '010-2446-3484')\n('서울특별시 강남구 도산대로34길 36', 1000.0, 85.0, '010-2446-3484')\n('서울특별시 강남구 논현로111길 36 2층', 80.0, 80.0, '010-7932-5755')\n('서울특별시 관악구 신림동5길 38 101호(신림동)', 1000.0, 55.0, '010-2355-3421')\n('서울특별시 관악구 신림로66길 36', 16000.0, 0.0, '010-8961-4476')\n('서울시 관악구 신림동 1414-16', 10000.0, 0.0, '010-9972-8583')\n('서울특별시 관악구 신림동5길 38 101호(신림동)', 500.0, 30.0, '010-2355-3421')\n('서울특별시 관악구 신림로68길 29', 200.0, 35.0, '010-2403-7753')\n('서울특별시 관악구 남부순환로187길 9', 300.0, 35.0, '010-5139-8319')\n('서울특별시 관악구 보라매로5가길 7 512호(봉천동,캐릭터그린빌)', 100.0, 34.0, '010-3219-1332')\n('서울특별시 관악구 남부순환로 1677-20', 100.0, 28.0, '010-3568-5545')\n('서울특별시 관악구 남부순환로187길 22', 45.0, 45.0, '010-8980-3144')\n('서울특별시 관악구 신림동 1421-29 1층 서울부동산', 1000.0, 100.0, '010-7997-6121')\n('서울특별시 관악구 청룡중앙길 11', 6500.0, 0.0, '010-4058-4966')\n('서울특별시 관악구 남부순환로187길 9', 300.0, 40.0, '010-3959-5361')\n('서울특별시 관악구 봉천로6길 46 102호(신림동) ', 17000.0, 0.0, '010-5678-3341')\n('서울특별시 관악구 청룡8길 66 ', 5000.0, 0.0, '010-2764-6582')\n('서울특별시 관악구 관악로12길 23', 9000.0, 0.0, '010-3099-5921')\n('서울특별시 관악구 남부순환로187길 9', 1000.0, 60.0, '010-5858-5078')\n('서울특별시 관악구 봉천로 264', 300.0, 40.0, '010-8366-4440')\n('서울특별시 관악구 신림동 1641-107', 30000.0, 0.0, '010-6634-6284')\n('서울특별시 관악구 관천로12길 27', 1000.0, 70.0, '010-7705-2697')\n('서울특별시 관악구 신림로67길 18', 1000.0, 42.0, '010-3024-1339')\n('서울특별시 관악구 신림동5길 38 101호(신림동)', 100.0, 35.0, '010-9673-6958')\n('서울시 관악구 쑥고개로 45', 100.0, 27.0, '010-3738-4404')\n('서울특별시 관악구 남부순환로156길 9', 100.0, 23.0, '010-5554-2189')\n('서울특별시 관악구 보라매로5가길 7 512호(봉천동,캐릭터그린빌)', 100.0, 34.0, '010-3219-1332')\n('서울시 관악구 행운길 25', 100.0, 27.0, '010-2990-6848')\n('서울특별시 관악구 청룡중앙길 11', 16500.0, 0.0, '010-8547-4531')\n('서울특별시 관악구 관천로 129', 21000.0, 0.0, '010-8549-2078')\n('서울특별시 관악구 관악로11길 76', 200.0, 32.0, '010-3800-6402')\n('서울특별시 관악구 남부순환로187길 6', 500.0, 33.0, '010-8220-1181')\n('서울특별시 관악구 봉천로13길 17 101호', 500.0, 35.0, '010-3001-0545')\n('서울특별시 관악구 신림로 141', 100.0, 30.0, '010-4003-0418')\n('서울특별시 관악구 남부순환로 1605', 5000.0, 0.0, '010-7267-7899')\n('서울특별시 관악구 보라매로5가길 7 512호(봉천동,캐릭터그린빌)', 100.0, 34.0, '010-2334-4728')\n('서울특별시 관악구 봉천로 272', 300.0, 28.0, '010-3044-9732')\n('서울특별시 관악구 신사로20길 13', 2000.0, 30.0, '010-7773-8090')\n('서울특별시 서초구 서초중앙로 153', 24500.0, 0.0, '010-8686-0050')\n('서울특별시 관악구 봉천로 264', 1000.0, 30.0, '010-8366-4440')\n('서울특별시 관악구 신림동 570-16', 500.0, 35.0, '010-7384-3143')\n('서울특별시 관악구 신림로 141', 100.0, 29.0, '010-8582-3096')\n('서울특별시 관악구 남부순환로156길 9', 50.0, 24.0, '010-8900-4711')\n('서울특별시 관악구 관천로 69', 500.0, 45.0, '010-7310-2726')\n('서울특별시 관악구 문성로16가길 24', 200.0, 30.0, '010-7761-1358')\n('서울특별시 관악구 신림로65길 43', 8000.0, 0.0, '010-7900-1041')\n('서울특별시 서초구 서초중앙로 153', 4600.0, 45.0, '010-8686-0050')\n('서울특별시 관악구 청룡중앙길 11', 24000.0, 0.0, '010-3654-9579')\n('서울특별시 관악구 남부순환로172길 28', 200.0, 50.0, '010-3020-8909')\n('서울특별시 관악구 신사로 138 ', 1000.0, 69.0, '010-9003-8796')\n('서울시 관악구 쑥고개로 45', 100.0, 27.0, '010-3738-4404')\n('서울특별시 관악구 봉천동 30-15 리노스 101호', 18000.0, 0.0, '010-3767-3689')\n('서울특별시 관악구 관악로12길 23', 10000.0, 0.0, '010-3099-5921')\n('서울특별시 동작구 신대방동 719번지 106동 103호', 5000.0, 70.0, '010-3257-8241')\n('서울시 관악구 행운길 25', 100.0, 27.0, '010-8331-0894')\n('서울특별시 관악구 신림로65길 43', 8500.0, 0.0, '010-5331-0686')\n('서울특별시 관악구 신림동 1587-35 1층 105호', 10000.0, 0.0, '010-5068-8746')\n('서울특별시 동작구 상도동 상도로15길 51 1층', 23000.0, 0.0, '010-9120-3003')\n('서울특별시 관악구 청룡8길 66 ', 8000.0, 0.0, '010-2764-6582')\n('서울특별시 관악구 문성로16가길 24', 9000.0, 0.0, '010-4644-9458')\n('서울특별시 관악구 관천로 129', 23000.0, 0.0, '010-8549-2078')\n('서울특별시 동작구 국사봉2길 39', 100.0, 38.0, '010-8780-5980')\n",
          "name": "stdout"
        }
      ]
    },
    {
      "metadata": {
        "trusted": true
      },
      "cell_type": "code",
      "source": "df_shinlim.mean()",
      "execution_count": 6,
      "outputs": [
        {
          "output_type": "execute_result",
          "execution_count": 6,
          "data": {
            "text/plain": "deposit    5533.813559\nrent         25.440678\ndtype: float64"
          },
          "metadata": {}
        }
      ]
    },
    {
      "metadata": {
        "trusted": true
      },
      "cell_type": "code",
      "source": "df_shinlim.head()",
      "execution_count": 7,
      "outputs": [
        {
          "output_type": "execute_result",
          "execution_count": 7,
          "data": {
            "text/html": "<div>\n<style scoped>\n    .dataframe tbody tr th:only-of-type {\n        vertical-align: middle;\n    }\n\n    .dataframe tbody tr th {\n        vertical-align: top;\n    }\n\n    .dataframe thead th {\n        text-align: right;\n    }\n</style>\n<table border=\"1\" class=\"dataframe\">\n  <thead>\n    <tr style=\"text-align: right;\">\n      <th></th>\n      <th>address</th>\n      <th>deposit</th>\n      <th>rent</th>\n      <th>phonenumber</th>\n    </tr>\n  </thead>\n  <tbody>\n    <tr>\n      <th>0</th>\n      <td>서울특별시 관악구 신림동5길 38 101호(신림동)</td>\n      <td>1000.0</td>\n      <td>55.0</td>\n      <td>010-2355-3421</td>\n    </tr>\n    <tr>\n      <th>1</th>\n      <td>서울특별시 관악구 신림로66길 36</td>\n      <td>16000.0</td>\n      <td>0.0</td>\n      <td>010-8961-4476</td>\n    </tr>\n    <tr>\n      <th>2</th>\n      <td>서울시 관악구 신림동 1414-16</td>\n      <td>10000.0</td>\n      <td>0.0</td>\n      <td>010-9972-8583</td>\n    </tr>\n    <tr>\n      <th>3</th>\n      <td>서울특별시 관악구 신림동5길 38 101호(신림동)</td>\n      <td>500.0</td>\n      <td>30.0</td>\n      <td>010-2355-3421</td>\n    </tr>\n    <tr>\n      <th>4</th>\n      <td>서울특별시 관악구 신림로68길 29</td>\n      <td>200.0</td>\n      <td>35.0</td>\n      <td>010-2403-7753</td>\n    </tr>\n  </tbody>\n</table>\n</div>",
            "text/plain": "                        address  deposit  rent    phonenumber\n0  서울특별시 관악구 신림동5길 38 101호(신림동)   1000.0  55.0  010-2355-3421\n1           서울특별시 관악구 신림로66길 36  16000.0   0.0  010-8961-4476\n2           서울시 관악구 신림동 1414-16  10000.0   0.0  010-9972-8583\n3  서울특별시 관악구 신림동5길 38 101호(신림동)    500.0  30.0  010-2355-3421\n4           서울특별시 관악구 신림로68길 29    200.0  35.0  010-2403-7753"
          },
          "metadata": {}
        }
      ]
    },
    {
      "metadata": {
        "trusted": true
      },
      "cell_type": "code",
      "source": "!pip install --upgrade pip\n!pip install matplotlib",
      "execution_count": 8,
      "outputs": [
        {
          "output_type": "stream",
          "text": "Requirement already up-to-date: pip in /home/nbuser/anaconda3_501/lib/python3.6/site-packages (18.1)\nRequirement already satisfied: matplotlib in /home/nbuser/anaconda3_501/lib/python3.6/site-packages (2.1.1)\nRequirement already satisfied: numpy>=1.7.1 in /home/nbuser/anaconda3_501/lib/python3.6/site-packages (from matplotlib) (1.15.2)\nRequirement already satisfied: six>=1.10 in /home/nbuser/anaconda3_501/lib/python3.6/site-packages (from matplotlib) (1.11.0)\nRequirement already satisfied: python-dateutil>=2.0 in /home/nbuser/anaconda3_501/lib/python3.6/site-packages (from matplotlib) (2.7.3)\nRequirement already satisfied: pytz in /home/nbuser/anaconda3_501/lib/python3.6/site-packages (from matplotlib) (2017.2)\nRequirement already satisfied: cycler>=0.10 in /home/nbuser/anaconda3_501/lib/python3.6/site-packages (from matplotlib) (0.10.0)\nRequirement already satisfied: pyparsing!=2.0.4,!=2.1.2,!=2.1.6,>=2.0.1 in /home/nbuser/anaconda3_501/lib/python3.6/site-packages (from matplotlib) (2.2.0)\n",
          "name": "stdout"
        }
      ]
    },
    {
      "metadata": {
        "trusted": true
      },
      "cell_type": "code",
      "source": "df_shinlim.mean()",
      "execution_count": 9,
      "outputs": [
        {
          "output_type": "execute_result",
          "execution_count": 9,
          "data": {
            "text/plain": "deposit    5533.813559\nrent         25.440678\ndtype: float64"
          },
          "metadata": {}
        }
      ]
    },
    {
      "metadata": {
        "trusted": true
      },
      "cell_type": "code",
      "source": "df_shinlim.describe()",
      "execution_count": 10,
      "outputs": [
        {
          "output_type": "execute_result",
          "execution_count": 10,
          "data": {
            "text/html": "<div>\n<style scoped>\n    .dataframe tbody tr th:only-of-type {\n        vertical-align: middle;\n    }\n\n    .dataframe tbody tr th {\n        vertical-align: top;\n    }\n\n    .dataframe thead th {\n        text-align: right;\n    }\n</style>\n<table border=\"1\" class=\"dataframe\">\n  <thead>\n    <tr style=\"text-align: right;\">\n      <th></th>\n      <th>deposit</th>\n      <th>rent</th>\n    </tr>\n  </thead>\n  <tbody>\n    <tr>\n      <th>count</th>\n      <td>59.000000</td>\n      <td>59.000000</td>\n    </tr>\n    <tr>\n      <th>mean</th>\n      <td>5533.813559</td>\n      <td>25.440678</td>\n    </tr>\n    <tr>\n      <th>std</th>\n      <td>8012.169695</td>\n      <td>22.976203</td>\n    </tr>\n    <tr>\n      <th>min</th>\n      <td>45.000000</td>\n      <td>0.000000</td>\n    </tr>\n    <tr>\n      <th>25%</th>\n      <td>150.000000</td>\n      <td>0.000000</td>\n    </tr>\n    <tr>\n      <th>50%</th>\n      <td>1000.000000</td>\n      <td>29.000000</td>\n    </tr>\n    <tr>\n      <th>75%</th>\n      <td>8750.000000</td>\n      <td>35.000000</td>\n    </tr>\n    <tr>\n      <th>max</th>\n      <td>30000.000000</td>\n      <td>100.000000</td>\n    </tr>\n  </tbody>\n</table>\n</div>",
            "text/plain": "            deposit        rent\ncount     59.000000   59.000000\nmean    5533.813559   25.440678\nstd     8012.169695   22.976203\nmin       45.000000    0.000000\n25%      150.000000    0.000000\n50%     1000.000000   29.000000\n75%     8750.000000   35.000000\nmax    30000.000000  100.000000"
          },
          "metadata": {}
        }
      ]
    },
    {
      "metadata": {
        "trusted": true
      },
      "cell_type": "code",
      "source": "df_shinlim[\"deposit\"].mean()",
      "execution_count": 11,
      "outputs": [
        {
          "output_type": "execute_result",
          "execution_count": 11,
          "data": {
            "text/plain": "5533.813559322034"
          },
          "metadata": {}
        }
      ]
    },
    {
      "metadata": {
        "trusted": true
      },
      "cell_type": "code",
      "source": "# 평균\n%matplotlib inline",
      "execution_count": 12,
      "outputs": []
    },
    {
      "metadata": {
        "trusted": true
      },
      "cell_type": "code",
      "source": "# df_shinsa.hist() \n# 그래프를 나눠서 뽑을때는 \ndf_shinlim.hist(\"deposit\")\ndf_shinlim.hist(\"rent\")\n\n# df_shinlim.hist(\"deposit\", color=\"Red\", title=\"Deposit of Shinlim\")\n\n",
      "execution_count": 15,
      "outputs": [
        {
          "output_type": "execute_result",
          "execution_count": 15,
          "data": {
            "text/plain": "array([[<matplotlib.axes._subplots.AxesSubplot object at 0x7f598b3186d8>]],\n      dtype=object)"
          },
          "metadata": {}
        },
        {
          "output_type": "display_data",
          "data": {
            "image/png": "[encoded data removed]",
            "text/plain": "<matplotlib.figure.Figure at 0x7f598b67f4e0>"
          },
          "metadata": {}
        },
        {
          "output_type": "display_data",
          "data": {
            "image/png": "[encoded data removed]",
            "text/plain": "<matplotlib.figure.Figure at 0x7f598b6b34e0>"
          },
          "metadata": {}
        }
      ]
    },
    {
      "metadata": {
        "trusted": true
      },
      "cell_type": "code",
      "source": "df_shinlim.plot.scatter(x=\"deposit\", y=\"rent\", color=\"Red\")",
      "execution_count": 16,
      "outputs": [
        {
          "output_type": "execute_result",
          "execution_count": 16,
          "data": {
            "text/plain": "<matplotlib.axes._subplots.AxesSubplot at 0x7f598af55978>"
          },
          "metadata": {}
        },
        {
          "output_type": "display_data",
          "data": {
            "image/png": "[encoded data removed]",
            "text/plain": "<matplotlib.figure.Figure at 0x7f598afdbc88>"
          },
          "metadata": {}
        }
      ]
    },
    {
      "metadata": {
        "trusted": true
      },
      "cell_type": "code",
      "source": "ax = df_shinlim.plot.scatter(x=\"deposit\", y=\"rent\", color=\"Red\")\ndf_shinsa.plot.scatter(x=\"deposit\", y=\"rent\", color=\"Blue\", ax=ax)",
      "execution_count": 17,
      "outputs": [
        {
          "output_type": "execute_result",
          "execution_count": 17,
          "data": {
            "text/plain": "<matplotlib.axes._subplots.AxesSubplot at 0x7f598afb09e8>"
          },
          "metadata": {}
        },
        {
          "output_type": "display_data",
          "data": {
            "image/png": "[encoded data removed]",
            "text/plain": "<matplotlib.figure.Figure at 0x7f598afefb38>"
          },
          "metadata": {}
        }
      ]
    },
    {
      "metadata": {
        "trusted": true
      },
      "cell_type": "code",
      "source": "",
      "execution_count": null,
      "outputs": []
    }
  ],
  "metadata": {
    "kernelspec": {
      "name": "python36",
      "display_name": "Python 3.6",
      "language": "python"
    },
    "language_info": {
      "mimetype": "text/x-python",
      "nbconvert_exporter": "python",
      "name": "python",
      "pygments_lexer": "ipython3",
      "version": "3.6.6",
      "file_extension": ".py",
      "codemirror_mode": {
        "version": 3,
        "name": "ipython"
      }
    }
  },
  "nbformat": 4,
  "nbformat_minor": 2
}