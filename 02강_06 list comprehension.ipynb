{
  "cells": [
    {
      "metadata": {
        "trusted": true
      },
      "cell_type": "code",
      "source": "a = [i**2 for i in range(10)] #[0, 1, 2, 3, 4, 5, 6 .. 9]\nb = a[2:4]\nprint(b)\n\nlist(map(lambda i:i**2, range(10)))\n\nlist_a = []\nfor i in range(1, 10): # 1 <= x < 10\n    list_a.append(i **2)\n\n#list_a",
      "execution_count": 21,
      "outputs": [
        {
          "output_type": "stream",
          "text": "[0, 1, 4, 9]\n",
          "name": "stdout"
        }
      ]
    },
    {
      "metadata": {
        "trusted": true
      },
      "cell_type": "code",
      "source": "list(map(lambda x: x**2, range(10)))",
      "execution_count": null,
      "outputs": []
    },
    {
      "metadata": {
        "trusted": true
      },
      "cell_type": "code",
      "source": "[i**2 for i in range(10) if i > 5]",
      "execution_count": 14,
      "outputs": [
        {
          "output_type": "execute_result",
          "execution_count": 14,
          "data": {
            "text/plain": "[36, 49, 64, 81]"
          },
          "metadata": {}
        }
      ]
    },
    {
      "metadata": {
        "trusted": true
      },
      "cell_type": "code",
      "source": "list(map(lambda x: x ** 2, list(filter(lambda x: x > 5, range(10)))))",
      "execution_count": null,
      "outputs": []
    },
    {
      "metadata": {
        "trusted": true
      },
      "cell_type": "code",
      "source": "# 1-100 까지 숫자중에서 짝인 애들의 제곱리스트\nlist(map(lambda x: x**2, list(filter(lambda x: x % 2 == 0, range(1, 101)))))",
      "execution_count": null,
      "outputs": []
    },
    {
      "metadata": {
        "trusted": true
      },
      "cell_type": "code",
      "source": "[i ** 2 for i in range(1, 101) if i % 2 == 0]",
      "execution_count": 15,
      "outputs": [
        {
          "output_type": "execute_result",
          "execution_count": 15,
          "data": {
            "text/plain": "[4,\n 16,\n 36,\n 64,\n 100,\n 144,\n 196,\n 256,\n 324,\n 400,\n 484,\n 576,\n 676,\n 784,\n 900,\n 1024,\n 1156,\n 1296,\n 1444,\n 1600,\n 1764,\n 1936,\n 2116,\n 2304,\n 2500,\n 2704,\n 2916,\n 3136,\n 3364,\n 3600,\n 3844,\n 4096,\n 4356,\n 4624,\n 4900,\n 5184,\n 5476,\n 5776,\n 6084,\n 6400,\n 6724,\n 7056,\n 7396,\n 7744,\n 8100,\n 8464,\n 8836,\n 9216,\n 9604,\n 10000]"
          },
          "metadata": {}
        }
      ]
    },
    {
      "metadata": {
        "trusted": true
      },
      "cell_type": "code",
      "source": "awesome_list = [i for i in range(0, 9+1)]",
      "execution_count": null,
      "outputs": []
    },
    {
      "metadata": {
        "trusted": true
      },
      "cell_type": "code",
      "source": "filter(lambda x: x > 5, awesome_list)",
      "execution_count": null,
      "outputs": []
    },
    {
      "metadata": {
        "trusted": true
      },
      "cell_type": "code",
      "source": "#소수가 아닌 애들\n#1~n - 소수가 아닌 애들  \nMAX = 1000\n\nnot_prime_list = [\n    j\n    for i in range(2, int(MAX**0.5) + 1) # =>  2, 3, 4, ..., 30,\n    for j in range(i*2, MAX+1, i) # j => i=2; \n]\n#not_prime_list\n\nnot_prime_list = list(set(not_prime_list))\n\nprime_list = [\n    i\n    for i in range(2, MAX+1)\n    if i not in not_prime_list\n]\n\nprime_list",
      "execution_count": 3,
      "outputs": [
        {
          "output_type": "execute_result",
          "execution_count": 3,
          "data": {
            "text/plain": "[2,\n 3,\n 5,\n 7,\n 11,\n 13,\n 17,\n 19,\n 23,\n 29,\n 31,\n 37,\n 41,\n 43,\n 47,\n 53,\n 59,\n 61,\n 67,\n 71,\n 73,\n 79,\n 83,\n 89,\n 97,\n 101,\n 103,\n 107,\n 109,\n 113,\n 127,\n 131,\n 137,\n 139,\n 149,\n 151,\n 157,\n 163,\n 167,\n 173,\n 179,\n 181,\n 191,\n 193,\n 197,\n 199,\n 211,\n 223,\n 227,\n 229,\n 233,\n 239,\n 241,\n 251,\n 257,\n 263,\n 269,\n 271,\n 277,\n 281,\n 283,\n 293,\n 307,\n 311,\n 313,\n 317,\n 331,\n 337,\n 347,\n 349,\n 353,\n 359,\n 367,\n 373,\n 379,\n 383,\n 389,\n 397,\n 401,\n 409,\n 419,\n 421,\n 431,\n 433,\n 439,\n 443,\n 449,\n 457,\n 461,\n 463,\n 467,\n 479,\n 487,\n 491,\n 499,\n 503,\n 509,\n 521,\n 523,\n 541,\n 547,\n 557,\n 563,\n 569,\n 571,\n 577,\n 587,\n 593,\n 599,\n 601,\n 607,\n 613,\n 617,\n 619,\n 631,\n 641,\n 643,\n 647,\n 653,\n 659,\n 661,\n 673,\n 677,\n 683,\n 691,\n 701,\n 709,\n 719,\n 727,\n 733,\n 739,\n 743,\n 751,\n 757,\n 761,\n 769,\n 773,\n 787,\n 797,\n 809,\n 811,\n 821,\n 823,\n 827,\n 829,\n 839,\n 853,\n 857,\n 859,\n 863,\n 877,\n 881,\n 883,\n 887,\n 907,\n 911,\n 919,\n 929,\n 937,\n 941,\n 947,\n 953,\n 967,\n 971,\n 977,\n 983,\n 991,\n 997]"
          },
          "metadata": {}
        }
      ]
    },
    {
      "metadata": {
        "trusted": true
      },
      "cell_type": "code",
      "source": "for i in range(4, 10, 2):\n    print(i)",
      "execution_count": null,
      "outputs": []
    },
    {
      "metadata": {
        "trusted": true
      },
      "cell_type": "code",
      "source": "for i in range(0, 10)",
      "execution_count": 4,
      "outputs": [
        {
          "output_type": "error",
          "ename": "SyntaxError",
          "evalue": "invalid syntax (<ipython-input-4-cb36f0a6bbbe>, line 1)",
          "traceback": [
            "\u001b[0;36m  File \u001b[0;32m\"<ipython-input-4-cb36f0a6bbbe>\"\u001b[0;36m, line \u001b[0;32m1\u001b[0m\n\u001b[0;31m    for i in range(0, 10)\u001b[0m\n\u001b[0m                         ^\u001b[0m\n\u001b[0;31mSyntaxError\u001b[0m\u001b[0;31m:\u001b[0m invalid syntax\n"
          ]
        }
      ]
    },
    {
      "metadata": {
        "trusted": true
      },
      "cell_type": "code",
      "source": "awesome_list = [\n    (i, j)\n    for i in range(8)\n    for j in range(4)\n]\nawesome_list",
      "execution_count": 9,
      "outputs": [
        {
          "output_type": "execute_result",
          "execution_count": 9,
          "data": {
            "text/plain": "[(0, 0),\n (0, 1),\n (0, 2),\n (0, 3),\n (1, 0),\n (1, 1),\n (1, 2),\n (1, 3),\n (2, 0),\n (2, 1),\n (2, 2),\n (2, 3),\n (3, 0),\n (3, 1),\n (3, 2),\n (3, 3),\n (4, 0),\n (4, 1),\n (4, 2),\n (4, 3),\n (5, 0),\n (5, 1),\n (5, 2),\n (5, 3),\n (6, 0),\n (6, 1),\n (6, 2),\n (6, 3),\n (7, 0),\n (7, 1),\n (7, 2),\n (7, 3)]"
          },
          "metadata": {}
        }
      ]
    },
    {
      "metadata": {
        "trusted": true
      },
      "cell_type": "code",
      "source": "   asdf ",
      "execution_count": null,
      "outputs": []
    },
    {
      "metadata": {
        "trusted": true
      },
      "cell_type": "code",
      "source": "",
      "execution_count": null,
      "outputs": []
    }
  ],
  "metadata": {
    "kernelspec": {
      "name": "python36",
      "display_name": "Python 3.6",
      "language": "python"
    },
    "language_info": {
      "mimetype": "text/x-python",
      "nbconvert_exporter": "python",
      "name": "python",
      "pygments_lexer": "ipython3",
      "version": "3.6.3",
      "file_extension": ".py",
      "codemirror_mode": {
        "version": 3,
        "name": "ipython"
      }
    }
  },
  "nbformat": 4,
  "nbformat_minor": 2
}