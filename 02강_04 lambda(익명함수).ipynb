{
  "cells": [
    {
      "metadata": {
        "trusted": false
      },
      "cell_type": "code",
      "source": "# Lambda\n# 이름이 없는 함수 (익명 함수)",
      "execution_count": 1,
      "outputs": []
    },
    {
      "metadata": {
        "trusted": false
      },
      "cell_type": "code",
      "source": "def increment(x):\n    return x + 1",
      "execution_count": 2,
      "outputs": []
    },
    {
      "metadata": {
        "trusted": false
      },
      "cell_type": "code",
      "source": "increment(55)",
      "execution_count": 3,
      "outputs": [
        {
          "data": {
            "text/plain": "56"
          },
          "execution_count": 3,
          "metadata": {},
          "output_type": "execute_result"
        }
      ]
    },
    {
      "metadata": {
        "trusted": false
      },
      "cell_type": "code",
      "source": "increment_lambda = lambda x: x + 1",
      "execution_count": 4,
      "outputs": []
    },
    {
      "metadata": {
        "trusted": false
      },
      "cell_type": "code",
      "source": "increment_lambda(33)",
      "execution_count": 5,
      "outputs": [
        {
          "data": {
            "text/plain": "34"
          },
          "execution_count": 5,
          "metadata": {},
          "output_type": "execute_result"
        }
      ]
    },
    {
      "metadata": {
        "trusted": false
      },
      "cell_type": "code",
      "source": "(lambda x: x + 1)(34)",
      "execution_count": 8,
      "outputs": [
        {
          "data": {
            "text/plain": "35"
          },
          "execution_count": 8,
          "metadata": {},
          "output_type": "execute_result"
        }
      ]
    },
    {
      "metadata": {
        "trusted": true
      },
      "cell_type": "code",
      "source": "func_list = list([(lambda x: x +1), (lambda x: x -1)])\nfunc_list[0](3)\nfunc_list[1](3)",
      "execution_count": 5,
      "outputs": [
        {
          "output_type": "execute_result",
          "execution_count": 5,
          "data": {
            "text/plain": "2"
          },
          "metadata": {}
        }
      ]
    },
    {
      "metadata": {
        "trusted": false
      },
      "cell_type": "code",
      "source": "(lambda x, y: x+y)(10, 20)",
      "execution_count": 11,
      "outputs": [
        {
          "data": {
            "text/plain": "30"
          },
          "execution_count": 11,
          "metadata": {},
          "output_type": "execute_result"
        }
      ]
    },
    {
      "metadata": {},
      "cell_type": "markdown",
      "source": "#### 함수(Function) - lambda\n\nPython lambda 의 경우에는 함수형 프로그래밍 언어들에서 제공하는 High Order Function (고차함수)들을 제공하고 있다. (Lambda Operator)\n\n* map\n* reduce\n* filter\n\n#### List Comprehension\n\n한국어로는 \"리스트 표현식\" 이라는 표현을 쓰기도 하지만, 번역이 이상하므로 그냥 \"List Comprehension\" 이라고 부르자\n"
    },
    {
      "metadata": {
        "trusted": false
      },
      "cell_type": "code",
      "source": "",
      "execution_count": null,
      "outputs": []
    }
  ],
  "metadata": {
    "kernelspec": {
      "name": "python36",
      "display_name": "Python 3.6",
      "language": "python"
    },
    "language_info": {
      "mimetype": "text/x-python",
      "nbconvert_exporter": "python",
      "name": "python",
      "pygments_lexer": "ipython3",
      "version": "3.6.3",
      "file_extension": ".py",
      "codemirror_mode": {
        "version": 3,
        "name": "ipython"
      }
    }
  },
  "nbformat": 4,
  "nbformat_minor": 2
}