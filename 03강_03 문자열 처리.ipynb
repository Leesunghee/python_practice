{
  "cells": [
    {
      "metadata": {
        "trusted": true
      },
      "cell_type": "code",
      "source": "# \"패스트캠퍼스 스쿨 과정은 참 좋다\"\n\n# => [\"패스트캠퍼스\", \"스쿨\", \"과정은\", \"참\", \"좋다\"]",
      "execution_count": 1,
      "outputs": []
    },
    {
      "metadata": {
        "trusted": true
      },
      "cell_type": "code",
      "source": "def word_split(sentence, seqerate = \" \"):\n    # 앞에서부터 한글자 한글자 읽으면서 => \" \" 스페이스가 나올 때까지 기다렸다가, 나오면 모아뒀던 단어들을 리스트에 추가한다.\n    word_list = []\n    word = \"\"\n    \n    # for i in range(len(sentence)):\n    for char in sentence:\n        if char == seqerate:\n            word_list.append(word)\n            word = \"\"\n        else:\n            word += char\n    if word != \"\":        \n        word_list.append(word)\n    return word_list\n            \n        \n\n# def word_split(sentence, seperate):\n#     pass\n\n    ",
      "execution_count": 19,
      "outputs": []
    },
    {
      "metadata": {
        "trusted": true
      },
      "cell_type": "code",
      "source": "word_split(\"패스트캠퍼스 스쿨 과정은 참 좋다\", \"스\")",
      "execution_count": 20,
      "outputs": [
        {
          "output_type": "execute_result",
          "execution_count": 20,
          "data": {
            "text/plain": "['패', '트캠퍼', ' ', '쿨 과정은 참 좋다']"
          },
          "metadata": {}
        }
      ]
    },
    {
      "metadata": {
        "trusted": true
      },
      "cell_type": "code",
      "source": "word_split(\"패스트캠퍼스 응 좋다\")",
      "execution_count": 21,
      "outputs": [
        {
          "output_type": "execute_result",
          "execution_count": 21,
          "data": {
            "text/plain": "['패스트캠퍼스', '응', '좋다']"
          },
          "metadata": {}
        }
      ]
    },
    {
      "metadata": {
        "trusted": true
      },
      "cell_type": "code",
      "source": "# word_split => 문장르 받아 단어 리스트\n# word_join => 단어 리스트를 받아서 문장을 만드는\n# word_replace => 단어를 받아서, 특정 단어만 다른 단어로 바꾸는거\n\n# word_join([\"안녕하세요\", \"저는\", \"이반장입니다.\"], \" \")\n# => \"안녕하세요 저는 이반장입니다.\"\n\n# word_replace(\"패스트캠퍼스\", \"패스트\", \"Fast\")\n# => \"Fast캠퍼스\"\n\n\n# a = [\"a\", \"b\", \"c\", \"d\"]\n\n# str = a, b, c, d\n\n# \",\".join(a) => a, b, c, d\n",
      "execution_count": 22,
      "outputs": []
    },
    {
      "metadata": {
        "trusted": true
      },
      "cell_type": "code",
      "source": "def word_join(word_list, seperate = \" \"):\n    result = \"\"\n#     for word in word_list:\n#         result += word\n#         result += seperate\n#     return result\n    for index, word in enumerate(word_list):\n        result += word\n        if not index == len(word_list) - 1:\n            result += seperate\n    return result\n\nword_join([\"나는\", \"이반장이다\"])",
      "execution_count": 24,
      "outputs": [
        {
          "output_type": "execute_result",
          "execution_count": 24,
          "data": {
            "text/plain": "'나는 이반장이다'"
          },
          "metadata": {}
        }
      ]
    },
    {
      "metadata": {
        "trusted": true
      },
      "cell_type": "code",
      "source": "# JOIN\n# SPLIT\n# REPLACE",
      "execution_count": 25,
      "outputs": []
    },
    {
      "metadata": {
        "trusted": true
      },
      "cell_type": "code",
      "source": "word_list = \"패스트 캠퍼스는 참 좋다  \".split(\" \")\n[word for word in word_list if not word == \"\"]",
      "execution_count": 27,
      "outputs": [
        {
          "output_type": "execute_result",
          "execution_count": 27,
          "data": {
            "text/plain": "['패스트', '캠퍼스는', '참', '좋다']"
          },
          "metadata": {}
        }
      ]
    },
    {
      "metadata": {
        "trusted": true
      },
      "cell_type": "code",
      "source": "# word_join(문자리스트, 구분자)\n\" \".join([\"패스트캠퍼스\", \"참\", \"좋구나\"])",
      "execution_count": 3,
      "outputs": [
        {
          "output_type": "execute_result",
          "execution_count": 3,
          "data": {
            "text/plain": "'패스트캠퍼스 참 좋구나'"
          },
          "metadata": {}
        }
      ]
    },
    {
      "metadata": {
        "trusted": true
      },
      "cell_type": "code",
      "source": "# word_replace\n\"패스트캠퍼스\".replace(\"패스트\", \"Fast\")",
      "execution_count": 29,
      "outputs": [
        {
          "output_type": "execute_result",
          "execution_count": 29,
          "data": {
            "text/plain": "'Fast캠퍼스'"
          },
          "metadata": {}
        }
      ]
    },
    {
      "metadata": {
        "trusted": true
      },
      "cell_type": "code",
      "source": "",
      "execution_count": null,
      "outputs": []
    }
  ],
  "metadata": {
    "kernelspec": {
      "name": "python36",
      "display_name": "Python 3.6",
      "language": "python"
    },
    "language_info": {
      "mimetype": "text/x-python",
      "nbconvert_exporter": "python",
      "name": "python",
      "pygments_lexer": "ipython3",
      "version": "3.6.3",
      "file_extension": ".py",
      "codemirror_mode": {
        "version": 3,
        "name": "ipython"
      }
    }
  },
  "nbformat": 4,
  "nbformat_minor": 2
}