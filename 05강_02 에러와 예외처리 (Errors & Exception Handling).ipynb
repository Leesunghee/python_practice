{
  "cells": [
    {
      "metadata": {
        "trusted": true
      },
      "cell_type": "code",
      "source": "# Exception Handling\n# 예외를 처리하는 방법 => NameError, FileNotFoundError, AttributeError, ...\n\n# 우리가 직접 예외를 만드는 방법 ( FibonacciShouldGetPositiveNumberError => 우리만의 예외 )",
      "execution_count": 1,
      "outputs": []
    },
    {
      "metadata": {
        "trusted": true
      },
      "cell_type": "code",
      "source": "def append_string_to_hello(string):\n    # 예외처리가 가능한 장소\n    # 예외처리 => try: ~ except:\n    \n    try:\n        return \"hello, \" + string\n    except TypeError as err: # err = TypeError(...)  파이썬 내부적으로 만들어진 예외 객체를 err 변수라고 한다.\n        return err\n        # send_sms\n        # raise\n    finally: \n        print(\"어쨌든 끝남\")\n#     except (TypeError, AttributeError) as err:    => 튜플형태로 여러 에러를 처리할 수 있음 잘 쓰지 않음 보통은 except: 이걸로 처리 ",
      "execution_count": 28,
      "outputs": []
    },
    {
      "metadata": {
        "trusted": true
      },
      "cell_type": "code",
      "source": "append_string_to_hello(\"world\")",
      "execution_count": 8,
      "outputs": [
        {
          "output_type": "execute_result",
          "execution_count": 8,
          "data": {
            "text/plain": "'hello, world'"
          },
          "metadata": {}
        }
      ]
    },
    {
      "metadata": {
        "trusted": true
      },
      "cell_type": "code",
      "source": "append_string_to_hello(\"python\")",
      "execution_count": 9,
      "outputs": [
        {
          "output_type": "execute_result",
          "execution_count": 9,
          "data": {
            "text/plain": "'hello, python'"
          },
          "metadata": {}
        }
      ]
    },
    {
      "metadata": {
        "trusted": true
      },
      "cell_type": "code",
      "source": "append_string_to_hello(13)",
      "execution_count": 29,
      "outputs": [
        {
          "output_type": "stream",
          "text": "어쨌든 끝남\n",
          "name": "stdout"
        },
        {
          "output_type": "execute_result",
          "execution_count": 29,
          "data": {
            "text/plain": "TypeError('must be str, not int')"
          },
          "metadata": {}
        }
      ]
    },
    {
      "metadata": {
        "trusted": true
      },
      "cell_type": "code",
      "source": "\"hello, \" + 3 # str + int, implicit(함축적) # 형변환이 되지 않기 때문이다.",
      "execution_count": 11,
      "outputs": [
        {
          "output_type": "error",
          "ename": "TypeError",
          "evalue": "must be str, not int",
          "traceback": [
            "\u001b[0;31m---------------------------------------------------------------------------\u001b[0m",
            "\u001b[0;31mTypeError\u001b[0m                                 Traceback (most recent call last)",
            "\u001b[0;32m<ipython-input-11-19d50f846aa4>\u001b[0m in \u001b[0;36m<module>\u001b[0;34m()\u001b[0m\n\u001b[0;32m----> 1\u001b[0;31m \u001b[0;34m\"hello, \"\u001b[0m \u001b[0;34m+\u001b[0m \u001b[0;36m3\u001b[0m \u001b[0;31m# str + int, implicit(함축적)\u001b[0m\u001b[0;34m\u001b[0m\u001b[0m\n\u001b[0m",
            "\u001b[0;31mTypeError\u001b[0m: must be str, not int"
          ]
        }
      ]
    },
    {
      "metadata": {
        "trusted": true
      },
      "cell_type": "code",
      "source": "\"hello\" + str(3) # str + str(int), explicit",
      "execution_count": 12,
      "outputs": [
        {
          "output_type": "execute_result",
          "execution_count": 12,
          "data": {
            "text/plain": "'hello3'"
          },
          "metadata": {}
        }
      ]
    },
    {
      "metadata": {
        "trusted": true
      },
      "cell_type": "code",
      "source": "awesome_list = [\"world\", \"python\", \"programming\", 5736, \"fastcampus\"]\n\nfor awesome in awesome_list:\n    print(append_string_to_hello(awesome))\n    \n    \n    \n# class MyAwesomeList():\n    ",
      "execution_count": 30,
      "outputs": [
        {
          "output_type": "stream",
          "text": "어쨌든 끝남\nhello, world\n어쨌든 끝남\nhello, python\n어쨌든 끝남\nhello, programming\n어쨌든 끝남\nmust be str, not int\n어쨌든 끝남\nhello, fastcampus\n",
          "name": "stdout"
        }
      ]
    },
    {
      "metadata": {
        "trusted": true
      },
      "cell_type": "code",
      "source": "def fibo(n):\n    if n < 0:\n#         err = FibonaccishouldNotHaveNegativeNumberError()\n#         raise err\n        raise FibonaccishouldNotHaveNegativeNumberError(n)\n    \n    if n == 0:\n        return 0\n    if n == 1:\n        return 1\n    return fibo(n - 1) + fibo(n - 2)\n\n",
      "execution_count": 47,
      "outputs": []
    },
    {
      "metadata": {
        "trusted": true
      },
      "cell_type": "code",
      "source": "# Exception Class\n\nclass FibonaccishouldNotHaveNegativeNumberError(Exception):\n    \n    def __init__(self, n):\n        self.n = n\n    \n    def __str__(self):\n        return \"피보나치 수열은 index 값으로 양수를 받아야 합니다. ( 입력받은 값: {n} )\".format(n=self.n)",
      "execution_count": 48,
      "outputs": []
    },
    {
      "metadata": {
        "trusted": true
      },
      "cell_type": "code",
      "source": "fibo(-1)",
      "execution_count": 49,
      "outputs": [
        {
          "output_type": "error",
          "ename": "FibonaccishouldNotHaveNegativeNumberError",
          "evalue": "피보나치 수열은 index 값으로 양수를 받아야 합니다. ( 입력받은 값: -1 )",
          "traceback": [
            "\u001b[0;31m---------------------------------------------------------------------------\u001b[0m",
            "\u001b[0;31mFibonaccishouldNotHaveNegativeNumberError\u001b[0m Traceback (most recent call last)",
            "\u001b[0;32m<ipython-input-49-fc7b8af3605d>\u001b[0m in \u001b[0;36m<module>\u001b[0;34m()\u001b[0m\n\u001b[0;32m----> 1\u001b[0;31m \u001b[0mfibo\u001b[0m\u001b[0;34m(\u001b[0m\u001b[0;34m-\u001b[0m\u001b[0;36m1\u001b[0m\u001b[0;34m)\u001b[0m\u001b[0;34m\u001b[0m\u001b[0m\n\u001b[0m",
            "\u001b[0;32m<ipython-input-47-b21f51f66ebe>\u001b[0m in \u001b[0;36mfibo\u001b[0;34m(n)\u001b[0m\n\u001b[1;32m      3\u001b[0m \u001b[0;31m#         err = FibonaccishouldNotHaveNegativeNumberError()\u001b[0m\u001b[0;34m\u001b[0m\u001b[0;34m\u001b[0m\u001b[0m\n\u001b[1;32m      4\u001b[0m \u001b[0;31m#         raise err\u001b[0m\u001b[0;34m\u001b[0m\u001b[0;34m\u001b[0m\u001b[0m\n\u001b[0;32m----> 5\u001b[0;31m         \u001b[0;32mraise\u001b[0m \u001b[0mFibonaccishouldNotHaveNegativeNumberError\u001b[0m\u001b[0;34m(\u001b[0m\u001b[0mn\u001b[0m\u001b[0;34m)\u001b[0m\u001b[0;34m\u001b[0m\u001b[0m\n\u001b[0m\u001b[1;32m      6\u001b[0m \u001b[0;34m\u001b[0m\u001b[0m\n\u001b[1;32m      7\u001b[0m     \u001b[0;32mif\u001b[0m \u001b[0mn\u001b[0m \u001b[0;34m==\u001b[0m \u001b[0;36m0\u001b[0m\u001b[0;34m:\u001b[0m\u001b[0;34m\u001b[0m\u001b[0m\n",
            "\u001b[0;31mFibonaccishouldNotHaveNegativeNumberError\u001b[0m: 피보나치 수열은 index 값으로 양수를 받아야 합니다. ( 입력받은 값: -1 )"
          ]
        }
      ]
    },
    {
      "metadata": {
        "trusted": true
      },
      "cell_type": "code",
      "source": "raise FibonaccishouldNotHaveNegativeNumberError()",
      "execution_count": 50,
      "outputs": [
        {
          "output_type": "error",
          "ename": "TypeError",
          "evalue": "__init__() missing 1 required positional argument: 'n'",
          "traceback": [
            "\u001b[0;31m---------------------------------------------------------------------------\u001b[0m",
            "\u001b[0;31mTypeError\u001b[0m                                 Traceback (most recent call last)",
            "\u001b[0;32m<ipython-input-50-6e17bb68886f>\u001b[0m in \u001b[0;36m<module>\u001b[0;34m()\u001b[0m\n\u001b[0;32m----> 1\u001b[0;31m \u001b[0;32mraise\u001b[0m \u001b[0mFibonaccishouldNotHaveNegativeNumberError\u001b[0m\u001b[0;34m(\u001b[0m\u001b[0;34m)\u001b[0m\u001b[0;34m\u001b[0m\u001b[0m\n\u001b[0m",
            "\u001b[0;31mTypeError\u001b[0m: __init__() missing 1 required positional argument: 'n'"
          ]
        }
      ]
    },
    {
      "metadata": {
        "trusted": true
      },
      "cell_type": "code",
      "source": "# 예외처리를 포함하여, \n# factorial(n) 함수를 구현하세요. n! = n * (n - 1) * ... * 2 * 1",
      "execution_count": 51,
      "outputs": []
    },
    {
      "metadata": {
        "trusted": true
      },
      "cell_type": "code",
      "source": "def factorial(n):\n    if n <= 0:\n        raise FactorialShouldGetPositiveIndexError(n)\n    if n == 1:\n        return 1\n    return n * factorial(n - 1)",
      "execution_count": 55,
      "outputs": []
    },
    {
      "metadata": {
        "trusted": true
      },
      "cell_type": "code",
      "source": "factorial(4)",
      "execution_count": 56,
      "outputs": [
        {
          "output_type": "execute_result",
          "execution_count": 56,
          "data": {
            "text/plain": "24"
          },
          "metadata": {}
        }
      ]
    },
    {
      "metadata": {
        "trusted": true
      },
      "cell_type": "code",
      "source": "class FactorialShouldGetPositiveIndexError(Exception):\n    \n    def __init__(self, n):\n        self.n = n\n        \n    def __str__(self):\n        return \"factorial function should get positive index. ( input: {n} )\".format(n = self.n)",
      "execution_count": 57,
      "outputs": []
    },
    {
      "metadata": {
        "trusted": true
      },
      "cell_type": "code",
      "source": "factorial(-3)",
      "execution_count": 58,
      "outputs": [
        {
          "output_type": "error",
          "ename": "FactorialShouldGetPositiveIndexError",
          "evalue": "factorial function should get positive index. ( input: -3 )",
          "traceback": [
            "\u001b[0;31m---------------------------------------------------------------------------\u001b[0m",
            "\u001b[0;31mFactorialShouldGetPositiveIndexError\u001b[0m      Traceback (most recent call last)",
            "\u001b[0;32m<ipython-input-58-b34e27388b56>\u001b[0m in \u001b[0;36m<module>\u001b[0;34m()\u001b[0m\n\u001b[0;32m----> 1\u001b[0;31m \u001b[0mfactorial\u001b[0m\u001b[0;34m(\u001b[0m\u001b[0;34m-\u001b[0m\u001b[0;36m3\u001b[0m\u001b[0;34m)\u001b[0m\u001b[0;34m\u001b[0m\u001b[0m\n\u001b[0m",
            "\u001b[0;32m<ipython-input-55-0ca72eb7dc53>\u001b[0m in \u001b[0;36mfactorial\u001b[0;34m(n)\u001b[0m\n\u001b[1;32m      1\u001b[0m \u001b[0;32mdef\u001b[0m \u001b[0mfactorial\u001b[0m\u001b[0;34m(\u001b[0m\u001b[0mn\u001b[0m\u001b[0;34m)\u001b[0m\u001b[0;34m:\u001b[0m\u001b[0;34m\u001b[0m\u001b[0m\n\u001b[1;32m      2\u001b[0m     \u001b[0;32mif\u001b[0m \u001b[0mn\u001b[0m \u001b[0;34m<=\u001b[0m \u001b[0;36m0\u001b[0m\u001b[0;34m:\u001b[0m\u001b[0;34m\u001b[0m\u001b[0m\n\u001b[0;32m----> 3\u001b[0;31m         \u001b[0;32mraise\u001b[0m \u001b[0mFactorialShouldGetPositiveIndexError\u001b[0m\u001b[0;34m(\u001b[0m\u001b[0mn\u001b[0m\u001b[0;34m)\u001b[0m\u001b[0;34m\u001b[0m\u001b[0m\n\u001b[0m\u001b[1;32m      4\u001b[0m     \u001b[0;32mif\u001b[0m \u001b[0mn\u001b[0m \u001b[0;34m==\u001b[0m \u001b[0;36m1\u001b[0m\u001b[0;34m:\u001b[0m\u001b[0;34m\u001b[0m\u001b[0m\n\u001b[1;32m      5\u001b[0m         \u001b[0;32mreturn\u001b[0m \u001b[0;36m1\u001b[0m\u001b[0;34m\u001b[0m\u001b[0m\n",
            "\u001b[0;31mFactorialShouldGetPositiveIndexError\u001b[0m: factorial function should get positive index. ( input: -3 )"
          ]
        }
      ]
    },
    {
      "metadata": {
        "trusted": true
      },
      "cell_type": "code",
      "source": "# www.apistore.co.kr => sms 서비스 ",
      "execution_count": 59,
      "outputs": []
    },
    {
      "metadata": {
        "trusted": true
      },
      "cell_type": "code",
      "source": "# 숙제\n# Python 설치하기 => 첫날 => 파이썬 설치\n\n# 2.7.11, 3.3.6, 3.5.1 버전별 \n# Ubuntu Server trusty, 14.04 + VirtualBox ",
      "execution_count": null,
      "outputs": []
    }
  ],
  "metadata": {
    "kernelspec": {
      "name": "python36",
      "display_name": "Python 3.6",
      "language": "python"
    },
    "language_info": {
      "mimetype": "text/x-python",
      "nbconvert_exporter": "python",
      "name": "python",
      "pygments_lexer": "ipython3",
      "version": "3.6.6",
      "file_extension": ".py",
      "codemirror_mode": {
        "version": 3,
        "name": "ipython"
      }
    }
  },
  "nbformat": 4,
  "nbformat_minor": 2
}