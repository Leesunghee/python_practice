{
  "cells": [
    {
      "metadata": {
        "trusted": true
      },
      "cell_type": "code",
      "source": "# Hanoi ",
      "execution_count": 1,
      "outputs": []
    },
    {
      "metadata": {
        "trusted": true
      },
      "cell_type": "code",
      "source": "def hanoi(height, from_tower, to_tower, helper_tower):\n    if height >= 1: \n        # 1. n-1 개를 from 에서 helper 로 옮긴다.\n        hanoi(height-1, from_tower, helper_tower, to_tower)\n        \n        # 2. n 번째 마지막 원판을 from 에서 to 로 옮긴다.\n        print(\"{from_tower} 에서 {to_tower} 로 {height} 번째 원판을 이동한다.\".format(\n            from_tower = from_tower,\n            to_tower = to_tower,\n            height = height,))\n         \n        # 3. n-1 개를 helper 에서 to 로 옮긴다.\n        hanoi(height-1, helper_tower, to_tower, from_tower)",
      "execution_count": 2,
      "outputs": []
    },
    {
      "metadata": {
        "trusted": true
      },
      "cell_type": "code",
      "source": "hanoi(4, \"A\", \"B\", \"C\")",
      "execution_count": 4,
      "outputs": [
        {
          "output_type": "stream",
          "text": "A 에서 C 로 1 번째 원판을 이동한다.\nA 에서 B 로 2 번째 원판을 이동한다.\nC 에서 B 로 1 번째 원판을 이동한다.\nA 에서 C 로 3 번째 원판을 이동한다.\nB 에서 A 로 1 번째 원판을 이동한다.\nB 에서 C 로 2 번째 원판을 이동한다.\nA 에서 C 로 1 번째 원판을 이동한다.\nA 에서 B 로 4 번째 원판을 이동한다.\nC 에서 B 로 1 번째 원판을 이동한다.\nC 에서 A 로 2 번째 원판을 이동한다.\nB 에서 A 로 1 번째 원판을 이동한다.\nC 에서 B 로 3 번째 원판을 이동한다.\nA 에서 C 로 1 번째 원판을 이동한다.\nA 에서 B 로 2 번째 원판을 이동한다.\nC 에서 B 로 1 번째 원판을 이동한다.\n",
          "name": "stdout"
        }
      ]
    },
    {
      "metadata": {
        "trusted": true
      },
      "cell_type": "code",
      "source": "# 1. for 문으로 구현\n# 2. join, split 로 구현\n# 3. lambda operator 로 구현\n\n\n# get_day_of_week => 매달 1일이 무슨 요일?\n# get_day_of_week(5, 1) => 목요일\n\n# May 2016\n# Su Mo Tu We Th Fr Sa\n#  1  2  3  4  5  6  7\n#  8  9 10 11 12 13 14\n# 15 16 17 18 19 20 21\n# 22 23 24 25 26 27 28\n# 29 30 31\n\n\n#      April 2016\n# Su Mo Tu We Th Fr Sa\n#                 1  2\n#  3  4  5  6  7  8  9\n# 10 11 12 13 14 15 16\n# 17 18 19 20 21 22 23\n# 24 25 26 27 28 29 30\n\n# calendar(year, month, )\n\n# 피보나치킨\n# [0, 1, 1, 2, 3, 5, 8, 13, 21, 34, 55, ...]",
      "execution_count": 9,
      "outputs": []
    },
    {
      "metadata": {
        "trusted": true
      },
      "cell_type": "code",
      "source": "",
      "execution_count": null,
      "outputs": []
    }
  ],
  "metadata": {
    "kernelspec": {
      "name": "python36",
      "display_name": "Python 3.6",
      "language": "python"
    },
    "language_info": {
      "mimetype": "text/x-python",
      "nbconvert_exporter": "python",
      "name": "python",
      "pygments_lexer": "ipython3",
      "version": "3.6.6",
      "file_extension": ".py",
      "codemirror_mode": {
        "version": 3,
        "name": "ipython"
      }
    }
  },
  "nbformat": 4,
  "nbformat_minor": 2
}