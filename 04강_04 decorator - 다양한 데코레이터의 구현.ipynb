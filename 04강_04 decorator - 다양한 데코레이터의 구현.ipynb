{
  "cells": [
    {
      "metadata": {
        "trusted": true
      },
      "cell_type": "code",
      "source": "def frigde(function):\n    def wrapper(*args, **kwargs):\n        print(\"냉장고를 연다\")\n        function(*args, **kwargs)\n        print(\"냉장고를 닫는다.\")\n    return wrapper",
      "execution_count": 1,
      "outputs": []
    },
    {
      "metadata": {
        "trusted": true
      },
      "cell_type": "code",
      "source": "",
      "execution_count": null,
      "outputs": []
    },
    {
      "metadata": {
        "trusted": true
      },
      "cell_type": "code",
      "source": "@frigde\ndef put_fridge(food):\n    print(\"{food}를 냉장고에 넣는다.\".format(food=food))",
      "execution_count": 2,
      "outputs": []
    },
    {
      "metadata": {
        "trusted": true
      },
      "cell_type": "code",
      "source": "put_fridge(\"족발\")",
      "execution_count": 3,
      "outputs": [
        {
          "output_type": "stream",
          "text": "냉장고를 연다\n족발를 냉장고에 넣는다.\n냉장고를 닫는다.\n",
          "name": "stdout"
        }
      ]
    },
    {
      "metadata": {
        "trusted": true
      },
      "cell_type": "code",
      "source": "# @before_execute => \"_______ 함수를 실행을 시작합니다.\"\n# @after_execute => \"_______ 함수 실행을 종료합니다.\"\n# @timer => \"_______ s 초 걸렸습니다.\"\n\n# something(...)\n\n# something 함수를 실행합니다.\n# ...\n# something 함수를 종료합니다.\n# something 함수를 실행하는데 _____ s 걸렸습니다.\n\n# @log_to_csv => csv 파일을 읽어서, 함수의 실행 순서에 대해서 기록해주는 애\n\n",
      "execution_count": 4,
      "outputs": []
    },
    {
      "metadata": {
        "trusted": true
      },
      "cell_type": "code",
      "source": "# decorator function => 1. before, 2. after, 3. timer",
      "execution_count": 5,
      "outputs": []
    },
    {
      "metadata": {
        "trusted": true
      },
      "cell_type": "code",
      "source": "import time\ndef before_execute(function):\n    def wrapper(*args, **kwargs):\n        print(\"@before_execute\")\n        print(\"{function} 을 실행합니다.\".format(function=function))\n        return function(*args, **kwargs)\n    return wrapper \n\ndef after_execute(function):\n    def wrapper(*args, **kwargs):\n        print(\"@after_execute\")\n        result = function(*args, **kwargs)\n        print(\"{function} 을 종료합니다.\".format(function=function))\n        return result\n    return wrapper \n\ndef timer(function):\n    def wrapper(*args, **kwargs):\n        print(\"@timer\")\n        start_time = time.time()\n        result = function(*args, **kwargs)\n        end_time = time.time()\n        print(\"{time} s 가 소요되었습니다.\".format(time=start_time - end_time))\n        return result\n    return wrapper \n",
      "execution_count": 20,
      "outputs": []
    },
    {
      "metadata": {
        "trusted": true
      },
      "cell_type": "code",
      "source": "@timer\n@after_execute\n@before_execute\ndef something():\n    return \"This is something\"",
      "execution_count": 23,
      "outputs": []
    },
    {
      "metadata": {
        "trusted": true
      },
      "cell_type": "code",
      "source": "something()",
      "execution_count": 24,
      "outputs": [
        {
          "output_type": "stream",
          "text": "@timer\n@after_execute\n@before_execute\n<function something at 0x7f9db0863ae8> 을 실행합니다.\n<function before_execute.<locals>.wrapper at 0x7f9db0863950> 을 종료합니다.\n-0.002003192901611328 s 가 소요되었습니다.\n",
          "name": "stdout"
        },
        {
          "output_type": "execute_result",
          "execution_count": 24,
          "data": {
            "text/plain": "'This is something'"
          },
          "metadata": {}
        }
      ]
    },
    {
      "metadata": {
        "trusted": true
      },
      "cell_type": "code",
      "source": "def bold(function):\n    def wrapper(*args, **kwargs):\n        return \"<b>{text}</b>\".format(\n            text=function(*args, **kwargs) #=> \"나는 .. 입니다.\"\n        )\n    return wrapper\n\ndef italic(function):\n    def wrapper(*args, **kwargs):\n        return \"<i>{text}</i>\".format(\n            text=function(*args, **kwargs) #=> \"나는 .. 입니다.\"\n        )\n    return wrapper\n",
      "execution_count": 55,
      "outputs": []
    },
    {
      "metadata": {
        "trusted": true
      },
      "cell_type": "code",
      "source": "@bold\n@italic\ndef introduce(name, course):\n    return \"안녕하세요, 저는 {name} 입니다. {course} 에서 공부하고 있습니다.\".format(name=name, course=course)",
      "execution_count": 56,
      "outputs": []
    },
    {
      "metadata": {
        "trusted": true
      },
      "cell_type": "code",
      "source": "# @bold\n# @italic\n# => <b><i>...</i></b>\n\n# @phonenumber\n# 01022200034 => 010-2220-0034\n# 010-둘둘둘영-영영삼사 => 010-2220-0034",
      "execution_count": 57,
      "outputs": []
    },
    {
      "metadata": {
        "trusted": true
      },
      "cell_type": "code",
      "source": "introduce(\"이성희\", \"집\")",
      "execution_count": 58,
      "outputs": [
        {
          "output_type": "execute_result",
          "execution_count": 58,
          "data": {
            "text/plain": "'<b><i>안녕하세요, 저는 이성희 입니다. 집 에서 공부하고 있습니다.</i></b>'"
          },
          "metadata": {}
        }
      ]
    },
    {
      "metadata": {
        "trusted": true
      },
      "cell_type": "code",
      "source": "def prettify(function):\n    def wrapper(*args, **kwargs):\n        result = function(*args, **kwargs)\n        return result.replace(\"오\", \"5\").replace(\"칠\", \"7\").replace(\"삼\", \"3\").replace(\"육\", \"6\")\n    return wrapper",
      "execution_count": 66,
      "outputs": []
    },
    {
      "metadata": {
        "trusted": true
      },
      "cell_type": "code",
      "source": "@prettify\ndef crawl_phonenumber(naver_cafe_name, naver_cafe_post_id):\n    # 어떤식으로 크롤링으로 되어서, ...\n    return \"010-2220-오칠삼육\"\n\ncrawl_phonenumber(\"중고나라\", \"34555\")",
      "execution_count": 67,
      "outputs": [
        {
          "output_type": "execute_result",
          "execution_count": 67,
          "data": {
            "text/plain": "'010-2220-5736'"
          },
          "metadata": {}
        }
      ]
    },
    {
      "metadata": {
        "trusted": true
      },
      "cell_type": "code",
      "source": "",
      "execution_count": null,
      "outputs": []
    },
    {
      "metadata": {
        "trusted": true
      },
      "cell_type": "code",
      "source": "",
      "execution_count": null,
      "outputs": []
    }
  ],
  "metadata": {
    "kernelspec": {
      "name": "python36",
      "display_name": "Python 3.6",
      "language": "python"
    },
    "language_info": {
      "mimetype": "text/x-python",
      "nbconvert_exporter": "python",
      "name": "python",
      "pygments_lexer": "ipython3",
      "version": "3.6.6",
      "file_extension": ".py",
      "codemirror_mode": {
        "version": 3,
        "name": "ipython"
      }
    }
  },
  "nbformat": 4,
  "nbformat_minor": 2
}