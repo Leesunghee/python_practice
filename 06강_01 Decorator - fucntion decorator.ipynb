{
  "cells": [
    {
      "metadata": {
        "trusted": true
      },
      "cell_type": "code",
      "source": "# Decorator - function, class\n# 장점: decorator 도 의미있는 데이터와, 메쏘드들로 묶을 수 있다. (\"모듈화\" 할 수 있다.)",
      "execution_count": 2,
      "outputs": []
    },
    {
      "metadata": {
        "trusted": true
      },
      "cell_type": "code",
      "source": "import time\n\n# print_student_info(name, cource, age)\n# args => ( type: tuple ) => (\"leesunghee\", \"wps\", 24) # packing\n# print_student_info(*args)                            # unpacking\n# 똑같이 생겼는데, 1. 함수 정의할 때랑 ( packing ), 2. 함수 호출할 때 ( unpacking ) 랑 반대의 기능이 기능\n    \ndef timer(function):\n    def wrapper(*args, **kwargs): # packing => 함수 정의부 \n        print(\"args => {args}\".format(args=args))\n        print(\"kwargs => {kwargs}\".format(kwargs=kwargs))\n        start_time = time.time()\n        result = function(*args, **kwargs)  # unpacking => tuple => ... / dict => key, value ...\n                                            # 함수 호출부\n        end_time = time.time()\n        print(\"{time}s\".format(time = end_time - start_time))\n        return result\n    return wrapper # 새로운 함수를 만들고, 그 함수를 return 하는 함수 => decorator 함수",
      "execution_count": 28,
      "outputs": []
    },
    {
      "metadata": {
        "trusted": true
      },
      "cell_type": "code",
      "source": "@timer\ndef print_hello():\n    print(\"hello world\")",
      "execution_count": 25,
      "outputs": []
    },
    {
      "metadata": {
        "trusted": true
      },
      "cell_type": "code",
      "source": "print_hello() # print_hello 라는 이름을 가지고 있기는 하지만, 사실상의 timer => wrapper function이 실행",
      "execution_count": 26,
      "outputs": [
        {
          "output_type": "stream",
          "text": "args => ()\nkwargs => {}\nhello world\n0.0003635883331298828s\n",
          "name": "stdout"
        }
      ]
    },
    {
      "metadata": {
        "trusted": true
      },
      "cell_type": "code",
      "source": "wrapper = timer(print_hello)\nwrapper()",
      "execution_count": 11,
      "outputs": [
        {
          "output_type": "stream",
          "text": "hello world\n0.0001423358917236328s\n0.00028014183044433594s\n",
          "name": "stdout"
        }
      ]
    },
    {
      "metadata": {
        "trusted": true
      },
      "cell_type": "code",
      "source": "def print_goodbye():\n    print(\"good bye\")\n\nprint_goodbye = timer(print_goodbye) # 사실상 decorator 는 기존의 정의된 함수를 한번 묶는 것과 100% 동일하다.\n",
      "execution_count": 13,
      "outputs": []
    },
    {
      "metadata": {
        "trusted": true
      },
      "cell_type": "code",
      "source": "print_goodbye()",
      "execution_count": 14,
      "outputs": [
        {
          "output_type": "stream",
          "text": "good bye\n6.127357482910156e-05s\n",
          "name": "stdout"
        }
      ]
    },
    {
      "metadata": {
        "trusted": true
      },
      "cell_type": "code",
      "source": "# args, kwargs\ndef hello_items(**kwargs):  # 함수를 정의하는 시점에 사용하는 kwargs (**kwargs) => packing\n    for key, value in kwargs.items():\n        print(\"{key} => {value}\".format(key=key, value=value))",
      "execution_count": 18,
      "outputs": []
    },
    {
      "metadata": {
        "trusted": true
      },
      "cell_type": "code",
      "source": "hello_items(name=\"leesunghee\", age =24)",
      "execution_count": 19,
      "outputs": [
        {
          "output_type": "stream",
          "text": "name => leesunghee\nage => 24\n",
          "name": "stdout"
        }
      ]
    },
    {
      "metadata": {
        "trusted": true
      },
      "cell_type": "code",
      "source": "information = {\"name\": \"leesunghee\", \"age\": 24}\nhello_items(**information) # dict => key, value => unpacking\n# 함수를 호출하는 시점에서 사용하는 kwargs ( **kwargs )",
      "execution_count": 22,
      "outputs": [
        {
          "output_type": "stream",
          "text": "name => leesunghee\nage => 24\n",
          "name": "stdout"
        }
      ]
    },
    {
      "metadata": {
        "trusted": true
      },
      "cell_type": "code",
      "source": "@timer\ndef print_student_info(name, course, age):\n    pass",
      "execution_count": 30,
      "outputs": []
    },
    {
      "metadata": {
        "trusted": true
      },
      "cell_type": "code",
      "source": "print_student_info(\"leesunghee\", \"wps\", 24)  # => *args => packing\n# *args => (\"leesunghee\", \"wps\", 24)",
      "execution_count": 31,
      "outputs": [
        {
          "output_type": "stream",
          "text": "args => ('leesunghee', 'wps', 24)\nkwargs => {}\n1.6689300537109375e-06s\n",
          "name": "stdout"
        }
      ]
    },
    {
      "metadata": {
        "trusted": true
      },
      "cell_type": "code",
      "source": "def hello():\n    print(\"hello world\")",
      "execution_count": 32,
      "outputs": []
    },
    {
      "metadata": {
        "trusted": true
      },
      "cell_type": "code",
      "source": "def execute_three_times(function):\n    for i in range(3):\n        function()",
      "execution_count": 33,
      "outputs": []
    },
    {
      "metadata": {
        "trusted": true
      },
      "cell_type": "code",
      "source": "execute_three_times(hello)",
      "execution_count": 37,
      "outputs": [
        {
          "output_type": "stream",
          "text": "hello world\nhello world\nhello world\n",
          "name": "stdout"
        }
      ]
    },
    {
      "metadata": {
        "trusted": true
      },
      "cell_type": "code",
      "source": "def double(x):\n    return x * 2\n\ndef triple(x):\n    return x * 3",
      "execution_count": 38,
      "outputs": []
    },
    {
      "metadata": {
        "trusted": true
      },
      "cell_type": "code",
      "source": "triple(double(4))",
      "execution_count": 40,
      "outputs": [
        {
          "output_type": "execute_result",
          "execution_count": 40,
          "data": {
            "text/plain": "24"
          },
          "metadata": {}
        }
      ]
    },
    {
      "metadata": {
        "trusted": true
      },
      "cell_type": "code",
      "source": "# bold => <b>...</b>\n# italic => <i>...</i>\n# decorator 구현하기 2개 \n\n# 함수 아무거나 2개 구현하기 ",
      "execution_count": 41,
      "outputs": []
    },
    {
      "metadata": {
        "trusted": true
      },
      "cell_type": "code",
      "source": "def bold(function):\n    def wrapper(*args, **kwargs):\n        return \"<b>\" + function(*args, **kwargs) + \"</b>\"\n    return wrapper\n\ndef italic(function):\n    def wrapper(*args, **kwargs):\n        return \"<i>\" + function(*args, **kwargs) + \"</i>\"\n    return wrapper\n\n@bold\n@italic\ndef return_hello():\n    return \"hello world\"\n\ndef return_goodbye():\n    return \"good bye\"\n\nreturn_goodbye = bold(italic(return_goodbye)) # decorator 의 실제 기능 ( @... )",
      "execution_count": 47,
      "outputs": []
    },
    {
      "metadata": {
        "trusted": true
      },
      "cell_type": "code",
      "source": "return_hello()",
      "execution_count": 48,
      "outputs": [
        {
          "output_type": "execute_result",
          "execution_count": 48,
          "data": {
            "text/plain": "'<b><i>hello world</i></b>'"
          },
          "metadata": {}
        }
      ]
    },
    {
      "metadata": {
        "trusted": true
      },
      "cell_type": "code",
      "source": "return_goodbye()",
      "execution_count": 49,
      "outputs": [
        {
          "output_type": "execute_result",
          "execution_count": 49,
          "data": {
            "text/plain": "'<b><i>good bye</i></b>'"
          },
          "metadata": {}
        }
      ]
    },
    {
      "metadata": {
        "trusted": true
      },
      "cell_type": "code",
      "source": "def return_double_function():\n    def double(x):\n        return x * 2\n    return double",
      "execution_count": 50,
      "outputs": []
    },
    {
      "metadata": {
        "trusted": true
      },
      "cell_type": "code",
      "source": "return_double_function()(10) # double 함수 ",
      "execution_count": 52,
      "outputs": [
        {
          "output_type": "execute_result",
          "execution_count": 52,
          "data": {
            "text/plain": "20"
          },
          "metadata": {}
        }
      ]
    },
    {
      "metadata": {
        "trusted": true
      },
      "cell_type": "code",
      "source": "def return_multiply_function(n):\n    def multiply(x):\n        return x * n\n    return multiply",
      "execution_count": 53,
      "outputs": []
    },
    {
      "metadata": {
        "trusted": true
      },
      "cell_type": "code",
      "source": "double = return_multiply_function(2)\ntriple = return_multiply_function(3)\nquadruple = return_multiply_function(4)\n\nreturn_multiply_function(10)(20) # n = 10, x = 20",
      "execution_count": 59,
      "outputs": [
        {
          "output_type": "execute_result",
          "execution_count": 59,
          "data": {
            "text/plain": "200"
          },
          "metadata": {}
        }
      ]
    },
    {
      "metadata": {
        "trusted": true
      },
      "cell_type": "code",
      "source": "double(2)",
      "execution_count": 55,
      "outputs": [
        {
          "output_type": "execute_result",
          "execution_count": 55,
          "data": {
            "text/plain": "4"
          },
          "metadata": {}
        }
      ]
    },
    {
      "metadata": {
        "trusted": true
      },
      "cell_type": "code",
      "source": "triple(2)",
      "execution_count": 56,
      "outputs": [
        {
          "output_type": "execute_result",
          "execution_count": 56,
          "data": {
            "text/plain": "6"
          },
          "metadata": {}
        }
      ]
    },
    {
      "metadata": {
        "trusted": true
      },
      "cell_type": "code",
      "source": "",
      "execution_count": null,
      "outputs": []
    }
  ],
  "metadata": {
    "kernelspec": {
      "name": "python36",
      "display_name": "Python 3.6",
      "language": "python"
    },
    "language_info": {
      "mimetype": "text/x-python",
      "nbconvert_exporter": "python",
      "name": "python",
      "pygments_lexer": "ipython3",
      "version": "3.6.6",
      "file_extension": ".py",
      "codemirror_mode": {
        "version": 3,
        "name": "ipython"
      }
    }
  },
  "nbformat": 4,
  "nbformat_minor": 2
}