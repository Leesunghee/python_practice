{
  "cells": [
    {
      "metadata": {
        "trusted": true
      },
      "cell_type": "code",
      "source": "# 정규표현식으로 들어가기 위한 개요\n# 테스팅 개요",
      "execution_count": 1,
      "outputs": []
    },
    {
      "metadata": {
        "trusted": true
      },
      "cell_type": "code",
      "source": "def double(x):\n    \"\"\"x를 받아서 2배 불려주는 좋은 함수입니다.\"\"\"\n    return x * 2",
      "execution_count": 10,
      "outputs": []
    },
    {
      "metadata": {
        "trusted": true
      },
      "cell_type": "code",
      "source": "double?",
      "execution_count": 11,
      "outputs": []
    },
    {
      "metadata": {
        "trusted": true
      },
      "cell_type": "code",
      "source": "# 테스트 코드 \nif not double(2) == 4:\n    raise Exception()\nif not double(10) == 20:\n    raise Exception()",
      "execution_count": 15,
      "outputs": []
    },
    {
      "metadata": {
        "trusted": true
      },
      "cell_type": "code",
      "source": "assert double(5) == 10\nassert double(10) == 21",
      "execution_count": 16,
      "outputs": [
        {
          "output_type": "error",
          "ename": "AssertionError",
          "evalue": "",
          "traceback": [
            "\u001b[0;31m---------------------------------------------------------------------------\u001b[0m",
            "\u001b[0;31mAssertionError\u001b[0m                            Traceback (most recent call last)",
            "\u001b[0;32m<ipython-input-16-efd387adfe54>\u001b[0m in \u001b[0;36m<module>\u001b[0;34m()\u001b[0m\n\u001b[1;32m      1\u001b[0m \u001b[0;32massert\u001b[0m \u001b[0mdouble\u001b[0m\u001b[0;34m(\u001b[0m\u001b[0;36m5\u001b[0m\u001b[0;34m)\u001b[0m \u001b[0;34m==\u001b[0m \u001b[0;36m10\u001b[0m\u001b[0;34m\u001b[0m\u001b[0m\n\u001b[0;32m----> 2\u001b[0;31m \u001b[0;32massert\u001b[0m \u001b[0mdouble\u001b[0m\u001b[0;34m(\u001b[0m\u001b[0;36m10\u001b[0m\u001b[0;34m)\u001b[0m \u001b[0;34m==\u001b[0m \u001b[0;36m21\u001b[0m\u001b[0;34m\u001b[0m\u001b[0m\n\u001b[0m",
            "\u001b[0;31mAssertionError\u001b[0m: "
          ]
        }
      ]
    },
    {
      "metadata": {
        "trusted": true
      },
      "cell_type": "code",
      "source": "# 테스트 코드를 작성할 수 있는, \n# unittest 모듈을 제공\n\n# class TestDoubleFunction(unittest.TestCase):\n    \n#     def test_5_should_return_10(self):\n#         self.assertEqual(double(5), 10) # assert_double(5) == 10",
      "execution_count": 17,
      "outputs": [
        {
          "output_type": "error",
          "ename": "NameError",
          "evalue": "name 'unittest' is not defined",
          "traceback": [
            "\u001b[0;31m---------------------------------------------------------------------------\u001b[0m",
            "\u001b[0;31mNameError\u001b[0m                                 Traceback (most recent call last)",
            "\u001b[0;32m<ipython-input-17-8965aa25714c>\u001b[0m in \u001b[0;36m<module>\u001b[0;34m()\u001b[0m\n\u001b[1;32m      2\u001b[0m \u001b[0;31m# unittest 모듈을 제공\u001b[0m\u001b[0;34m\u001b[0m\u001b[0;34m\u001b[0m\u001b[0m\n\u001b[1;32m      3\u001b[0m \u001b[0;34m\u001b[0m\u001b[0m\n\u001b[0;32m----> 4\u001b[0;31m \u001b[0;32mclass\u001b[0m \u001b[0mTestDoubleFunction\u001b[0m\u001b[0;34m(\u001b[0m\u001b[0munittest\u001b[0m\u001b[0;34m.\u001b[0m\u001b[0mTestCase\u001b[0m\u001b[0;34m)\u001b[0m\u001b[0;34m:\u001b[0m\u001b[0;34m\u001b[0m\u001b[0m\n\u001b[0m\u001b[1;32m      5\u001b[0m \u001b[0;34m\u001b[0m\u001b[0m\n\u001b[1;32m      6\u001b[0m     \u001b[0;32mdef\u001b[0m \u001b[0mtest_5_should_return_10\u001b[0m\u001b[0;34m(\u001b[0m\u001b[0mself\u001b[0m\u001b[0;34m)\u001b[0m\u001b[0;34m:\u001b[0m\u001b[0;34m\u001b[0m\u001b[0m\n",
            "\u001b[0;31mNameError\u001b[0m: name 'unittest' is not defined"
          ]
        }
      ]
    },
    {
      "metadata": {
        "trusted": true
      },
      "cell_type": "code",
      "source": "%run hello.py",
      "execution_count": 18,
      "outputs": [
        {
          "output_type": "stream",
          "text": "ERROR:root:File `'hello.py'` not found.\n",
          "name": "stderr"
        }
      ]
    },
    {
      "metadata": {
        "trusted": true
      },
      "cell_type": "code",
      "source": "# TDD => 테스트 주도 개발 ( Test Driven Development )\n# 테스트 > 코드 => \"개발 시간이 일단 오래 걸려요\"\n# 프로젝트가 커지면 커질수록, 의존성++\n# 테스트 코드 ( X ) => 유지보수 하기가 굉장히 어렵다.\n# 조그마한 기능 단위로 테스팅을 무조건 시작해야 합니다. ( unit test ) => 통합테스트 ( integration test )",
      "execution_count": 22,
      "outputs": []
    },
    {
      "metadata": {
        "trusted": true
      },
      "cell_type": "code",
      "source": "# 테스트 주도 개발을 시작하는 방법\n\n# - 유닛 테스트를 합니다.\n# - 테스트 시나리오 => 일련의 기능들을 어떤 순서와 방법으로 여러 형태를 테스트를 해보는 프로세스\n# - TDD Cycle\n#   - RED => 테스트가 실패 합니다.\n#   - GREEN => 테스트가 성공하도록 코드를 변경함\n#   - Refactor => 계속 성공하면서, 코드를 더 예쁘게 리팩토링 합니다.",
      "execution_count": 23,
      "outputs": []
    },
    {
      "metadata": {
        "trusted": true
      },
      "cell_type": "code",
      "source": "# \"이성희, 010-1111-2222\"\n# def preprocess_user_information(information):\n#     pass\n\n# \"이성희, 010-1111-****\"\n\ndef preprocess_user_information(information):\n    return information[:-4] + \"****\"\n\nassert preprocess_user_information(\"이성희, 010-1111-2222\") == \"이성희, 010-1111-****\"\nassert preprocess_user_information(\"이성희, 010-2222-2222\") == \"이성희, 010-2222-****\"\nassert preprocess_user_information(\"이성, 010-2222-2222\") == \"이성, 010-2222-****\"",
      "execution_count": 40,
      "outputs": []
    },
    {
      "metadata": {
        "trusted": true
      },
      "cell_type": "code",
      "source": "# travis-ci.org 참고하자 테스트 돌려주는 ci site",
      "execution_count": null,
      "outputs": []
    }
  ],
  "metadata": {
    "kernelspec": {
      "name": "python36",
      "display_name": "Python 3.6",
      "language": "python"
    },
    "language_info": {
      "mimetype": "text/x-python",
      "nbconvert_exporter": "python",
      "name": "python",
      "pygments_lexer": "ipython3",
      "version": "3.6.6",
      "file_extension": ".py",
      "codemirror_mode": {
        "version": 3,
        "name": "ipython"
      }
    }
  },
  "nbformat": 4,
  "nbformat_minor": 2
}