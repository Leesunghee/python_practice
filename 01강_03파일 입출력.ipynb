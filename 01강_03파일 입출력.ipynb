{
  "cells": [
    {
      "metadata": {
        "trusted": false
      },
      "cell_type": "code",
      "source": "# ./ => 현재폴더\n# ../ => 상위폴더\n\n\nf = open(\"./animals.txt\", \"r\") #mode => \"w\", \"r\", \"a\"(append)\n",
      "execution_count": 26,
      "outputs": []
    },
    {
      "metadata": {
        "trusted": false
      },
      "cell_type": "code",
      "source": "# read, readline, readlines\n\n# f.read()\n# f.readline()\n# f.readlines()\n",
      "execution_count": 12,
      "outputs": []
    },
    {
      "metadata": {
        "trusted": false
      },
      "cell_type": "code",
      "source": "data = f.read()",
      "execution_count": 15,
      "outputs": []
    },
    {
      "metadata": {
        "trusted": false
      },
      "cell_type": "code",
      "source": "data",
      "execution_count": 16,
      "outputs": [
        {
          "data": {
            "text/plain": "'이구아나\\n참새\\n강아지\\n고양이\\n'"
          },
          "execution_count": 16,
          "metadata": {},
          "output_type": "execute_result"
        }
      ]
    },
    {
      "metadata": {
        "trusted": false
      },
      "cell_type": "code",
      "source": "data = f.readlines()",
      "execution_count": 27,
      "outputs": []
    },
    {
      "metadata": {
        "trusted": false
      },
      "cell_type": "code",
      "source": "data",
      "execution_count": 28,
      "outputs": [
        {
          "data": {
            "text/plain": "['이구아나\\n', '참새\\n', '강아지\\n', '고양이\\n']"
          },
          "execution_count": 28,
          "metadata": {},
          "output_type": "execute_result"
        }
      ]
    },
    {
      "metadata": {
        "trusted": false
      },
      "cell_type": "code",
      "source": "f = open(\"./animals2.txt\", \"w\")",
      "execution_count": 31,
      "outputs": []
    },
    {
      "metadata": {
        "trusted": false
      },
      "cell_type": "code",
      "source": "f.write(\"hello world\")",
      "execution_count": 32,
      "outputs": [
        {
          "data": {
            "text/plain": "11"
          },
          "execution_count": 32,
          "metadata": {},
          "output_type": "execute_result"
        }
      ]
    },
    {
      "metadata": {
        "trusted": false
      },
      "cell_type": "code",
      "source": "f.close()",
      "execution_count": 33,
      "outputs": []
    },
    {
      "metadata": {
        "trusted": false
      },
      "cell_type": "code",
      "source": "with open(\"./animals2.txt\", \"w\") as f:\n    f.write(\"hello world\")\n    \n# f.close()",
      "execution_count": 34,
      "outputs": []
    },
    {
      "metadata": {
        "trusted": false
      },
      "cell_type": "code",
      "source": "with open(\"./stars.txt\", \"w\") as f:\n    for i in range(5):\n        f.write(\"*\" * (i + 1))\n        f.write(\"\\n\")",
      "execution_count": 36,
      "outputs": []
    },
    {
      "metadata": {
        "trusted": false
      },
      "cell_type": "code",
      "source": "",
      "execution_count": null,
      "outputs": []
    }
  ],
  "metadata": {
    "kernelspec": {
      "name": "python3",
      "display_name": "Python 3",
      "language": "python"
    },
    "language_info": {
      "mimetype": "text/x-python",
      "nbconvert_exporter": "python",
      "name": "python",
      "file_extension": ".py",
      "version": "3.5.4",
      "pygments_lexer": "ipython3",
      "codemirror_mode": {
        "version": 3,
        "name": "ipython"
      }
    }
  },
  "nbformat": 4,
  "nbformat_minor": 2
}