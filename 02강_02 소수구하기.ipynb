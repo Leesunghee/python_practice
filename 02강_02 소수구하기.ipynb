{
 "cells": [
  {
   "cell_type": "code",
   "execution_count": 2,
   "metadata": {},
   "outputs": [
    {
     "ename": "SyntaxError",
     "evalue": "unexpected EOF while parsing (<ipython-input-2-827324d6da44>, line 14)",
     "output_type": "error",
     "traceback": [
      "\u001b[0;36m  File \u001b[0;32m\"<ipython-input-2-827324d6da44>\"\u001b[0;36m, line \u001b[0;32m14\u001b[0m\n\u001b[0;31m    \u001b[0m\n\u001b[0m    ^\u001b[0m\n\u001b[0;31mSyntaxError\u001b[0m\u001b[0;31m:\u001b[0m unexpected EOF while parsing\n"
     ]
    }
   ],
   "source": [
    "# 소수 구하기 (Prime number)\n",
    "\n",
    "def get_prime_numbers(number):\n",
    "    # number 만큼 for 문을 돌면서, \n",
    "    # 각각의 숫자가 소수인지/아닌지 체크를\n",
    "    # 빈 리스트 하나 만들어서, \n",
    "    # 소수면, => 빈 리스트에 추가하고\n",
    "    # for 끝나는 시점에 빈 리스트를 \n",
    "    \n",
    "    prime_numbers = []\n",
    "    for i in range(2, number):\n",
    "        # 소수인지 아닌지를 체크하는 함수\n",
    "        \n",
    "    \n"
   ]
  },
  {
   "cell_type": "code",
   "execution_count": 3,
   "metadata": {},
   "outputs": [],
   "source": [
    "get_prime_numbers(1000)\n",
    "# [2, 3, 5, 7, 11, 13, 17, ..., 997]"
   ]
  },
  {
   "cell_type": "code",
   "execution_count": 10,
   "metadata": {},
   "outputs": [
    {
     "data": {
      "text/plain": [
       "True"
      ]
     },
     "execution_count": 10,
     "metadata": {},
     "output_type": "execute_result"
    }
   ],
   "source": [
    "def is_prime(number):\n",
    "    # 2부터 number-1 까지의 숫자로 각각 나눠서 체크해본다\n",
    "\n",
    "    for i in range(2, number):\n",
    "        if (number % i == 0):\n",
    "            return False\n",
    "    return True\n",
    "\n",
    "is_prime(5)\n",
    "\n",
    "\n",
    "# 10 => 2, 3, 4, 5, 6, 7, 8, 9 (1번 돌기 때문에 꽤 빠르다)\n",
    "# 101 => 2, 3, 4, 5, 6, 7, 8, 9, ... 100, \n",
    "\n",
    "# 1번째, 2f로 나누어떨어지는 숫자낄 체크\n",
    "# 101 => 51, ... ( 51 * 2 = 102 > 101)\n",
    "\n",
    "# 2번째\n",
    "# 101의 루트2(제곱근) 까지만 체크를 \n",
    "# 100 => 10 \n",
    "# 101 => 101**0.5 => 10.X => 11"
   ]
  },
  {
   "cell_type": "code",
   "execution_count": 11,
   "metadata": {},
   "outputs": [
    {
     "data": {
      "text/plain": [
       "True"
      ]
     },
     "execution_count": 11,
     "metadata": {},
     "output_type": "execute_result"
    }
   ],
   "source": [
    "def is_prime_optimized(number):\n",
    "    # 2부터 number-1 까지의 숫자로 각각 나눠서 체크해본다\n",
    "\n",
    "    for i in range(2, int(number**0.5) + 1):\n",
    "        if (number % i == 0):\n",
    "            return False\n",
    "    return True\n",
    "\n",
    "is_prime(5)\n",
    "\n"
   ]
  },
  {
   "cell_type": "code",
   "execution_count": 12,
   "metadata": {},
   "outputs": [],
   "source": [
    "def get_prime_numbers(number):\n",
    "    # number 만큼 for 문을 돌면서, \n",
    "    # 각각의 숫자가 소수인지/아닌지 체크를\n",
    "    # 빈 리스트 하나 만들어서, \n",
    "    # 소수면, => 빈 리스트에 추가하고\n",
    "    # for 끝나는 시점에 빈 리스트를 \n",
    "    \n",
    "    prime_numbers = []\n",
    "    for i in range(2, number):\n",
    "        # 소수인지 아닌지를 체크하는 함수\n",
    "        if is_prime(i):\n",
    "            prime_numbers.append(i)\n",
    "    return prime_numbers"
   ]
  },
  {
   "cell_type": "code",
   "execution_count": 6,
   "metadata": {},
   "outputs": [
    {
     "data": {
      "text/plain": [
       "[2,\n",
       " 3,\n",
       " 5,\n",
       " 7,\n",
       " 11,\n",
       " 13,\n",
       " 17,\n",
       " 19,\n",
       " 23,\n",
       " 29,\n",
       " 31,\n",
       " 37,\n",
       " 41,\n",
       " 43,\n",
       " 47,\n",
       " 53,\n",
       " 59,\n",
       " 61,\n",
       " 67,\n",
       " 71,\n",
       " 73,\n",
       " 79,\n",
       " 83,\n",
       " 89,\n",
       " 97]"
      ]
     },
     "execution_count": 6,
     "metadata": {},
     "output_type": "execute_result"
    }
   ],
   "source": [
    "get_prime_numbers(100)"
   ]
  },
  {
   "cell_type": "code",
   "execution_count": 7,
   "metadata": {},
   "outputs": [
    {
     "name": "stdout",
     "output_type": "stream",
     "text": [
      "0\n",
      "2\n",
      "4\n",
      "6\n",
      "8\n"
     ]
    }
   ],
   "source": [
    "for i in range(0, 10, 2):\n",
    "    print(i)"
   ]
  },
  {
   "cell_type": "code",
   "execution_count": 8,
   "metadata": {},
   "outputs": [],
   "source": [
    "import time\n"
   ]
  },
  {
   "cell_type": "code",
   "execution_count": 9,
   "metadata": {},
   "outputs": [
    {
     "data": {
      "text/plain": [
       "1.6177911758422852"
      ]
     },
     "execution_count": 9,
     "metadata": {},
     "output_type": "execute_result"
    }
   ],
   "source": [
    "start_time = time.time()\n",
    "get_prime_numbers(10000)\n",
    "end_time = time.time()\n",
    "\n",
    "end_time - start_time"
   ]
  },
  {
   "cell_type": "code",
   "execution_count": 13,
   "metadata": {},
   "outputs": [],
   "source": [
    "def get_prime_numbers_optimized(number):\n",
    "    \n",
    "    prime_numbers = []\n",
    "    for i in range(2, number):\n",
    "        # 소수인지 아닌지를 체크하는 함수\n",
    "        if is_prime_optimized(i):\n",
    "            prime_numbers.append(i)\n",
    "    return prime_numbers"
   ]
  },
  {
   "cell_type": "code",
   "execution_count": 14,
   "metadata": {},
   "outputs": [
    {
     "data": {
      "text/plain": [
       "0.05371451377868652"
      ]
     },
     "execution_count": 14,
     "metadata": {},
     "output_type": "execute_result"
    }
   ],
   "source": [
    "start_time = time.time()\n",
    "get_prime_numbers_optimized(10000)\n",
    "end_time = time.time()\n",
    "\n",
    "end_time - start_time"
   ]
  },
  {
   "cell_type": "code",
   "execution_count": null,
   "metadata": {},
   "outputs": [],
   "source": []
  }
 ],
 "metadata": {
  "kernelspec": {
   "display_name": "Python 3.6",
   "language": "python",
   "name": "python36"
  },
  "language_info": {
   "codemirror_mode": {
    "name": "ipython",
    "version": 3
   },
   "file_extension": ".py",
   "mimetype": "text/x-python",
   "name": "python",
   "nbconvert_exporter": "python",
   "pygments_lexer": "ipython3",
   "version": "3.6.3"
  }
 },
 "nbformat": 4,
 "nbformat_minor": 2
}
