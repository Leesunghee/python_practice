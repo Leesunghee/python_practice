{
  "cells": [
    {
      "metadata": {
        "collapsed": true,
        "trusted": false
      },
      "cell_type": "code",
      "source": "* 버전바꾸기 -   $ pyenv shell 3.6.6 \n    * 버전 확인  - python —version \n\n* 가상환경 만들기 - $ pyenv virtualenv 3.6.6 “이름”  \n    * 만들어진 가상환경 보기 - $ pyenv versions\n* 가상환경 접속하기 - $ pyenv activate “이름”\n* 가상환경 접속해제하기 - $ pyenv deactivate\n\n* autoenv 설치 => 해당 폴더에 들어갈 때 자동으로 파이썬 버전을 변경할 수 있게 해 줌\n    * https://github.com/kennethreitz/autoenv 여기에 설치 방법이 있음 \n    * 설치 후 해당 폴더에 .env 파일을 만든 후 \n        * 내용에 pyenv activate “이름” 저장 \n        * 폴더 접속 시 파이썬 버전 및 만든 가상환경으로 접속\n    * 설치가 정상적으로 되었다면 ~/.autoenv 파일이 존재하게 된다\n    \n    * 긴명령어 별명으로 줄여서 쓰기 - $ alias p=“python” \n        * p app.py \n        * alias 해제 - $ unalias p",
      "execution_count": null,
      "outputs": []
    }
  ],
  "metadata": {
    "kernelspec": {
      "name": "python36",
      "display_name": "Python 3.6",
      "language": "python"
    },
    "language_info": {
      "mimetype": "text/x-python",
      "nbconvert_exporter": "python",
      "name": "python",
      "pygments_lexer": "ipython3",
      "version": "3.6.6",
      "file_extension": ".py",
      "codemirror_mode": {
        "version": 3,
        "name": "ipython"
      }
    }
  },
  "nbformat": 4,
  "nbformat_minor": 2
}