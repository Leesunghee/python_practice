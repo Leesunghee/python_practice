{
  "cells": [
    {
      "metadata": {
        "trusted": true
      },
      "cell_type": "code",
      "source": "{\n    \"name\": \"이반장\",\n    \"address\": \"...\"\n}",
      "execution_count": 1,
      "outputs": [
        {
          "output_type": "execute_result",
          "execution_count": 1,
          "data": {
            "text/plain": "{'address': '...', 'name': '이반장'}"
          },
          "metadata": {}
        }
      ]
    },
    {
      "metadata": {
        "trusted": true
      },
      "cell_type": "code",
      "source": "[\n    {\n        \"name\": \"이반장\",\n        \"address\": \"...\"\n    },\n    {\n        \"name\": \"김반장\",\n        \n    }\n]",
      "execution_count": 8,
      "outputs": []
    },
    {
      "metadata": {
        "trusted": true
      },
      "cell_type": "code",
      "source": "user_list = [\n    [\"이반장\", \"주소1\"],\n    [\"김반장\", \"주소2\"],\n    \n]\n\n# List 의 List => Dict 의 List 로 변경하기\n# [{...}, {...}, {...}]",
      "execution_count": 10,
      "outputs": []
    },
    {
      "metadata": {
        "trusted": true
      },
      "cell_type": "code",
      "source": "# 1. for 문을 돌리는 방법\n\nuser_dict_list = []\n\nfor user in user_list:\n    name = user[0]\n    address = user[1]\n    user_dict = {\n        \"name\": name,\n        \"address\": address,\n    }\n    user_dict_list.append(user_dict)\n    \nuser_dict_list",
      "execution_count": 12,
      "outputs": [
        {
          "output_type": "execute_result",
          "execution_count": 12,
          "data": {
            "text/plain": "[{'address': '주소1', 'name': '이반장'}, {'address': '주소2', 'name': '김반장'}]"
          },
          "metadata": {}
        }
      ]
    },
    {
      "metadata": {
        "trusted": true
      },
      "cell_type": "code",
      "source": "[\n    {\n        \"name\": user[0],\n        \"address\": user[1]\n    }\n    for user in user_list\n]",
      "execution_count": 13,
      "outputs": [
        {
          "output_type": "execute_result",
          "execution_count": 13,
          "data": {
            "text/plain": "[{'address': '주소1', 'name': '이반장'}, {'address': '주소2', 'name': '김반장'}]"
          },
          "metadata": {}
        }
      ]
    },
    {
      "metadata": {
        "trusted": true
      },
      "cell_type": "code",
      "source": "# 또 다른 방법\ndef get_user_dict(user):\n    return {\n        \"name\": user[0],\n        \"address\": user[1]\n    }\n\n[\n    get_user_dict(user)\n    for user in user_list\n]",
      "execution_count": 15,
      "outputs": [
        {
          "output_type": "execute_result",
          "execution_count": 15,
          "data": {
            "text/plain": "[{'address': '주소1', 'name': '이반장'}, {'address': '주소2', 'name': '김반장'}]"
          },
          "metadata": {}
        }
      ]
    },
    {
      "metadata": {
        "trusted": true
      },
      "cell_type": "code",
      "source": "with open(\"dss.csv\", \"r\") as f:\n#     print(f.readlines())\n#     for line in f.readlines():\n#         user_list.append({\n#             \"name\": line.split(\",\")[0],\n#             \"address\": line.split(\",\")[1].replace(\"\\n\", \"\")\n#         })\n\n    user_list = [\n        {\n            \"name\": line.split(\",\")[0],\n            \"address\": line.split(\",\")[1].replace(\"\\n\", \"\")\n        }\n        for line in f.readlines()\n    ]\n        \nuser_list",
      "execution_count": 23,
      "outputs": [
        {
          "output_type": "execute_result",
          "execution_count": 23,
          "data": {
            "text/plain": "[{'address': 'terrya@contoso.edu', 'name': '\\ufeffadamsta0109'},\n {'address': 'annb@contoso.edu', 'name': 'beebeab0211'},\n {'address': 'chrisc@contoso.edu', 'name': 'cannocc0328'},\n {'address': 'prashanthd@contoso.edu', 'name': 'desaipd0430'},\n {'address': 'ebrue@contoso.edu', 'name': 'ersanee0529'},\n {'address': 'florencef@contoso.edu', 'name': 'flipffo0628'},\n {'address': 'debrag@contoso.edu', 'name': 'garciadg0726'},\n {'address': 'pernilleh@contoso.edu', 'name': 'halbeph0826'},\n {'address': 'julial@contoso.edu', 'name': 'ilyinji0925'},\n {'address': 'tamaraj@contoso.edu', 'name': 'johnstj1024'}]"
          },
          "metadata": {}
        }
      ]
    },
    {
      "metadata": {
        "trusted": true
      },
      "cell_type": "code",
      "source": "",
      "execution_count": null,
      "outputs": []
    }
  ],
  "metadata": {
    "kernelspec": {
      "name": "python36",
      "display_name": "Python 3.6",
      "language": "python"
    },
    "language_info": {
      "mimetype": "text/x-python",
      "nbconvert_exporter": "python",
      "name": "python",
      "pygments_lexer": "ipython3",
      "version": "3.6.3",
      "file_extension": ".py",
      "codemirror_mode": {
        "version": 3,
        "name": "ipython"
      }
    }
  },
  "nbformat": 4,
  "nbformat_minor": 2
}