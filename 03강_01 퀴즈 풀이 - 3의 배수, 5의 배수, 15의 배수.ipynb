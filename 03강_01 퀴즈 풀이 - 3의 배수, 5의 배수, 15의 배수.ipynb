{
  "cells": [
    {
      "metadata": {
        "trusted": true
      },
      "cell_type": "code",
      "source": "#3의 배수 'fast' #5의 배수 'campus' #15의 배수 'fastcampus' 만들기\n\nresult = []\n\nfor i in range(1, 100 + 1):  #1 <= i < 101\n    word = \"\"\n    if i % 3 == 0:\n        word += \"fast\"\n    if i % 5 == 0:\n        word += \"campus\"\n    result.append(word)\n\nprint(result)",
      "execution_count": 9,
      "outputs": [
        {
          "output_type": "stream",
          "text": "['', '', 'fast', '', 'campus', 'fast', '', '', 'fast', 'campus', '', 'fast', '', '', 'fastcampus', '', '', 'fast', '', 'campus', 'fast', '', '', 'fast', 'campus', '', 'fast', '', '', 'fastcampus', '', '', 'fast', '', 'campus', 'fast', '', '', 'fast', 'campus', '', 'fast', '', '', 'fastcampus', '', '', 'fast', '', 'campus', 'fast', '', '', 'fast', 'campus', '', 'fast', '', '', 'fastcampus', '', '', 'fast', '', 'campus', 'fast', '', '', 'fast', 'campus', '', 'fast', '', '', 'fastcampus', '', '', 'fast', '', 'campus', 'fast', '', '', 'fast', 'campus', '', 'fast', '', '', 'fastcampus', '', '', 'fast', '', 'campus', 'fast', '', '', 'fast', 'campus']\n",
          "name": "stdout"
        }
      ]
    },
    {
      "metadata": {
        "trusted": true
      },
      "cell_type": "code",
      "source": "# List Comprehension\n[\"\", \"\", \"fast\", ...]\n[\"\", \"\", \"\", \"\", \"campus\", ...]",
      "execution_count": 2,
      "outputs": [
        {
          "output_type": "execute_result",
          "execution_count": 2,
          "data": {
            "text/plain": "['', '', '', '', 'campus', Ellipsis]"
          },
          "metadata": {}
        }
      ]
    },
    {
      "metadata": {
        "trusted": true
      },
      "cell_type": "code",
      "source": "fast_list = [\"fast\" if x % 3 == 0 else \"\" for x in range(1, 100 + 1)]\n# print(fast_list)\n\n# 참값 if 조건 else 거짓값\n\n# map, filter, reduce => map(람다표현식(메소드), 범위(리스트))\n# list comprehension [람다의 축약 범위]\n\n# lambda x: \"campus\"\n\n# def str(x):\n#    if x % 5 == 0:\n#        return \"campus\"\n#    else:\n#        return \"\"\n\n\ncampus_list = [\"campus\" if x % 5 ==0 else \"\" for x in range(1, 100 + 1)]\n#print(campus_list)\na = [\n    fast + campus\n    for fast in fast_list\n    for campus in campus_list\n]\n\nlen(a)\n\na = [\n    fast_list[i] + campus_list[i]\n    for i in range(100)\n]\n\n#print(a)\n\nfor i in range(10):\n    print(\"study\", end = \" \")",
      "execution_count": 4,
      "outputs": [
        {
          "output_type": "stream",
          "text": "study study study study study study study study study study ",
          "name": "stdout"
        }
      ]
    },
    {
      "metadata": {
        "trusted": true
      },
      "cell_type": "code",
      "source": "def something(x):\n    if ...\n    elif ...\n    else ...\n    \nfast_list = [\n    something(x)\n    for x in range(1, 100 + 1)\n]\n",
      "execution_count": 4,
      "outputs": [
        {
          "output_type": "error",
          "ename": "SyntaxError",
          "evalue": "invalid syntax (<ipython-input-4-a7d4c1b4fee3>, line 2)",
          "traceback": [
            "\u001b[0;36m  File \u001b[0;32m\"<ipython-input-4-a7d4c1b4fee3>\"\u001b[0;36m, line \u001b[0;32m2\u001b[0m\n\u001b[0;31m    if ...\u001b[0m\n\u001b[0m          ^\u001b[0m\n\u001b[0;31mSyntaxError\u001b[0m\u001b[0;31m:\u001b[0m invalid syntax\n"
          ]
        }
      ]
    },
    {
      "metadata": {
        "trusted": true
      },
      "cell_type": "code",
      "source": "def something(count, first_number, first_word, second_number, second_word):\n    first_list = [\n        first_word if i % first_number == 0 else \"\"\n        for i in range(1, count + 1)\n    ]\n    \n    second_list = [\n        second_word if i % second_number == 0 else \"\"\n        for i in range(1, count + 1)\n    ]\n    \n    return [\n        first_list[i] + second_list[i]\n        for i in range(count)\n    ]",
      "execution_count": 10,
      "outputs": []
    },
    {
      "metadata": {
        "trusted": true
      },
      "cell_type": "code",
      "source": "something(100, 3, 'fast', 5, 'campus')",
      "execution_count": 11,
      "outputs": [
        {
          "output_type": "execute_result",
          "execution_count": 11,
          "data": {
            "text/plain": "['',\n '',\n 'fast',\n '',\n 'campus',\n 'fast',\n '',\n '',\n 'fast',\n 'campus',\n '',\n 'fast',\n '',\n '',\n 'fastcampus',\n '',\n '',\n 'fast',\n '',\n 'campus',\n 'fast',\n '',\n '',\n 'fast',\n 'campus',\n '',\n 'fast',\n '',\n '',\n 'fastcampus',\n '',\n '',\n 'fast',\n '',\n 'campus',\n 'fast',\n '',\n '',\n 'fast',\n 'campus',\n '',\n 'fast',\n '',\n '',\n 'fastcampus',\n '',\n '',\n 'fast',\n '',\n 'campus',\n 'fast',\n '',\n '',\n 'fast',\n 'campus',\n '',\n 'fast',\n '',\n '',\n 'fastcampus',\n '',\n '',\n 'fast',\n '',\n 'campus',\n 'fast',\n '',\n '',\n 'fast',\n 'campus',\n '',\n 'fast',\n '',\n '',\n 'fastcampus',\n '',\n '',\n 'fast',\n '',\n 'campus',\n 'fast',\n '',\n '',\n 'fast',\n 'campus',\n '',\n 'fast',\n '',\n '',\n 'fastcampus',\n '',\n '',\n 'fast',\n '',\n 'campus',\n 'fast',\n '',\n '',\n 'fast',\n 'campus']"
          },
          "metadata": {}
        }
      ]
    },
    {
      "metadata": {
        "trusted": true
      },
      "cell_type": "code",
      "source": "",
      "execution_count": null,
      "outputs": []
    }
  ],
  "metadata": {
    "kernelspec": {
      "name": "python36",
      "display_name": "Python 3.6",
      "language": "python"
    },
    "language_info": {
      "mimetype": "text/x-python",
      "nbconvert_exporter": "python",
      "name": "python",
      "pygments_lexer": "ipython3",
      "version": "3.6.3",
      "file_extension": ".py",
      "codemirror_mode": {
        "version": 3,
        "name": "ipython"
      }
    }
  },
  "nbformat": 4,
  "nbformat_minor": 2
}