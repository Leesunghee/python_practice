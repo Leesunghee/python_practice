{
  "cells": [
    {
      "metadata": {
        "trusted": false
      },
      "cell_type": "code",
      "source": "# 작업 자동화\n# 우리가 반복적으로 사용할 어떤 특정 기능들에 대해서 => \"재사용 가능한 코드 덩어리\"",
      "execution_count": 1,
      "outputs": []
    },
    {
      "metadata": {
        "trusted": false
      },
      "cell_type": "code",
      "source": "# 1. 함수를 정의하자.\ndef greeting():\n    username = input()\n    print(\"{username}님, 가입을 축하드립니다.\".format(username = username))",
      "execution_count": 5,
      "outputs": []
    },
    {
      "metadata": {
        "trusted": false
      },
      "cell_type": "code",
      "source": "# 2. 함수를 실행하자.\ngreeting()",
      "execution_count": 6,
      "outputs": [
        {
          "name": "stdout",
          "output_type": "stream",
          "text": "이성희\n이성희님, 가입을 축하드립니다.\n"
        }
      ]
    },
    {
      "metadata": {
        "trusted": false
      },
      "cell_type": "code",
      "source": "def print_pretty_star(count):\n    \"\"\"\n    이 함수는 별찍기 함수입니다.\n    \"\"\"\n    for i in range(count):\n        print(\"*\" * (i + 1))",
      "execution_count": 11,
      "outputs": []
    },
    {
      "metadata": {
        "trusted": false
      },
      "cell_type": "code",
      "source": "print_pretty_star(5)",
      "execution_count": 8,
      "outputs": [
        {
          "name": "stdout",
          "output_type": "stream",
          "text": "*\n**\n***\n****\n*****\n"
        }
      ]
    },
    {
      "metadata": {
        "trusted": false
      },
      "cell_type": "code",
      "source": "print_pretty_star(int(input(\"Count?\")))",
      "execution_count": 9,
      "outputs": [
        {
          "name": "stdout",
          "output_type": "stream",
          "text": "Count?10\n*\n**\n***\n****\n*****\n******\n*******\n********\n*********\n**********\n"
        }
      ]
    },
    {
      "metadata": {
        "trusted": false
      },
      "cell_type": "code",
      "source": "print_pretty_star?",
      "execution_count": 12,
      "outputs": []
    },
    {
      "metadata": {
        "trusted": false
      },
      "cell_type": "code",
      "source": "def print_pretty_re_star(count):\n    \"\"\"\n    이 함수는 별찍기 함수입니다.\n    \"\"\"\n    for i in range(count):\n        print(\"*\" * (count - i))\n        ",
      "execution_count": 19,
      "outputs": []
    },
    {
      "metadata": {
        "trusted": false
      },
      "cell_type": "code",
      "source": "print_pretty_re_star(5)",
      "execution_count": 20,
      "outputs": [
        {
          "name": "stdout",
          "output_type": "stream",
          "text": "*****\n****\n***\n**\n*\n"
        }
      ]
    },
    {
      "metadata": {
        "trusted": false
      },
      "cell_type": "code",
      "source": "def print_pretty_star2(count):\n    \"\"\"\n    이 함수는 별찍기 함수입니다.\n    \"\"\"\n    for i in range(count):\n        print(\" \" * (count - i - 1), \"*\" * (i + 1))",
      "execution_count": 24,
      "outputs": []
    },
    {
      "metadata": {
        "trusted": false
      },
      "cell_type": "code",
      "source": "print_pretty_star2(5)",
      "execution_count": 25,
      "outputs": [
        {
          "name": "stdout",
          "output_type": "stream",
          "text": "     *\n    **\n   ***\n  ****\n *****\n"
        }
      ]
    },
    {
      "metadata": {
        "trusted": false
      },
      "cell_type": "code",
      "source": "def print_pretty_re_star2(count):\n    \"\"\"\n    이 함수는 별찍기 함수입니다.\n    \"\"\"\n    for i in range(count):\n        print(\" \" * i, \"*\" * (count - i))",
      "execution_count": 28,
      "outputs": []
    },
    {
      "metadata": {
        "trusted": false
      },
      "cell_type": "code",
      "source": "print_pretty_re_star2(5)",
      "execution_count": 29,
      "outputs": [
        {
          "name": "stdout",
          "output_type": "stream",
          "text": " *****\n  ****\n   ***\n    **\n     *\n"
        }
      ]
    },
    {
      "metadata": {
        "trusted": false
      },
      "cell_type": "code",
      "source": "",
      "execution_count": null,
      "outputs": []
    }
  ],
  "metadata": {
    "kernelspec": {
      "name": "python3",
      "display_name": "Python 3",
      "language": "python"
    },
    "language_info": {
      "mimetype": "text/x-python",
      "nbconvert_exporter": "python",
      "name": "python",
      "file_extension": ".py",
      "version": "3.5.4",
      "pygments_lexer": "ipython3",
      "codemirror_mode": {
        "version": 3,
        "name": "ipython"
      }
    }
  },
  "nbformat": 4,
  "nbformat_minor": 2
}