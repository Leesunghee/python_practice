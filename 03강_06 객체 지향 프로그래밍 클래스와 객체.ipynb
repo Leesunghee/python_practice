{
  "cells": [
    {
      "metadata": {
        "trusted": true
      },
      "cell_type": "code",
      "source": "# 절차 지향 프로그래밍\n# 데이터, 데이터 처리하는 함수\n\n# 객체 지향 프로그래밍 (Object Oriented programming)\n# 절차 <<<< 객체\n# 둥둥 떠다니는 객체\n# 객체(데이터, 각각의 데이터를 처리하는 방법) <=> 객체 : 메시지를 전달\n\n# 실험 => 완벽하게 적합한 알고리즘\n\n# 함수형 프로그래밍 => Lambda, Lambda Operator, List Comprehension",
      "execution_count": 2,
      "outputs": []
    },
    {
      "metadata": {
        "trusted": true
      },
      "cell_type": "code",
      "source": "# 생활 \n# 이반장 학생\n# 학생이 무엇인가?\n\nclass Student():\n#     name = \"\"\n#     age = \"\"\n\n    __campus = \"패스트캠퍼스\"\n\n    # init => 초기화 (생성자) \n    def __init__(self, name, age):\n        self.name = name\n        self.age = age\n        print(\"학생{name}({age}) 가 태어났습니다.\".format(name = self.name, age = self.age))\n    \n    # 자기소개를 할 수 있다.\n    def introduce(self):\n        print(\"안녕하세요, 저는 {campus}에 다니는 {age}살 {name} 입니다.\".format(\n            campus = self.__campus,\n            age = self.age, \n            name = self.name))\n    ",
      "execution_count": 72,
      "outputs": []
    },
    {
      "metadata": {
        "trusted": true
      },
      "cell_type": "code",
      "source": "# 이름을 입력을 안했을 때, => 객체가 만들어지지 않도록 해야합니다.\nleesunghee = Student(\"이반장\", 24)\n# leesunghee = Student()",
      "execution_count": 46,
      "outputs": [
        {
          "output_type": "stream",
          "text": "학생이반장(24) 가 태어났습니다.\n",
          "name": "stdout"
        }
      ]
    },
    {
      "metadata": {
        "trusted": true
      },
      "cell_type": "code",
      "source": "leesunghee.name = \"이반장\"\nleesunghee.age = 24",
      "execution_count": 47,
      "outputs": []
    },
    {
      "metadata": {
        "trusted": true
      },
      "cell_type": "code",
      "source": "print(leesunghee.name)",
      "execution_count": 48,
      "outputs": [
        {
          "output_type": "stream",
          "text": "이반장\n",
          "name": "stdout"
        }
      ]
    },
    {
      "metadata": {
        "trusted": true
      },
      "cell_type": "code",
      "source": "leesunghee.campus = \"경쟁사\" # private => 객체 내부에서만 호출 할 수 있는 변수\nleesunghee.introduce()",
      "execution_count": 49,
      "outputs": [
        {
          "output_type": "stream",
          "text": "안녕하세요, 저는 패스트캠퍼스에 다니는 24살 이반장 입니다.\n",
          "name": "stdout"
        }
      ]
    },
    {
      "metadata": {
        "trusted": true
      },
      "cell_type": "code",
      "source": "leesunghee # Student Class => 학생 객체\n# leesunghee._Student__campus = \"경쟁사\"\ndir(leesunghee)\n",
      "execution_count": 51,
      "outputs": [
        {
          "output_type": "execute_result",
          "execution_count": 51,
          "data": {
            "text/plain": "['_Student__campus',\n '__class__',\n '__delattr__',\n '__dict__',\n '__dir__',\n '__doc__',\n '__eq__',\n '__format__',\n '__ge__',\n '__getattribute__',\n '__gt__',\n '__hash__',\n '__init__',\n '__init_subclass__',\n '__le__',\n '__lt__',\n '__module__',\n '__ne__',\n '__new__',\n '__reduce__',\n '__reduce_ex__',\n '__repr__',\n '__setattr__',\n '__sizeof__',\n '__str__',\n '__subclasshook__',\n '__weakref__',\n 'age',\n 'campus',\n 'introduce',\n 'name']"
          },
          "metadata": {}
        }
      ]
    },
    {
      "metadata": {
        "trusted": true
      },
      "cell_type": "code",
      "source": "class Rectangle():\n#     width = \"\"\n#     height = \"\"\n    \n    def __init__(self, width, height):\n        self.width = width\n        self.height = height\n        \n    def area(self): # 면적\n        return self.width * self.height\n    \n    def girth(self): # 둘레\n        return 2 * (self.width + self.height)\n    \n    def is_bigger(self, another):\n        if self.area() - another.area() >= 0:\n            print(\"내가 더 큼\")\n        else:\n            print(\"내가 더 작음\")",
      "execution_count": 61,
      "outputs": []
    },
    {
      "metadata": {
        "trusted": true
      },
      "cell_type": "code",
      "source": "rec = Rectangle(10, 20)\nprint(rec.girth())\n\nrec.area()",
      "execution_count": 62,
      "outputs": [
        {
          "output_type": "stream",
          "text": "60\n",
          "name": "stdout"
        },
        {
          "output_type": "execute_result",
          "execution_count": 62,
          "data": {
            "text/plain": "200"
          },
          "metadata": {}
        }
      ]
    },
    {
      "metadata": {
        "trusted": true
      },
      "cell_type": "code",
      "source": "",
      "execution_count": null,
      "outputs": []
    },
    {
      "metadata": {
        "trusted": true
      },
      "cell_type": "code",
      "source": "rec1 = Rectangle(10, 20)\nrec2 = Rectangle(20, 30)\n\nrec1.is_bigger(rec2)",
      "execution_count": 63,
      "outputs": [
        {
          "output_type": "stream",
          "text": "내가 더 작음\n",
          "name": "stdout"
        }
      ]
    },
    {
      "metadata": {
        "trusted": true
      },
      "cell_type": "code",
      "source": "# Class => 명세: 붕어빵들, 이데아\n# 객체 (rec1, rec2) => 실제 있는 애, 붕어빵, ..?????",
      "execution_count": 64,
      "outputs": []
    },
    {
      "metadata": {
        "trusted": true
      },
      "cell_type": "code",
      "source": "class Person():\n    \n    def __init__(self, name, money):\n        self.name = name\n        self.money = money\n    \n    def send_money(self, to, amount):\n        print(\"{to_name} 한테 {amount}원 만큼 돈을 보냅니다.\".format(\n            to_name = to.name,\n            amount = amount,\n        ))\n        self.money -= amount\n        to.money += amount",
      "execution_count": 67,
      "outputs": []
    },
    {
      "metadata": {
        "trusted": true
      },
      "cell_type": "code",
      "source": "person1 = Person(\"돈 빌려준 사람\", 1000)\nperson2 = Person('돈 빌린 사람', 500)",
      "execution_count": 68,
      "outputs": []
    },
    {
      "metadata": {
        "trusted": true
      },
      "cell_type": "code",
      "source": "person2.send_money(person1, 500)",
      "execution_count": 69,
      "outputs": [
        {
          "output_type": "stream",
          "text": "돈 빌려준 사람 한테 500원 만큼 돈을 보냅니다.\n",
          "name": "stdout"
        }
      ]
    },
    {
      "metadata": {
        "trusted": true
      },
      "cell_type": "code",
      "source": "person1.money",
      "execution_count": 70,
      "outputs": [
        {
          "output_type": "execute_result",
          "execution_count": 70,
          "data": {
            "text/plain": "1500"
          },
          "metadata": {}
        }
      ]
    },
    {
      "metadata": {
        "trusted": true
      },
      "cell_type": "code",
      "source": "person2.money",
      "execution_count": 71,
      "outputs": [
        {
          "output_type": "execute_result",
          "execution_count": 71,
          "data": {
            "text/plain": "0"
          },
          "metadata": {}
        }
      ]
    },
    {
      "metadata": {
        "trusted": true
      },
      "cell_type": "code",
      "source": "class Student():\n\n    # init => 초기화 (생성자) \n    def __init__(self, name, address):\n        self.name = name\n        self.address = address\n    \n    # 자기소개를 할 수 있다.\n    def introduce(self):\n        print(\"안녕하세요, 저는 {address}에 살고있는 {name} 입니다.\".format(\n            address = self.address, \n            name = self.name))",
      "execution_count": 75,
      "outputs": []
    },
    {
      "metadata": {
        "trusted": true
      },
      "cell_type": "code",
      "source": "with open(\"dss.csv\", \"r\") as f:\n    student_list = [\n        Student(\n            line.split(\",\")[0],\n            line.split(\",\")[1].replace(\"\\n\", \"\")\n        )\n        for line in f.readlines()\n    ]\n    \nfor student in student_list:\n    Student.introduce()",
      "execution_count": 77,
      "outputs": [
        {
          "output_type": "error",
          "ename": "TypeError",
          "evalue": "introduce() missing 1 required positional argument: 'self'",
          "traceback": [
            "\u001b[0;31m---------------------------------------------------------------------------\u001b[0m",
            "\u001b[0;31mTypeError\u001b[0m                                 Traceback (most recent call last)",
            "\u001b[0;32m<ipython-input-77-ac96d63ea871>\u001b[0m in \u001b[0;36m<module>\u001b[0;34m()\u001b[0m\n\u001b[1;32m      9\u001b[0m \u001b[0;34m\u001b[0m\u001b[0m\n\u001b[1;32m     10\u001b[0m \u001b[0;32mfor\u001b[0m \u001b[0mstudent\u001b[0m \u001b[0;32min\u001b[0m \u001b[0mstudent_list\u001b[0m\u001b[0;34m:\u001b[0m\u001b[0;34m\u001b[0m\u001b[0m\n\u001b[0;32m---> 11\u001b[0;31m     \u001b[0mStudent\u001b[0m\u001b[0;34m.\u001b[0m\u001b[0mintroduce\u001b[0m\u001b[0;34m(\u001b[0m\u001b[0;34m)\u001b[0m\u001b[0;34m\u001b[0m\u001b[0m\n\u001b[0m",
            "\u001b[0;31mTypeError\u001b[0m: introduce() missing 1 required positional argument: 'self'"
          ]
        }
      ]
    },
    {
      "metadata": {
        "trusted": true
      },
      "cell_type": "code",
      "source": "",
      "execution_count": null,
      "outputs": []
    }
  ],
  "metadata": {
    "kernelspec": {
      "name": "python36",
      "display_name": "Python 3.6",
      "language": "python"
    },
    "language_info": {
      "mimetype": "text/x-python",
      "nbconvert_exporter": "python",
      "name": "python",
      "pygments_lexer": "ipython3",
      "version": "3.6.3",
      "file_extension": ".py",
      "codemirror_mode": {
        "version": 3,
        "name": "ipython"
      }
    }
  },
  "nbformat": 4,
  "nbformat_minor": 2
}