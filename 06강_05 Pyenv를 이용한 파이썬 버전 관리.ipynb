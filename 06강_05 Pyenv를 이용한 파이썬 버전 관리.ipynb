{
  "cells": [
    {
      "metadata": {
        "collapsed": true,
        "trusted": false
      },
      "cell_type": "code",
      "source": "# 리눅스 \n# apt-get update => 새로운 패키지 뭐 있는지, 리스트를 업데이트'\n# sudo apt_get upgrade\n# sudo apt-get install ____ 설치 ex) # sudo apt-get install git\n\n# pyenv => pytion version management\n# ( https://github.com/yyuu/pyenv ) -> wiki -> 오른쪽 화면에  Common build problems 들어가서 pydenv 설치에 필요한(의존성) 파일을 os 별로 설치한다.\n# mac 사용자들은 터미널에서 => xcode-select --install 입력  (mac os => brew install readline xz <== 이건 모르겠다 )\n\n# pyenv 를 설치하려면 위의 Github 사이트의 메인페이지 중간에\n# The automatic installer 을 찾아내어 아래 url로 이동한다.\n# Visit my other project: https://github.com/pyenv/pyenv-installer\n\n# 이동후 아래 명령어를 터미널에서 실행하자\n# curl -L https://github.com/pyenv/pyenv-installer/raw/master/bin/pyenv-installer | bash\n\n# ~/.bash_profile 에 설치 후 출력 된 아래 문장을 추가해준다 (zsh인 경우 ~/.zshrc or ~/.zsh_profile 에 등록)\nexport PATH=\"/Users/sunghee/.pyenv/bin:$PATH\"\neval \"$(pyenv init -)\"\neval \"$(pyenv virtualenv-init -)\"\n\n# 그리고 나서 pyenv 실행이 정상적으로 되면 성공!\n\n# pyenv install 3.5.1 버전별로 설치 \n\n* 설치가능 리스트 확인\n    * $ pyenv install --list \n\n* 설치 에러시 아래 사이트 확인 하고  \n    * brew install readline xz\n    * brew install zlib\n    * xcode-select —install 확인 \n\nxcode-select --install  => doesn't solve this on Mojave for some reason.\nSince this is the only lib blocking me, I just go to https://www.zlib.net and download source code.\nthen do:\n            * tar xvf\n            * ./configure\n            * make\n            * make install\n\n\n설치된 pyenv 확인\n$ pyenv versions\n* system (set by /root/.pyenv/version)\n  2.7.11\n  3.6.0\n\n\n",
      "execution_count": null,
      "outputs": []
    }
  ],
  "metadata": {
    "kernelspec": {
      "name": "python36",
      "display_name": "Python 3.6",
      "language": "python"
    },
    "language_info": {
      "mimetype": "text/x-python",
      "nbconvert_exporter": "python",
      "name": "python",
      "pygments_lexer": "ipython3",
      "version": "3.6.6",
      "file_extension": ".py",
      "codemirror_mode": {
        "version": 3,
        "name": "ipython"
      }
    }
  },
  "nbformat": 4,
  "nbformat_minor": 2
}