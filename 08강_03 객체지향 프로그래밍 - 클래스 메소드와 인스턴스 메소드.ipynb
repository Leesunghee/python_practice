{
  "cells": [
    {
      "metadata": {
        "trusted": true
      },
      "cell_type": "code",
      "source": "# Class - 클래스는 매우 중요합니다.\n# Class => object ( 객체가 생성되는 클래스 )",
      "execution_count": 1,
      "outputs": []
    },
    {
      "metadata": {
        "trusted": true
      },
      "cell_type": "code",
      "source": "class Fibonacci():\n    \n#     cache = {}\n    cache = {1: 0, 2: 1}\n#     def __init__(self):\n#         self.cache = {}\n\n    # 클래스 => 클래스메소드\n    # 객체 ( 인스턴스 ) => 인스턴스 메소드\n\n    @staticmethod # 클래스 메소드\n    def calc(n): # self 가 없습니다.\n        \n        if n in Fibonacci.cache:\n            return Fibonacci.cache[n]\n        \n        if n < 0:\n            return 0\n        \n#         if n == 1:\n#             Fibonacci.cache[n] = 0\n#             return Fibonacci.cache[n]\n        \n#         if n == 2:\n#             Fibonacci.cache[n] = 1\n#             return Fibonacci.cache[n]\n        \n        Fibonacci.cache[n] = Fibonacci.calc(n-1) + Fibonacci.calc(n-2)\n        return Fibonacci.cache[n]",
      "execution_count": 26,
      "outputs": []
    },
    {
      "metadata": {
        "trusted": true
      },
      "cell_type": "code",
      "source": "Fibonacci.calc(10)",
      "execution_count": 27,
      "outputs": [
        {
          "output_type": "execute_result",
          "execution_count": 27,
          "data": {
            "text/plain": "34"
          },
          "metadata": {}
        }
      ]
    },
    {
      "metadata": {
        "trusted": true
      },
      "cell_type": "code",
      "source": "Fibonacci.cache",
      "execution_count": 19,
      "outputs": [
        {
          "output_type": "execute_result",
          "execution_count": 19,
          "data": {
            "text/plain": "{}"
          },
          "metadata": {}
        }
      ]
    },
    {
      "metadata": {
        "trusted": true
      },
      "cell_type": "code",
      "source": "Fibonacci.cache[1] = 0\nFibonacci.cache[2] = 1\n",
      "execution_count": 20,
      "outputs": []
    },
    {
      "metadata": {
        "trusted": true
      },
      "cell_type": "code",
      "source": "Fibonacci.cache",
      "execution_count": 21,
      "outputs": [
        {
          "output_type": "execute_result",
          "execution_count": 21,
          "data": {
            "text/plain": "{1: 0, 2: 1}"
          },
          "metadata": {}
        }
      ]
    },
    {
      "metadata": {
        "trusted": true
      },
      "cell_type": "code",
      "source": "# fibo(n)=> fibo object self.__call__",
      "execution_count": 22,
      "outputs": []
    },
    {
      "metadata": {
        "trusted": true
      },
      "cell_type": "code",
      "source": "class Factorial():\n    \n    cache = {\n        1: 1, \n    }\n    \n    @staticmethod\n    def run(n):\n        if n in Factorial.cache:\n            return Factorial.cache[n]\n        \n        Factorial.cache[n] = n * Factorial.run(n - 1)\n        return Factorial.cache[n]\n    \n    @staticmethod\n    def prettify():\n        print(\"\\n\".join([\n            \"{n}! == {result}\".format(n=key, result=value)\n            for key, value\n            in Factorial.cache.items()\n        ]))\n     \n    \n# 클래스 메소드를 구현해도 좋고, 인스턴스 메소드로 구현해도 좋습니다.\n# class FastCampus():\n    \n#     school_list = []\n#     manager_list = []\n    \n#     @staticmethod\n#     def get_revenue():\n#         pass",
      "execution_count": 31,
      "outputs": []
    },
    {
      "metadata": {
        "trusted": true
      },
      "cell_type": "code",
      "source": "Factorial.run(4)",
      "execution_count": 32,
      "outputs": [
        {
          "output_type": "execute_result",
          "execution_count": 32,
          "data": {
            "text/plain": "24"
          },
          "metadata": {}
        }
      ]
    },
    {
      "metadata": {
        "trusted": true
      },
      "cell_type": "code",
      "source": "Factorial.cache",
      "execution_count": 33,
      "outputs": [
        {
          "output_type": "execute_result",
          "execution_count": 33,
          "data": {
            "text/plain": "{1: 1, 2: 2, 3: 6, 4: 24}"
          },
          "metadata": {}
        }
      ]
    },
    {
      "metadata": {
        "trusted": true
      },
      "cell_type": "code",
      "source": "Factorial.prettify()",
      "execution_count": 34,
      "outputs": [
        {
          "output_type": "stream",
          "text": "1! == 1\n2! == 2\n3! == 6\n4! == 24\n",
          "name": "stdout"
        }
      ]
    },
    {
      "metadata": {
        "trusted": true
      },
      "cell_type": "code",
      "source": "import copy\nimport functools\n\nclass Calendar():\n    __days = {\n        1: 31,\n        2: 28,\n        3: 31,\n        4: 30, \n        5: 31,\n        6: 30,\n        7: 31,\n        8: 31, \n        9: 30,\n        10: 31,\n        11: 30,\n        12: 31,\n    }\n    \n    @staticmethod\n    def is_leap(year):\n        # 윤년이면 => True\n        # 윤년이 아니면 => False\n        return year % 4 == 0\\\n                and not year % 100 == 0\\\n                or year % 400 == 0\n    \n    @staticmethod\n    def days_in(year):\n        # 만약 윤년일때는,\n        # {1: 31, 2: 29, ...}\n        # 아닐때는,\n        # {1: 31, 2: 28, ...}\n        days = Calendar.__days.copy()\n        days[2] += int(Calendar.is_leap(year))  # True => 1, False => 0\n        return days\n    \n    @staticmethod\n    def total_days_in(year):\n#         days = Calendar.days_in(year) # 월별 날짜수 \n#         total_days = 0\n#         for month, days_in_month in days.items():\n#             total_days += int(days_in_month)\n            \n#         return total_days\n\n        return functools.reduce(\n            lambda x, y: x + y, \n            Calendar.days_in(year).values(),\n        )\n    \n    @staticmethod\n    def total_days_until(year):\n        # year 를 입력하면 ( 2016 ) \n        # 1900 ~ 2015년 까지의 일 수를 더하자 ( 1900 ~ 2015 )\n        \n        # 2016이 들어오면, 1900년 ~ 2015년 까지의 모든 날짜가 더해져서 나오는 애\n#         total_days = 0\n#         for i in range(1900, year):\n#             total_days += Calendar.total_days_in(i)\n#         return total_days\n\n        return functools.reduce(\n            lambda x, y: x + y,\n            [\n                Calendar.total_days_in(i)\n                for i in range(1900, year)\n            ]\n        )\n        \n    # 1년 1월 1일 부터 특정 년도 까지의 day 수 합계를 구하시오.\n    # 예, 1년 1월 1일 부터 2년 1월 1일 => 365\n    #     1년 1월 1일 부터 3년 1월 1일 => 365 * 2\n    # 하는 이유: day 수 합계 % 7 ==> 요일 ( 1년 월 1일이 월요일입니다. )",
      "execution_count": 83,
      "outputs": []
    },
    {
      "metadata": {
        "trusted": true
      },
      "cell_type": "code",
      "source": "Calendar.is_leap(5)",
      "execution_count": 84,
      "outputs": [
        {
          "output_type": "execute_result",
          "execution_count": 84,
          "data": {
            "text/plain": "False"
          },
          "metadata": {}
        }
      ]
    },
    {
      "metadata": {
        "trusted": true
      },
      "cell_type": "code",
      "source": "Calendar.days_in(2016)",
      "execution_count": 85,
      "outputs": [
        {
          "output_type": "execute_result",
          "execution_count": 85,
          "data": {
            "text/plain": "{1: 31,\n 2: 29,\n 3: 31,\n 4: 30,\n 5: 31,\n 6: 30,\n 7: 31,\n 8: 31,\n 9: 30,\n 10: 31,\n 11: 30,\n 12: 31}"
          },
          "metadata": {}
        }
      ]
    },
    {
      "metadata": {
        "trusted": true
      },
      "cell_type": "code",
      "source": "Calendar.total_days_in(2015)",
      "execution_count": 86,
      "outputs": [
        {
          "output_type": "execute_result",
          "execution_count": 86,
          "data": {
            "text/plain": "365"
          },
          "metadata": {}
        }
      ]
    },
    {
      "metadata": {
        "trusted": true
      },
      "cell_type": "code",
      "source": "Calendar.total_days_until(1905)",
      "execution_count": 87,
      "outputs": [
        {
          "output_type": "execute_result",
          "execution_count": 87,
          "data": {
            "text/plain": "1826"
          },
          "metadata": {}
        }
      ]
    },
    {
      "metadata": {
        "trusted": true
      },
      "cell_type": "code",
      "source": "",
      "execution_count": null,
      "outputs": []
    },
    {
      "metadata": {
        "trusted": true
      },
      "cell_type": "code",
      "source": "",
      "execution_count": null,
      "outputs": []
    },
    {
      "metadata": {
        "trusted": true
      },
      "cell_type": "code",
      "source": "",
      "execution_count": null,
      "outputs": []
    },
    {
      "metadata": {
        "trusted": true
      },
      "cell_type": "code",
      "source": "",
      "execution_count": null,
      "outputs": []
    },
    {
      "metadata": {
        "trusted": true
      },
      "cell_type": "code",
      "source": "",
      "execution_count": null,
      "outputs": []
    }
  ],
  "metadata": {
    "kernelspec": {
      "name": "python36",
      "display_name": "Python 3.6",
      "language": "python"
    },
    "language_info": {
      "mimetype": "text/x-python",
      "nbconvert_exporter": "python",
      "name": "python",
      "pygments_lexer": "ipython3",
      "version": "3.6.6",
      "file_extension": ".py",
      "codemirror_mode": {
        "version": 3,
        "name": "ipython"
      }
    }
  },
  "nbformat": 4,
  "nbformat_minor": 2
}