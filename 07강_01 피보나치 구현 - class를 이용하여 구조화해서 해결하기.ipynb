{
  "cells": [
    {
      "metadata": {
        "trusted": true
      },
      "cell_type": "code",
      "source": "cache = {} # key, value pair 를 사용하기 위해서 dict 에 데이터 저장\ndef fibonacci(n):\n    #\n    return fibonacci(n-1) + fibonacci(n-2)",
      "execution_count": 1,
      "outputs": []
    },
    {
      "metadata": {
        "trusted": true
      },
      "cell_type": "code",
      "source": "class Fibonacci():\n    # 재귀함수\n    # 기본값 ( initialization )\n    def __init__(self):\n        self.cache = {}\n        self.cache[0] = 0\n        self.cache[1] = 1\n    \n    def __call__(self, n):\n#         print(\"fibonacci object called\")\n        if n in self.cache:\n            return self.cache[n]\n        \n        # n 이 self.cache 에 없는 경우 \n        #   1. n < 0\n        #   2. n = 0 => fibo(0) == 0\n        #   3. n = 1 => fibo(1) == 1\n        \n        if n < 0:\n            return 0\n        \n#         if n == 0: \n#             self.cache[n] = 0\n#             return self.cache[n]  # return fibo(0)\n        \n#         if n == 1:\n#             self.cache[n] = 1\n#             return self.cache[n]  # return fibo(1)\n        \n        result = self.__call__(n-1) + self.__call__(n-2)\n        self.cache[n] = result\n        return self.cache[n]\n        \n    def __str__(self):\n        return \"\\n\".join([\n            \n            \"fibo({n}) == {result}\".format(n=key, result=value)\n            for key, value in self.cache.items()\n        ])\n        ",
      "execution_count": 21,
      "outputs": []
    },
    {
      "metadata": {
        "trusted": true
      },
      "cell_type": "code",
      "source": "fibo = Fibonacci()    # 피보나치 객체 \n                      # 현재까지 저장된 피보 결과값 ( { } )\n    \nfibo(10)",
      "execution_count": 22,
      "outputs": [
        {
          "output_type": "execute_result",
          "execution_count": 22,
          "data": {
            "text/plain": "55"
          },
          "metadata": {}
        }
      ]
    },
    {
      "metadata": {
        "trusted": true
      },
      "cell_type": "code",
      "source": "fibo.cache",
      "execution_count": 23,
      "outputs": [
        {
          "output_type": "execute_result",
          "execution_count": 23,
          "data": {
            "text/plain": "{0: 0, 1: 1, 2: 1, 3: 2, 4: 3, 5: 5, 6: 8, 7: 13, 8: 21, 9: 34, 10: 55}"
          },
          "metadata": {}
        }
      ]
    },
    {
      "metadata": {
        "trusted": true
      },
      "cell_type": "code",
      "source": "print(fibo)",
      "execution_count": 24,
      "outputs": [
        {
          "output_type": "stream",
          "text": "fibo(0) == 0\nfibo(1) == 1\nfibo(2) == 1\nfibo(3) == 2\nfibo(4) == 3\nfibo(5) == 5\nfibo(6) == 8\nfibo(7) == 13\nfibo(8) == 21\nfibo(9) == 34\nfibo(10) == 55\n",
          "name": "stdout"
        }
      ]
    },
    {
      "metadata": {
        "trusted": true
      },
      "cell_type": "code",
      "source": "",
      "execution_count": null,
      "outputs": []
    }
  ],
  "metadata": {
    "kernelspec": {
      "name": "python36",
      "display_name": "Python 3.6",
      "language": "python"
    },
    "language_info": {
      "mimetype": "text/x-python",
      "nbconvert_exporter": "python",
      "name": "python",
      "pygments_lexer": "ipython3",
      "version": "3.6.6",
      "file_extension": ".py",
      "codemirror_mode": {
        "version": 3,
        "name": "ipython"
      }
    }
  },
  "nbformat": 4,
  "nbformat_minor": 2
}