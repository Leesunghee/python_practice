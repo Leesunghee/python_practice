{
  "cells": [
    {
      "metadata": {
        "trusted": true
      },
      "cell_type": "code",
      "source": "# 공일공 => 010\n\ndef preprocess(phonenumber):\n    phonenumber_process_dict = {\n        \"공\": 0, \n        \"영\": 0,\n        \"일\": 1,\n        \"이\": 2,\n        \"삼\": 3,\n        \"사\": 4,\n        \"오\": 5,\n        \"육\": 6,\n        \"칠\": 7,\n        \"팔\": 8,\n        \"구\": 9,\n        \"-\": \"\",\n        \" \": \"\",\n    }\n    \n    for key, value in phonenumber_process_dict.items():\n        phonenumber = phonenumber.replace(key, str(value))\n        \n    return phonenumber\n\npreprocess(\"공일공7276-45사이\")\n",
      "execution_count": 4,
      "outputs": [
        {
          "output_type": "execute_result",
          "execution_count": 4,
          "data": {
            "text/plain": "'01072764542'"
          },
          "metadata": {}
        }
      ]
    },
    {
      "metadata": {
        "trusted": true
      },
      "cell_type": "code",
      "source": "with open(\"phonenumber.txt\", \"r\") as input_file:\n#     print(input_file.readlines())\n    with open(\"phonenumber_proprocessed.txt\", \"w\") as output_file:\n        phonenumber_list = [\n            preprocess(line.replace(\"\\n\", \"\"))\n            for line in input_file.readlines()\n        ]\n        \n        for phonenumber in phonenumber_list:\n            output_file.write(phonenumber + \"\\n\")\n    \n    ",
      "execution_count": 13,
      "outputs": []
    },
    {
      "metadata": {
        "trusted": true
      },
      "cell_type": "code",
      "source": "# List comprehension 으로 더 간단히 \nwith open(\"phonenumber.txt\", \"r\") as input_file:\n#     print(input_file.readlines())\n    with open(\"phonenumber_proprocessed.txt\", \"w\") as output_file:\n        [\n            output_file.write(\n                preprocess(line.replace(\"\\n\", \"\")) + \"\\n\"\n            )\n            for line in input_file.readlines()\n        ]\n    ",
      "execution_count": 14,
      "outputs": []
    },
    {
      "metadata": {
        "trusted": true
      },
      "cell_type": "code",
      "source": "",
      "execution_count": null,
      "outputs": []
    }
  ],
  "metadata": {
    "kernelspec": {
      "name": "python36",
      "display_name": "Python 3.6",
      "language": "python"
    },
    "language_info": {
      "mimetype": "text/x-python",
      "nbconvert_exporter": "python",
      "name": "python",
      "pygments_lexer": "ipython3",
      "version": "3.6.3",
      "file_extension": ".py",
      "codemirror_mode": {
        "version": 3,
        "name": "ipython"
      }
    }
  },
  "nbformat": 4,
  "nbformat_minor": 2
}