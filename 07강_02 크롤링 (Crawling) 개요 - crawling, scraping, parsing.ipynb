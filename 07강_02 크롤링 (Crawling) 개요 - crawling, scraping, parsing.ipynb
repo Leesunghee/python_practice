{
  "cells": [
    {
      "metadata": {
        "trusted": true
      },
      "cell_type": "code",
      "source": "# Crawling => \"데이터를 모으는 과정\" ... => Google bot ",
      "execution_count": 2,
      "outputs": []
    },
    {
      "metadata": {
        "trusted": true
      },
      "cell_type": "code",
      "source": "# 웹 문서 ( HTML ) Crawling\n\n# 1. Crawling => 모든 정보를 쌩으로 다 가져오는 작업 ( 의미 X )\n    # 2. Scraping => 링크 + 어떤 특정 정보를 걸러내는 거 \n# 3. Parsing => 의미있는 정보를 뽑는 과정 ",
      "execution_count": 3,
      "outputs": []
    },
    {
      "metadata": {
        "trusted": true
      },
      "cell_type": "code",
      "source": "# 1. Crawling => urllib, urllib2, ..., requests ( HTTP Request/Response )\n# 2. Scraping => \n#   2.1 직접 Crawling 한 결과 => a 태그를 찾아서 => 다시 크롤링\n#   2.2 Scrapy\n# 3. Parsing =>\n#   3.1 Regular Expression ( 정규 표현식 )\n#   3.2 BeautifulSoup\n#   3.3 lxml ( xml )\n\n# Crawling => requests\n# Parsing => BeautifulSoup\n\n# Framework => 기능들의 집합 ( 라이브러리 집합 ) => \"틀\" => 목표 \n# Library => 기능들의 집합\n\n\n# 웹 개발\n#  - Request, Response\n#  - HTML\n#  - JSON/XML ..\n#  - DB\n#  - ...\n\n# 모듈 == 리이브러리 == 패키지\n",
      "execution_count": 5,
      "outputs": []
    },
    {
      "metadata": {
        "trusted": true
      },
      "cell_type": "code",
      "source": "# 정규 표현식\n# - 공통적인 모양새를 가지고 있는 문자열을 찾기위해서 \n# - 문자를 편하게 변환하기 위해서 \n",
      "execution_count": null,
      "outputs": []
    }
  ],
  "metadata": {
    "kernelspec": {
      "name": "python36",
      "display_name": "Python 3.6",
      "language": "python"
    },
    "language_info": {
      "mimetype": "text/x-python",
      "nbconvert_exporter": "python",
      "name": "python",
      "pygments_lexer": "ipython3",
      "version": "3.6.6",
      "file_extension": ".py",
      "codemirror_mode": {
        "version": 3,
        "name": "ipython"
      }
    }
  },
  "nbformat": 4,
  "nbformat_minor": 2
}